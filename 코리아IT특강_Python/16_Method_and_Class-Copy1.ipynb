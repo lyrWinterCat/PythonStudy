{
 "cells": [
  {
   "cell_type": "markdown",
   "id": "05fa8d43",
   "metadata": {},
   "source": [
    "## Method와 Class\n",
    "Class란 데이터 값과 함수가 상호 의미적으로 연관되어있는 의미있는 묶음을 의미합니다.\n",
    "\n",
    "### 함수의 유형\n",
    "1. 내장함수(Built-in functions): Python 언어에서 기본 제공하는 함수<br>\n",
    "2. 모듈 내 함수(Functions inside modules): 모듈에 포함되어 모듈을 import 한후 사용하는 함수 (예: 모듈명.함수명())<br>\n",
    "3. 사용자 정의 함수(Programmer defined functions): 프로그래머가 본인의 프로그램안에서 직접 만들어서 사용하는 함수<br>\n",
    "4. lambda 표현식을 활용한 함수: 이름없는 함수<br>\n",
    "<b>5. 메소드(Method in class): 특정 타입에 포함되어, 그 타입에 맞게 사용할 수 있는 함수</b>\n",
    "\n",
    "\n",
    "### Class란?\n",
    "일종의 타입이며, 데이터와 함수(Method)의 묶음입니다.<br>\n",
    "class를 통해 만든 무언가를 객체라고 표현합니다.<br>\n",
    "\n",
    "### Method란?\n",
    "class로부터 만들어지는 객체들의 함수를 Method라고 합니다.<br>\n",
    "이는 특정 타입에 포함되는 함수입니다.<br>\n",
    "\n",
    "### Method의 활용\n",
    "- 특정타입의 객체.method이름()\n"
   ]
  }
 ],
 "metadata": {
  "kernelspec": {
   "display_name": "Python 3 (ipykernel)",
   "language": "python",
   "name": "python3"
  },
  "language_info": {
   "codemirror_mode": {
    "name": "ipython",
    "version": 3
   },
   "file_extension": ".py",
   "mimetype": "text/x-python",
   "name": "python",
   "nbconvert_exporter": "python",
   "pygments_lexer": "ipython3",
   "version": "3.9.7"
  }
 },
 "nbformat": 4,
 "nbformat_minor": 5
}
