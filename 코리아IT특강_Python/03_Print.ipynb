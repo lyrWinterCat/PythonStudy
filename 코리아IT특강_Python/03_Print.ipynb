{
 "cells": [
  {
   "cell_type": "markdown",
   "id": "150596b8",
   "metadata": {},
   "source": [
    "## Print\n",
    "파이썬에서의 출력함수는 print()입니다. <br>\n",
    "print()의 다양한 출력 방식을 알아야 간단하고 깔끔하게 출력을 할 수 있습니다. \n",
    "\n",
    "### 서식문자\n",
    "- 문자열 사이에 변수를 넣어 출력할 때 간략하게 써서 표현할 수 있도록 도와줍니다.\n",
    "1. %를 사용해 출력\n",
    "    - %s : 문자열 표현하기\n",
    "    - %f : 실수 표현하기\n",
    "    - %d : 정수 표현하기\n",
    "2. format을 사용해 출력\n",
    "3. f''를 사용해 출력\n",
    "\n",
    "- 소숫점 출력은 {:.자리수f}"
   ]
  },
  {
   "cell_type": "code",
   "execution_count": 1,
   "id": "18bfe6b3",
   "metadata": {},
   "outputs": [
    {
     "name": "stdout",
     "output_type": "stream",
     "text": [
      "당신의 이름을 입력해주세요.최한빈\n",
      "내이름은 최한빈 입니다.\n"
     ]
    }
   ],
   "source": [
    "# 문자열과 변수의 출력 1\n",
    "# 내이름은 최한빈입니다.\n",
    "name = input('당신의 이름을 입력해주세요.')\n",
    "print('내이름은',name,'입니다.') # 한 줄일 경우에는 간단! "
   ]
  },
  {
   "cell_type": "code",
   "execution_count": 2,
   "id": "0c3c2d5e",
   "metadata": {
    "scrolled": true
   },
   "outputs": [
    {
     "name": "stdout",
     "output_type": "stream",
     "text": [
      "당신의 이름과 나이, 사는 지역을 입력해주세요최한빈 99 김포\n",
      "내 이름은 최한빈 입니다. 그리고 나이는 age 살이고, 사는 곳은 김포 입니다\n"
     ]
    }
   ],
   "source": [
    "# 문자열과 변수의 출력 2\n",
    "# 내 이름은 최한빈 입니다. 그리고 나이는 99살 이고, 사는 곳은 김포 입니다.\n",
    "name, age, place = input('당신의 이름과 나이, 사는 지역을 입력해주세요').split()\n",
    "age = int(age)\n",
    "print('내 이름은',name,'입니다. 그리고 나이는','age','살이고, 사는 곳은',place,'입니다') # 변수가 많아질수록 복잡해지는 것을 확인"
   ]
  },
  {
   "cell_type": "code",
   "execution_count": 10,
   "id": "624d435e",
   "metadata": {
    "scrolled": true
   },
   "outputs": [
    {
     "name": "stdout",
     "output_type": "stream",
     "text": [
      "내 이름은 최한빈입니다.\n",
      "내 이름은 최한빈입니다. 그리고 나이는 99이고, 사는 곳은 김포입니다\n",
      "내 이름은 최한빈입니다. 그리고 나이는 99이고, 사는 곳은 김포입니다.\n",
      "내 이름은 최한빈입니다. 그리고 나이는 99이고, 사는 곳은 김포입니다.\n"
     ]
    }
   ],
   "source": [
    "# 서식문자 \n",
    "# 1. %를 사용해 출력한다.\n",
    "print('내 이름은 %s입니다.' %name)\n",
    "print('내 이름은 %s입니다. 그리고 나이는 %d이고, 사는 곳은 %s입니다'%(name, age, place))\n",
    "\n",
    "# 2. format을 사용해 출력한다.\n",
    "print('내 이름은 {}입니다. 그리고 나이는 {}이고, 사는 곳은 {}입니다.'.format(name, age, place))\n",
    "\n",
    "#3. f''를 사용해 출력한다.\n",
    "print(f'내 이름은 {name}입니다. 그리고 나이는 {age}이고, 사는 곳은 {place}입니다.')"
   ]
  },
  {
   "cell_type": "code",
   "execution_count": 12,
   "id": "4e07df48",
   "metadata": {},
   "outputs": [
    {
     "name": "stdout",
     "output_type": "stream",
     "text": [
      "3.141592653589793\n",
      "3.142\n"
     ]
    }
   ],
   "source": [
    "import math\n",
    "print(math.pi)\n",
    "print('{:.3f}'.format(math.pi))"
   ]
  },
  {
   "cell_type": "markdown",
   "id": "b29c546d",
   "metadata": {},
   "source": [
    "### end와 sep 옵션\n",
    "- end : 줄 별로 print()를 사용했을 때, print() 간의 문자열 설정 // default = '\\n'\n",
    "- '\\n'은 이스케이프 문자로 줄바꿈을 의미함\n",
    "- sep : 하나의 print() 함수에서 여러 원소를 출력할 때, 원소 간의 문자열 설정 // default = ' '"
   ]
  },
  {
   "cell_type": "code",
   "execution_count": 13,
   "id": "6f62df90",
   "metadata": {},
   "outputs": [
    {
     "name": "stdout",
     "output_type": "stream",
     "text": [
      "1\n",
      "1\n"
     ]
    }
   ],
   "source": [
    "print(1)\n",
    "print(1)"
   ]
  },
  {
   "cell_type": "code",
   "execution_count": 18,
   "id": "605bc92f",
   "metadata": {},
   "outputs": [
    {
     "name": "stdout",
     "output_type": "stream",
     "text": [
      "1 2 3 4 5\n"
     ]
    }
   ],
   "source": [
    "print(1,2,3,4,5)"
   ]
  },
  {
   "cell_type": "code",
   "execution_count": 20,
   "id": "8adbdd54",
   "metadata": {
    "scrolled": true
   },
   "outputs": [
    {
     "name": "stdout",
     "output_type": "stream",
     "text": [
      "1/1\n",
      "1\n",
      "\n",
      "1/2/3/4/5\n",
      "\n",
      "1/2/3/4/5-6/7/8/9/10-"
     ]
    }
   ],
   "source": [
    "# end\n",
    "print(1, end='/') # end 설정 ('/')\n",
    "print(1)\n",
    "print(1)\n",
    "print()\n",
    "\n",
    "# sep\n",
    "print(1,2,3,4,5, sep='/') # sep 설정 ('/')\n",
    "print()\n",
    "\n",
    "# end 와 sep 설정\n",
    "print(1,2,3,4,5, sep='/', end='-')\n",
    "print(6,7,8,9,10, sep='/', end='-')"
   ]
  },
  {
   "cell_type": "code",
   "execution_count": 29,
   "id": "d46a16c1",
   "metadata": {
    "scrolled": true
   },
   "outputs": [
    {
     "name": "stdout",
     "output_type": "stream",
     "text": [
      "가로와 세로 길이를 입력해주세요. 10,20\n",
      "정사각형의 너비는 200입니다.\n",
      "\n",
      "가로와 세로 길이를 입력해주세요. 0,10\n",
      "정사각형의 너비는 0입니다.\n"
     ]
    }
   ],
   "source": [
    "# 실습문제\n",
    "'''\n",
    "정사각형의 가로길이와 세로길이를 입력받고,\n",
    "그 정사각형의 너비를 구하여 하나의 변수에 저장한 뒤,\n",
    "다음과 같이 너비를 출력하도록 하는 프로그램을 만들어 보자.\n",
    "\n",
    "입력 예시 1\n",
    "10, 20\n",
    "\n",
    "출력 예시 1\n",
    "정사각형의 너비는 200입니다.\n",
    "\n",
    "입력 예시 2\n",
    "0, 10\n",
    "\n",
    "출력 예시 2\n",
    "정사각형의 너비는 0 입니다.\n",
    "\n",
    "hint : 입력 예시를 잘 확인한 뒤, 값을 입력받으세요.\n",
    "'''\n",
    "a,b = map(int,input('가로와 세로 길이를 입력해주세요. ').split(\",\"))\n",
    "c = (a*b)\n",
    "print('정사각형의 너비는 %d입니다.'%c)\n",
    "print()\n",
    "\n",
    "a,b = map(int,input('가로와 세로 길이를 입력해주세요. ').split(\",\"))\n",
    "c = (a*b)\n",
    "print('정사각형의 너비는 %d입니다.'%c)"
   ]
  },
  {
   "cell_type": "code",
   "execution_count": 33,
   "id": "6ed1a52a",
   "metadata": {},
   "outputs": [
    {
     "name": "stdout",
     "output_type": "stream",
     "text": [
      "10, 20\n",
      "정사각형의 너비는 200입니다.\n"
     ]
    }
   ],
   "source": [
    "width, height = map(int,input().split(\", \"))\n",
    "area = width * height\n",
    "print(f'정사각형의 너비는 {area}입니다.')"
   ]
  }
 ],
 "metadata": {
  "kernelspec": {
   "display_name": "Python 3 (ipykernel)",
   "language": "python",
   "name": "python3"
  },
  "language_info": {
   "codemirror_mode": {
    "name": "ipython",
    "version": 3
   },
   "file_extension": ".py",
   "mimetype": "text/x-python",
   "name": "python",
   "nbconvert_exporter": "python",
   "pygments_lexer": "ipython3",
   "version": "3.9.7"
  }
 },
 "nbformat": 4,
 "nbformat_minor": 5
}
