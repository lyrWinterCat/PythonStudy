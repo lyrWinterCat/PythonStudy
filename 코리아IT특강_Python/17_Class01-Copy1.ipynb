{
 "cells": [
  {
   "cell_type": "markdown",
   "id": "01bcfc4d",
   "metadata": {},
   "source": [
    "## Class\n",
    "클래스란 어떤 특정한 분야와 관련된 데이터와 기능이 뭉쳐져있는 묶음입니다.<br>\n",
    "메소드란 어떤 클래스 내부에 존재하는 함수를 의미합니다.<br>\n",
    "클래스를 통해 만든 ``무언가``는 객체라고 표현합니다.<br>\n",
    "클래스에 내장된 함수들은 . 연산자를 사용해 호출합니다.<br>"
   ]
  },
  {
   "cell_type": "markdown",
   "id": "6a04598a",
   "metadata": {},
   "source": [
    "### 사용자 정의 클래스\n",
    "- 사용자가 판단하기에 상관성이 높은 데이터(attribute)와 함수(methods)를 한번에 묶을 때 class는 유용하게 사용할 수 있습니다.<br>\n",
    "- class라는 명령어를 통해 클래스를 만들 수 있습니다.\n",
    "```python\n",
    "class 클래스 이름:\n",
    "    클래스 내부 동작\n",
    "```"
   ]
  },
  {
   "cell_type": "markdown",
   "id": "9e0ba029",
   "metadata": {},
   "source": [
    "### 클래스의 데이터\n",
    "- 멤버 변수: 각 객체마다 다른 값을 가지는 데이터\n",
    "- 클래스 변수: 클래스에 종속된 변수를 의미하며, 클래스 내부의 객체는 모두 클래스 변수를 공유합니다.\n",
    "\n",
    "\n",
    "#### 예시- 클래스: 서울대학교 경영학과 학생들 \n",
    "해당 클래스의 객체는 각 경영학과 학생 한명 한명이 됨\n",
    "- 클래스 변수: 등록금, 학과\n",
    "- 멤버 변수: 학번, 이름, 과동아리, 학점, 수강과목"
   ]
  },
  {
   "cell_type": "markdown",
   "id": "80e1aefa",
   "metadata": {},
   "source": [
    "### 클래스의 용도\n",
    "클래스는 어떤 특정한 대상에 대해 유용한 ``attribute``와 methods를 모아둔 것입니다.<br>\n",
    "만약 대학교 정보 시스템에서 학생 정보를 모아둘 때 위와 같이 학생들에 대한 정보를 각각 객체로 정보를 모아서 한번에 관리하면 더욱 편리할 겁니다.<br>"
   ]
  }
 ],
 "metadata": {
  "kernelspec": {
   "display_name": "Python 3 (ipykernel)",
   "language": "python",
   "name": "python3"
  },
  "language_info": {
   "codemirror_mode": {
    "name": "ipython",
    "version": 3
   },
   "file_extension": ".py",
   "mimetype": "text/x-python",
   "name": "python",
   "nbconvert_exporter": "python",
   "pygments_lexer": "ipython3",
   "version": "3.9.7"
  }
 },
 "nbformat": 4,
 "nbformat_minor": 5
}
