{
 "cells": [
  {
   "cell_type": "code",
   "execution_count": 1,
   "id": "a77ccae0",
   "metadata": {},
   "outputs": [
    {
     "name": "stdout",
     "output_type": "stream",
     "text": [
      "[1, 2]\n"
     ]
    }
   ],
   "source": [
    "'''\n",
    "[\n",
    "[1, 2, 3, 4, 5, 6, 7, 8, 9], # 1단\n",
    "[2, 4, 6, 8, 10, 12, 14, 16, 18], # 2단\n",
    "[3, 6, 9, 12, 15, 18, 21, 24, 27], # 3단\n",
    "[4, 8, 12, 16, 20, 24, 28, 32, 36], # 4단\n",
    "[5, 10, 15, 20, 25, 30, 35, 40, 45] # 5단\n",
    "]\n",
    "hint : append(), 이중 for 문\n",
    "'''\n",
    "temp = []\n",
    "temp.append(1)\n",
    "temp.append(2)\n",
    "print(temp)"
   ]
  },
  {
   "cell_type": "code",
   "execution_count": 20,
   "id": "4990fd56",
   "metadata": {},
   "outputs": [
    {
     "name": "stdout",
     "output_type": "stream",
     "text": [
      "[1, 2, 3, 4, 5, 6, 7, 8, 9]\n",
      "[2, 4, 6, 8, 10, 12, 14, 16, 18]\n",
      "[3, 6, 9, 12, 15, 18, 21, 24, 27]\n",
      "[4, 8, 12, 16, 20, 24, 28, 32, 36]\n",
      "[5, 10, 15, 20, 25, 30, 35, 40, 45]\n"
     ]
    }
   ],
   "source": [
    "temp1=[]\n",
    "for i in range(1,6):\n",
    "    temp=[]\n",
    "    for j in range(1,10):\n",
    "        temp.append(i*j)\n",
    "\n",
    "    print(temp)\n",
    "\n",
    "        "
   ]
  },
  {
   "cell_type": "code",
   "execution_count": null,
   "id": "64ba7bb2",
   "metadata": {},
   "outputs": [],
   "source": [
    "temp = []\n",
    "for i in range(1,6):\n",
    "    temp.append([])\n",
    "    for j in range(1,10):\n",
    "        \n",
    "\n",
    "    print(temp)\n"
   ]
  }
 ],
 "metadata": {
  "kernelspec": {
   "display_name": "Python 3 (ipykernel)",
   "language": "python",
   "name": "python3"
  },
  "language_info": {
   "codemirror_mode": {
    "name": "ipython",
    "version": 3
   },
   "file_extension": ".py",
   "mimetype": "text/x-python",
   "name": "python",
   "nbconvert_exporter": "python",
   "pygments_lexer": "ipython3",
   "version": "3.9.7"
  }
 },
 "nbformat": 4,
 "nbformat_minor": 5
}
