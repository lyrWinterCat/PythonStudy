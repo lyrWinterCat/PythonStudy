{
 "cells": [
  {
   "cell_type": "code",
   "execution_count": 17,
   "id": "d75a4650",
   "metadata": {
    "id": "d75a4650",
    "scrolled": true
   },
   "outputs": [
    {
     "name": "stdout",
     "output_type": "stream",
     "text": [
      "5\n",
      "*\n",
      "**\n",
      "***\n",
      "****\n",
      "*****\n",
      "None\n"
     ]
    }
   ],
   "source": [
    "'''\n",
    "별찍기 문제(하)\n",
    "\n",
    "첫번째 줄에는 별 1개, 두번째 줄에는 별 2개, N번째 줄에는 별 N개를 출력하는 함수를 만드시오.\n",
    "단 왼쪽을 기준으로 정렬한 모양이 되도록 출력하시오.\n",
    "\n",
    "파라미터 예시 1\n",
    "2\n",
    "\n",
    "출력 예시 1\n",
    "*\n",
    "**\n",
    "\n",
    "파라미터 예시 2\n",
    "5\n",
    "\n",
    "출력 예시 2\n",
    "*\n",
    "**\n",
    "***\n",
    "****\n",
    "*****\n",
    "\n",
    "'''\n",
    "n = int(input())\n",
    "def print_star(n):\n",
    "    for i in range(1,n+1):\n",
    "        print('*'*i)\n",
    "        \n",
    "print(print_star(n))"
   ]
  },
  {
   "cell_type": "code",
   "execution_count": 39,
   "id": "cb336faa",
   "metadata": {},
   "outputs": [
    {
     "name": "stdout",
     "output_type": "stream",
     "text": [
      "*\n",
      "**\n",
      "***\n",
      "****\n",
      "*****\n"
     ]
    }
   ],
   "source": [
    "def print_star(n):\n",
    "    for i in range(1,n+1):\n",
    "        print('*'*i)\n",
    "    \n",
    "print_star(5)"
   ]
  },
  {
   "cell_type": "code",
   "execution_count": null,
   "id": "e784a5b6",
   "metadata": {
    "id": "e784a5b6"
   },
   "outputs": [],
   "source": [
    "'''\n",
    "별찍기 문제(중)\n",
    "\n",
    "첫번째 줄에는 별 1개, 두번째 줄에는 별 2개, N번째 줄에는 별 N개를 출력하는 함수를 만드시오.\n",
    "단 오른쪽을 기준으로 정렬한 모양이 되도록 출력하시오.\n",
    "\n",
    "파라미터 예시 1\n",
    "2\n",
    "\n",
    "출력 예시 1\n",
    " *\n",
    "**\n",
    "\n",
    "파라미터 예시 2\n",
    "5\n",
    "\n",
    "출력 예시 2\n",
    "    *\n",
    "   **\n",
    "  ***\n",
    " ****\n",
    "*****\n",
    "\n",
    "'''"
   ]
  },
  {
   "cell_type": "code",
   "execution_count": 50,
   "id": "f636134b",
   "metadata": {},
   "outputs": [
    {
     "name": "stdout",
     "output_type": "stream",
     "text": [
      "    *\n",
      "   **\n",
      "  ***\n",
      " ****\n",
      "*****\n"
     ]
    }
   ],
   "source": [
    "def print_star2(n):\n",
    "    for i in range(1,n+1):\n",
    "        print(' '*(n-i) + '*'*i)\n",
    "\n",
    "print_star2(5)"
   ]
  },
  {
   "cell_type": "code",
   "execution_count": null,
   "id": "e10b373f",
   "metadata": {
    "id": "e10b373f"
   },
   "outputs": [],
   "source": [
    "('''\n",
    "별찍기 문제(상)\n",
    "\n",
    "첫번째 줄에는 별 1개, 두번째 줄에는 별 3개, N번째 줄에는 별 2N - 1개를 찍어서 트리모양을 만드는 함수를 만드시오.\n",
    "\n",
    "파라미터 예시 1\n",
    "2\n",
    "\n",
    "출력 예시 1\n",
    " *\n",
    "***\n",
    "\n",
    "파라미터 예시 2\n",
    "5\n",
    "\n",
    "출력 예시 2\n",
    "    *\n",
    "   ***\n",
    "  *****\n",
    " *******\n",
    "*********''')"
   ]
  },
  {
   "cell_type": "code",
   "execution_count": 78,
   "id": "797d34d5",
   "metadata": {},
   "outputs": [
    {
     "name": "stdout",
     "output_type": "stream",
     "text": [
      "    *\n",
      "   ***\n",
      "  *****\n",
      " *******\n",
      "*********\n"
     ]
    }
   ],
   "source": [
    "def print_star3(n):\n",
    "    for i in range(1,n+1):\n",
    "        print(((n-i)*' ')+('*'*(2*i-1)))\n",
    "        \n",
    "print_star3(5) "
   ]
  },
  {
   "cell_type": "code",
   "execution_count": 19,
   "id": "dafd71bd",
   "metadata": {},
   "outputs": [
    {
     "name": "stdout",
     "output_type": "stream",
     "text": [
      "  *\n",
      " ***\n",
      "*****\n",
      " ***\n",
      "  *\n"
     ]
    }
   ],
   "source": [
    "def print_star4(n):\n",
    "    count = 0\n",
    "    a = 0\n",
    "    while count<(2*n-1):\n",
    "        if count <= (n-1):\n",
    "            a+=1\n",
    "        elif count > (n-1):\n",
    "            a-=1\n",
    "        print(' '*(n-a)+'*'*(2*a-1))\n",
    "        count+=1\n",
    "        \n",
    "        \n",
    "\n",
    "print_star4(3)\n",
    "        "
   ]
  }
 ],
 "metadata": {
  "colab": {
   "name": "Practice_01.ipynb",
   "provenance": []
  },
  "kernelspec": {
   "display_name": "Python 3 (ipykernel)",
   "language": "python",
   "name": "python3"
  },
  "language_info": {
   "codemirror_mode": {
    "name": "ipython",
    "version": 3
   },
   "file_extension": ".py",
   "mimetype": "text/x-python",
   "name": "python",
   "nbconvert_exporter": "python",
   "pygments_lexer": "ipython3",
   "version": "3.9.7"
  }
 },
 "nbformat": 4,
 "nbformat_minor": 5
}
