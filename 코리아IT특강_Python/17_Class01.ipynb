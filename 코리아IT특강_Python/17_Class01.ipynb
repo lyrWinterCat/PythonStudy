{
 "cells": [
  {
   "cell_type": "markdown",
   "id": "4c052081",
   "metadata": {},
   "source": [
    "## Class\n",
    "클래스란 어떤 특정한 분야와 관련된 데이터와 기능이 뭉쳐져 있는 묶음입니다.<br>\n",
    "메소드란 어떤 클래스 내부에 존재하는 함수를 의미합니다.<br>\n",
    "클래스를 통해 만든 ``무언가``는 ``객체``라고 표현합니다.<br>\n",
    "클래스에 내장된 함수들은 ``.`` 연산자를 사용해서 호출합니다.<br>"
   ]
  },
  {
   "cell_type": "markdown",
   "id": "6bffe028",
   "metadata": {},
   "source": [
    "### 사용자 정의 클래스\n",
    "- 사용자가 판단하기에 상관성이 높은 데이터(attribute)와 함수(methods)를 한번에 묶을 때 class는 유용하게 사용할 수 있습니다.\n",
    "- class라는 명령어를 통해 클래스를 만들 수 있습니다.\n",
    "\n",
    "```python\n",
    "class 클래스이름:\n",
    "    클래스 내부 동작\n",
    "```"
   ]
  },
  {
   "cell_type": "code",
   "execution_count": 2,
   "id": "809d2074",
   "metadata": {
    "scrolled": true
   },
   "outputs": [
    {
     "name": "stdout",
     "output_type": "stream",
     "text": [
      "<class '__main__.Student'>\n",
      "0 \n",
      "1 Hanbin\n",
      "2 예림\n"
     ]
    }
   ],
   "source": [
    "# class의 기본구조\n",
    "# 학생에 대한 정보 저장하는 클래스\n",
    "class Student:\n",
    "    studentID = 0\n",
    "    studentName = ''\n",
    "    \n",
    "s1 = Student()\n",
    "s2 = Student()\n",
    "print(type(s1))\n",
    "print(s1.studentID, s1.studentName)\n",
    "\n",
    "# 클래스 내부의 attribute 값 바꾸기\n",
    "s1.studentID = 1\n",
    "s2.studentID = 2\n",
    "\n",
    "s1.studentName = \"Hanbin\"\n",
    "s2.studentName = '예림'\n",
    "print(s1.studentID, s1.studentName)\n",
    "print(s2.studentID, s2.studentName)"
   ]
  },
  {
   "cell_type": "markdown",
   "id": "0e4e18c8",
   "metadata": {},
   "source": [
    "### 클래스의 용도\n",
    "클래스는 어떤 특정한 대상에 대해 유용한 attribute와 methods를 모아둔 것입니다.<br>\n",
    "만약 대학교 정보 시스템에서 학생 정보를 모아둘 때 위와 같이 학생들에 대한 정보를 각각 객체로 정보를 모아서 한번에 관리하면 더욱 편리할겁니다.<br>\n",
    "다음 예시를 통해서 한번 클래스의 용도에 대해 알아보겠습니다."
   ]
  },
  {
   "cell_type": "code",
   "execution_count": 4,
   "id": "4fd09eee",
   "metadata": {},
   "outputs": [
    {
     "name": "stdout",
     "output_type": "stream",
     "text": [
      "1 한빈 F\n",
      "2 병준 A\n",
      "3 규도 B\n"
     ]
    }
   ],
   "source": [
    "# 대학교 정보 시스템에서의 Student class\n",
    "class Student:\n",
    "    studentID = 0\n",
    "    studentName = ''\n",
    "    studentScore = ''\n",
    "\n",
    "s1 = Student()\n",
    "s2 = Student()\n",
    "s3 = Student()\n",
    "\n",
    "s1.studentID = 1\n",
    "s2.studentID = 2\n",
    "s3.studentID = 3\n",
    "\n",
    "s1.studentName = \"한빈\"\n",
    "s2.studentName = '병준'\n",
    "s3.studentName = '규도'\n",
    "\n",
    "s1.studentScore = 'F'\n",
    "s2.studentScore = \"A\"\n",
    "s3.studentScore = 'B'\n",
    "\n",
    "print(s1.studentID, s1.studentName, s1.studentScore)\n",
    "print(s2.studentID, s2.studentName, s2.studentScore)\n",
    "print(s3.studentID, s3.studentName, s3.studentScore)"
   ]
  },
  {
   "cell_type": "code",
   "execution_count": 8,
   "id": "563d8ff1",
   "metadata": {},
   "outputs": [
    {
     "name": "stdout",
     "output_type": "stream",
     "text": [
      "한빈은 낙제입니다.\n",
      "병준은 우등생입니다.\n",
      "규도은 학교를 잘 다니고 있습니다.\n"
     ]
    }
   ],
   "source": [
    "# 객체의 학점에 따른 처리\n",
    "studentList = [s1, s2, s3]\n",
    "\n",
    "# print(studentList)\n",
    "for s in studentList:\n",
    "    # print(s.studentName)\n",
    "    if s.studentScore == 'F':\n",
    "        print(f'{s.studentName}은 낙제입니다.')\n",
    "    elif s.studentScore == 'A':\n",
    "        print(f'{s.studentName}은 우등생입니다.')\n",
    "    else:\n",
    "        print(f'{s.studentName}은 학교를 잘 다니고 있습니다.')"
   ]
  },
  {
   "cell_type": "code",
   "execution_count": null,
   "id": "db085d81",
   "metadata": {},
   "outputs": [],
   "source": []
  }
 ],
 "metadata": {
  "kernelspec": {
   "display_name": "Python 3 (ipykernel)",
   "language": "python",
   "name": "python3"
  },
  "language_info": {
   "codemirror_mode": {
    "name": "ipython",
    "version": 3
   },
   "file_extension": ".py",
   "mimetype": "text/x-python",
   "name": "python",
   "nbconvert_exporter": "python",
   "pygments_lexer": "ipython3",
   "version": "3.9.7"
  }
 },
 "nbformat": 4,
 "nbformat_minor": 5
}
