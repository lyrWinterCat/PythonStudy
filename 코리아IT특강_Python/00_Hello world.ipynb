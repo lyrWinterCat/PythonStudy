{
 "cells": [
  {
   "cell_type": "markdown",
   "id": "3f96cad0",
   "metadata": {},
   "source": [
    "### Hello world\n",
    "- 이 셀은 마크다운 입니다.\n",
    "* 이 줄은 무슨 표현일까요?\n",
    "\n",
    "# Headline\n",
    "## Headline\n",
    "### Headline\n",
    "#### Headline\n",
    "##### Headline\n",
    "###### Headline\n",
    "\n"
   ]
  },
  {
   "cell_type": "markdown",
   "id": "0d2411a4",
   "metadata": {},
   "source": [
    "#### print() : 화면에 동작이나 데이터를 출력합니다.\n",
    "    - print 함수는 원하는 데이터를 여러개 넣어 출력 할 수 있습니다.\n",
    "    - ex) print(1,2)>> 1 2\n",
    "    \n",
    "#### type() : 데이터 타입을 확인 할 수 있습니다.\n",
    "\n",
    "#### 형변환 함수\n",
    "- 데이터 타입을 바꿔줍니다\n",
    "- int : 정수형으로 바꿔줍니다 (문자열의 경우 숫자로 표현된 것만 가능)\n",
    "- float : 실수형으로 바꿔줍니다 (문자열의 경우 숫자로 표현된 것만 가능)\n",
    "- str : 문자열로 바꿔줍니다.((일단) 모두 다 가능)\n",
    "- bool : 부울 타입으로 바꿔줍니다\n",
    "\n"
   ]
  },
  {
   "cell_type": "markdown",
   "id": "1eeab08c",
   "metadata": {},
   "source": [
    "### 주석\n",
    "1. 내가 작성한 코드를 나중에 확인할 때 사용 \n",
    "2. 내가 작성한 코드를 다른 사람과 공유할 때 사용 \n",
    "\n",
    "##### 한줄주석 : `#`\n",
    "- 간단하게 코드에 대해 설명할 때 한줄 단위로 작성 \n",
    "\n",
    "##### 여러줄 주석 : ''' 주석 내용 '''  or \"\"\"  주석 내용 \"\"\"\n",
    "- 여러줄 단위로 코드에 대해 설명할 때 내용을 작성 "
   ]
  },
  {
   "cell_type": "code",
   "execution_count": 63,
   "id": "c3b12cea",
   "metadata": {},
   "outputs": [
    {
     "name": "stdout",
     "output_type": "stream",
     "text": [
      "Hello world\n",
      "Hello world\n",
      "1\n",
      "1.0\n",
      "2j\n",
      "1\n",
      "1.0\n",
      "True\n",
      "False\n",
      "1의 타입은 <class 'int'>\n",
      "1의 타입은 <class 'int'>\n",
      "1.0의 타입은 <class 'float'>\n",
      "2j의 타입은 <class 'complex'>\n",
      "안녕?의 타입은 <class 'str'>\n",
      "True의 타입은 <class 'bool'>\n"
     ]
    }
   ],
   "source": [
    "# print\n",
    "print(\"Hello world\") # 문자열 str\n",
    "print('Hello world') # 문자열 str\n",
    "#print(abc) 문자열은 ''나 \"\"사이에 적어주어야 함\n",
    "\n",
    "print(1) # 정수 int\n",
    "print(1.0) # 실수 float\n",
    "print(2j) # 복소수형 complex \n",
    "\n",
    "print('1') # 문자열 \n",
    "print('1.0') # 문자열\n",
    "\n",
    "print(True) # bool (True)\n",
    "print(False) #bool (False)\n",
    "\n",
    "\n",
    "# type\n",
    "print(\"1의 타입은\",type(1))\n",
    "print(\"1의 타입은\",type(1))\n",
    "print(\"1.0의 타입은\",type(1.0))\n",
    "print(\"2j의 타입은\",type(2j))\n",
    "print(\"안녕?의 타입은\",type('안녕'))\n",
    "print(\"True의 타입은\",type(True))"
   ]
  },
  {
   "cell_type": "code",
   "execution_count": 21,
   "id": "72ab5a90",
   "metadata": {},
   "outputs": [
    {
     "name": "stdout",
     "output_type": "stream",
     "text": [
      "1 2 3\n"
     ]
    }
   ],
   "source": [
    "print(1,2,3)"
   ]
  },
  {
   "cell_type": "code",
   "execution_count": 33,
   "id": "ff20d0f2",
   "metadata": {},
   "outputs": [
    {
     "name": "stdout",
     "output_type": "stream",
     "text": [
      "3\n",
      "1\n",
      "-1\n",
      "10\n",
      "2.0\n",
      "1.5\n",
      "0\n",
      "1\n",
      "2\n",
      "1\n"
     ]
    }
   ],
   "source": [
    "# + : 더하기\n",
    "print(1+2) #print() 함수 내에서 연산이 가능하다.\n",
    "\n",
    "# - : 빼기\n",
    "print(2-1)\n",
    "print(1-2)\n",
    "\n",
    "# * : 곱하기\n",
    "print(2*5)\n",
    "\n",
    "# ** : 제곱\n",
    "print(2**5) # 정수에 제곱 -> 정수\n",
    "print(2.5**2) # 실수에 제곱 -> 실수\n",
    "\n",
    "# / : 나누기 -> 연산의 결과값이 실수형\n",
    "print(4/2)\n",
    "print(3/2)\n",
    "\n",
    "# % : 나머지\n",
    "print(4%2)\n",
    "print(3%2)\n",
    "\n",
    "# // : 정수 나누기 -> 연산의 결과값이 정수형\n",
    "print(4//2)\n",
    "print(3//2)"
   ]
  },
  {
   "cell_type": "code",
   "execution_count": 37,
   "id": "a53fa584",
   "metadata": {
    "scrolled": true
   },
   "outputs": [
    {
     "name": "stdout",
     "output_type": "stream",
     "text": [
      "<class 'float'>\n",
      "<class 'int'>\n",
      "\n",
      "<class 'float'>\n",
      "<class 'int'>\n"
     ]
    }
   ],
   "source": [
    "print(type(4/2))\n",
    "print(type(4//2))\n",
    "print()\n",
    "print(type(3/2))\n",
    "print(type(3//2))"
   ]
  },
  {
   "cell_type": "code",
   "execution_count": 51,
   "id": "72a122ee",
   "metadata": {},
   "outputs": [
    {
     "name": "stdout",
     "output_type": "stream",
     "text": [
      "1.0\n",
      "1\n",
      "<class 'int'>\n",
      "1\n",
      "<class 'int'>\n",
      "1\n",
      "<class 'int'>\n",
      "<class 'float'>\n",
      "<class 'str'>\n",
      "<class 'str'>\n"
     ]
    }
   ],
   "source": [
    "# 형변환 함수 (int)\n",
    "print(1.0) # 1.0\n",
    "print(int(1.0)) #1\n",
    "print(type(int(1.0))) # int\n",
    "\n",
    "print(int(1)) # 1 \n",
    "print(type(int(1))) # int\n",
    "\n",
    "print(int(\"1\")) # 1\n",
    "print(type(int(\"1\"))) # int\n",
    "\n",
    "# print(int(\"one\"))  불가능\n",
    "\n",
    "# 형변환 함수 (float)\n",
    "print(type(float(1))) #float\n",
    "\n",
    "# 형변환 함수 (str)\n",
    "print(type(str(1))) # str\n",
    "print(type(str(1.0))) #str"
   ]
  },
  {
   "cell_type": "code",
   "execution_count": 62,
   "id": "cfbb8d85",
   "metadata": {},
   "outputs": [
    {
     "name": "stdout",
     "output_type": "stream",
     "text": [
      "111\n",
      "1 1 1 1 1 \n",
      "5\n"
     ]
    }
   ],
   "source": [
    "# str 함수 연산 \n",
    "\n",
    "# + : 문자열 결합 \n",
    "print(\"1\"+\"1\"+\"1\") # 문자열에서 +는 문자열을 결합한다. \n",
    "# print(\"1\"+1) error \n",
    "\n",
    "# * : 문자열 반복\n",
    "print(\"1 \"*5) # 문자열에서 *는 문자열을 반복한다\n",
    "\n",
    "# len : 문자열의 길이\n",
    "print(len('     ')) # 공백도 문자열\n",
    "print(len('')) # 비어있는 문자열 -> 0\n"
   ]
  }
 ],
 "metadata": {
  "kernelspec": {
   "display_name": "Python 3 (ipykernel)",
   "language": "python",
   "name": "python3"
  },
  "language_info": {
   "codemirror_mode": {
    "name": "ipython",
    "version": 3
   },
   "file_extension": ".py",
   "mimetype": "text/x-python",
   "name": "python",
   "nbconvert_exporter": "python",
   "pygments_lexer": "ipython3",
   "version": "3.9.7"
  }
 },
 "nbformat": 4,
 "nbformat_minor": 5
}
