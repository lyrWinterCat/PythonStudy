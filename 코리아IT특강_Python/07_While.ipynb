{
 "cells": [
  {
   "cell_type": "markdown",
   "metadata": {},
   "source": [
    "## while문\n",
    "while문은 주어진 조건이 참인 경우 반복하는 반복문입니다.<br>\n",
    "기본적인 구조는 다음과 같습니다.<br>\n",
    "```python\n",
    "while (조건문):\n",
    "    조건이 참일 때 동작할 구문\n",
    "```\n",
    "\n",
    "조건건이 참일 때 동작할 구문 내에서 원하는 목적을 달성했으면 while 조건문에서 나올 수 있도록하는 과정이 필요합니다.<br>\n",
    "ex) while i < 10인 경우 i의 값을 반복적으로 더해준다.<br>\n",
    "\n",
    "\n",
    "while 문에서는 조건이 참인 경우 동작을 계속해서 반복하기 때문에 무한루프에 빠질 수 있습니다.<br>\n",
    "무한루프에 빠진 경우 어떤 점이 잘못됐는지 확인해봅시다.<br>\n",
    "가장 기본적인 것은 조건문을 빠져나오기 위한 조건을 출력해보는 겁니다.<br>"
   ]
  },
  {
   "cell_type": "markdown",
   "metadata": {},
   "source": [
    "### break와 continue, pass\n",
    "조건문에서는 반복문을 나오거나, 현재 반복 중인 부분만 넘기거나, 반복적인 구문 중 어느 일부분만 넘기도록 별도로 지정해놓은 예약어가 존재합니다.<br>\n",
    "\n",
    "- break: 반복문을 나올 때 사용합니다.\n",
    "- continue: 현재 반복 중인 것을 넘기고 다음 반복으로 넘어갑니다.\n",
    "- pass: if 구문으로 감싼 부분만 넘기고 현재 반복 중인 부분 중 나머지 부분을 동작합니다."
   ]
  }
 ],
 "metadata": {
  "kernelspec": {
   "display_name": "Python 3 (ipykernel)",
   "language": "python",
   "name": "python3"
  },
  "language_info": {
   "codemirror_mode": {
    "name": "ipython",
    "version": 3
   },
   "file_extension": ".py",
   "mimetype": "text/x-python",
   "name": "python",
   "nbconvert_exporter": "python",
   "pygments_lexer": "ipython3",
   "version": "3.9.7"
  }
 },
 "nbformat": 4,
 "nbformat_minor": 4
}
