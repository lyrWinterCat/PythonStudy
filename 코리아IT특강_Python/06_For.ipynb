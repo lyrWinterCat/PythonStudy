{
 "cells": [
  {
   "cell_type": "markdown",
   "metadata": {},
   "source": [
    "## 반복문(for)\n",
    "프로그래밍은 반복적인 업무를 사람보다 빠르게 할 수 있다는 장점이 있습니다.<br>\n",
    "사양에 따라 다르지만 파이썬의 경우 1초에 적어도 2천만번 이상의 연산이 가능합니다.<br>\n",
    "파이썬에서의 반복문은 주로 for와 while을 통해 구현합니다.\n",
    "\n",
    "### for문\n",
    "기본적인 구조는 다음과 같습니다.\n",
    "```python\n",
    "for i in [1, 2, 3, 4, 5, 6, 7, 8, 9, 10]:\n",
    "    print(i)\n",
    "```\n",
    "첫째 줄의 ``for`` 문장을 사용하여, 반복할 구문(들)의 시작을 나타냅니다. <br>\n",
    "``:``은 앞서의 ``if`` 구문과 동일한 영역 표시이기에 ``:`` 다음에 들여쓰기(Tab or space * 4)를 해야합니다.<br>\n",
    "들여쓰기 다음 문장부터는 반복할 문장을 작성하면 됩니다.<br>\n",
    "\n",
    "``in`` 는 for 반복문이 처음 실행될 때 리스트의 첫번째 값을 가져와서 ``i``에 저장합니다.<br>\n",
    "이후 반복문이 한번 실행될 때마다 리스트에서 값을 순서대로 하나씩 읽어서 ``i``에 저장한다는 의미입니다.<br>\n",
    "\n",
    "##### range: 값의 범위를 표현할 때 사용합니다.\n",
    "1. range(limit): ``0``에서부터  ``limit - 1``까지를 1씩 증가하는 형태로 값을 돌려줍니다.\n",
    "2. range(start, end): ``start``에서 ``end``까지를, ``1씩 증가하는 형태의`` 값으로 돌려 줍니다.<br>\n",
    "3. range(start, end, step): ``start``에서 ``end``까지의 값을 돌려 주는데, 숫자의 증가폭을 ``step``만큼으로 합니다.<br>\n",
    "\n",
    "    ex1) range(10) >> 0부터 9까지\n",
    "    ex2) range(1, 10) >> 1부터 9까지\n",
    "    ex3) range(1, 10, 2) >> 1부터 9까지 2씩 더해나감\n",
    "    \n",
    "- 대부분의 프로그래밍 언어는 시작범위를 설정하지 않으면 0번째부터 시작합니다.\n",
    "- range() 함수의 start와 step의 default 값은 각각 0과 1입니다."
   ]
  },
  {
   "cell_type": "markdown",
   "metadata": {},
   "source": [
    "### 이중 반복문\n",
    "반복문을 겹쳐서 사용하는 경우(nested) 이중 반복문이라 합니다.<br>\n",
    "현실에 있는 문제를 해결할 때 이중 반복문에 대한 이해를 하고 문제를 해결해야 하는 경우가 매우 많습니다.<br>\n",
    "\n",
    "##### 구조\n",
    "```python\n",
    "for i in range(start, end, step):\n",
    "    for j in range(start, end, step):\n",
    "        # i의 값은 변함 없고, j의 값 증가\n",
    "    # i의 값 증가\n",
    "        \n",
    "```        \n",
    "\n",
    "\n"
   ]
  },
  {
   "cell_type": "markdown",
   "metadata": {},
   "source": [
    "### 증감연산자\n",
    "할당 연산자의 일종으로 조금 더 간략하고 간단한 표현으로 값을 증가/감소시키기 위해 사용하는 연산자입니다.\n",
    "- +=: 변수의 값을 우변에 있는 값만큼 증가시킵니다.\n",
    "- -=: 변수의 값을 우변에 있는 값만큼 감소시킵니다.\n",
    "- \\*=: 변수의 값을 우변에 있는 값만큼 곱합니다.\n",
    "- /=: 변수의 값을 우변에 있는 값만큼 나눕니다.\n",
    "- %=: 변수의 값을 우변에 있는 값만큼 나누어 나머지를 구합니다.\n",
    "- //=: 변수의 값을 우변에 있는 값만큼 나눈 뒤 정수 몫을 구합니다."
   ]
  }
 ],
 "metadata": {
  "kernelspec": {
   "display_name": "Python 3 (ipykernel)",
   "language": "python",
   "name": "python3"
  },
  "language_info": {
   "codemirror_mode": {
    "name": "ipython",
    "version": 3
   },
   "file_extension": ".py",
   "mimetype": "text/x-python",
   "name": "python",
   "nbconvert_exporter": "python",
   "pygments_lexer": "ipython3",
   "version": "3.9.7"
  }
 },
 "nbformat": 4,
 "nbformat_minor": 4
}
