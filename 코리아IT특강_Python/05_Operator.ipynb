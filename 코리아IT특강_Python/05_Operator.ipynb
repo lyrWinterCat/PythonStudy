{
 "cells": [
  {
   "cell_type": "markdown",
   "id": "d328f3d0",
   "metadata": {
    "id": "d328f3d0"
   },
   "source": [
    "## Operator\n",
    "프로그래밍 언어는 다양한 연산자가 존재합니다.<br>\n",
    "연산자 간에는 우선순위가 존재합니다.<br>\n",
    "\n",
    "### 삼항 연산자\n",
    "삼항 연산자는 코드를 간단하게 작성하기에 매우 편리한 도구입니다.<br>\n",
    "삼항 연산자의 구조는 다음과 같습니다.<br>\n",
    "``조건문이 참인 경우의 동작 if 조건 else 조건문이 거짓인 경우의 동작``"
   ]
  },
  {
   "cell_type": "markdown",
   "id": "58da359e",
   "metadata": {
    "id": "58da359e"
   },
   "source": [
    "### 연산자 우선순위\n",
    "연산자를 사용할 때 Semantic error(논리적 오류)를 방지하기 위해서는 연산자 우선순위를 제대로 아는 것이 중요합니다.<br>\n",
    "프로그래밍 또한 수학에서의 연산자 우선순위와 비슷합니다.<br>\n",
    "\n",
    "https://docs.python.org/3/reference/expressions.html\n",
    "[파이썬 연산자 우선순위 사이트]\n",
    "\n",
    "##### 일반적인 연산자 우선순위\n",
    "- 단항 연산자 > 이항 연산자\n",
    "- 산술 연산자 > 관계 연산자 > 논리 연산자\n",
    "\n",
    "\n",
    "|연산자|설명|연산자 종류|이항/단항|\n",
    "|:---:|:---:|:---:|:---:|\n",
    "|**|제곱|산술 연산자|단항|\n",
    "|+x, -x, ~x|양의 부호, 음의 부호, 비트 연산자 Not|산술 연산자|단항|\n",
    "|*, /, //, %|곱하기, 나누기, 정수 나누기, 나머지|산술 연산자|이항|\n",
    "|+, -|덧셈, 뺄셈|산술 연산자|이항|\n",
    "|<<, >>|비트 연산자 shift|비트 연산자|단항|\n",
    "|&|비트 연산자 and|비트 연산자|이항|\n",
    "|^|비트 연산자 XOR|비트 연산자|이항|\n",
    "|\\||비트 연산자 OR|비트 연산자|이항|\n",
    "|in, not in, is, is not, <, <=, >, >=, !=, ==|비교를 위한 관계 연산자|관계 연산자|이항|\n",
    "|not x|not|논리 연산자|단항|\n",
    "|and|and|논리 연산자|이항|\n",
    "|or|or|논리 연산자|이항|\n",
    "|if-else|조건문|-|-|\n",
    "|lambda|lambda 구문|-|-|\n",
    "|:=|할당 연산자|-|-|\n",
    "\n",
    "- 비트 연산자는 파이썬 기초 클래스에서 크게 고려하지 않아도 됩니다. (실습자료 참고)"
   ]
  },
  {
   "cell_type": "code",
   "execution_count": null,
   "id": "e89326af",
   "metadata": {
    "id": "e89326af"
   },
   "outputs": [],
   "source": []
  }
 ],
 "metadata": {
  "colab": {
   "name": "05_Operator.ipynb",
   "provenance": []
  },
  "kernelspec": {
   "display_name": "Python 3 (ipykernel)",
   "language": "python",
   "name": "python3"
  },
  "language_info": {
   "codemirror_mode": {
    "name": "ipython",
    "version": 3
   },
   "file_extension": ".py",
   "mimetype": "text/x-python",
   "name": "python",
   "nbconvert_exporter": "python",
   "pygments_lexer": "ipython3",
   "version": "3.9.7"
  }
 },
 "nbformat": 4,
 "nbformat_minor": 5
}
