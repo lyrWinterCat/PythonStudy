{
 "cells": [
  {
   "cell_type": "markdown",
   "id": "2ea59e5b",
   "metadata": {},
   "source": [
    "## String\n",
    "문자열은 정수형 자료구조와는 살짝 다른 특징이 있습니다.\n",
    "1. 슬라이싱이 가능하다.\n",
    "2. 값을 수정할 수 없다.\n",
    "\n",
    "![문자열의 인덱스](string_slicing.JPG)\n",
    "\n",
    "### 문자열 슬라이싱(Slicing string)\n",
    "Sequencial한 자료구조는 인덱스를 가지고 있습니다.\n",
    "* 인덱스는 번호를 통해서 자료를 검색, (삽입, 삭제, 수정)할 수 있도록 도와줍니다.\n",
    "* 인덱스는 ``0번``부터 시작하고 그 ``자료의 길이 - 1``까지의 범위를 가집니다.\n",
    "파이썬에서의 문자열은 인덱스를 통해 문자를 검색할 수 있습니다.<br>\n",
    "문자열 안의 글자 혹은 글자들에 접근하기 위해서 [] 기호를 사용합니다.\n",
    "\n",
    "###  인덱스 사용 시 주의 사항\n",
    "- 범위를 벗어나는 경우 오류가 발생합니다.\n",
    "- 음수를 입력할 경우에는 뒤에서부터 차례로 검색합니다.\n",
    "- 두개 이상의 글자들에 접근하기 위해서는 :을 사용해 범위를 설정합니다.\n",
    "\n",
    "##### Slicing 예제\n",
    "```python\n",
    "sentence[0] # sentence의 0번째 글자\n",
    "sentence[-1] # sentence의 마지막 글자 == sentence[len(sentence) - 1]\n",
    "sentence[s:e] # sentence의 s부터 e-1번째에 해당하는 글자까지 포함하는 새로운 문자열 -> 슬라이싱\n",
    "sentence[s:] # sentence의 s번째에 해당하는 글자를 시작으로 문자열 끝 글자까지의 글자들을 포함하는 새로운 문자열 == sentence[s:-1]\n",
    "sentence[:e] # 문자열의 첫글자부터 e-1번째에 해당하는 글자를 끝으로하는 새로운 문자열\n",
    "sentence[start:end:step] # sentence의 start부터 end-1번째에 해당하는 글자까지 step만큼의 간격의 인덱스에 해당하는 새로운 문자열\n",
    "```"
   ]
  },
  {
   "cell_type": "code",
   "execution_count": 9,
   "id": "269e16e8",
   "metadata": {},
   "outputs": [
    {
     "name": "stdout",
     "output_type": "stream",
     "text": [
      "I love you.\n",
      "11\n",
      "I\n",
      ".\n",
      ".\n",
      "u\n",
      "o\n",
      ".uoy evol I\n"
     ]
    }
   ],
   "source": [
    "sentence = 'I love you.'\n",
    "print(sentence)\n",
    "print(len(sentence)) # 11\n",
    "\n",
    "# index\n",
    "print(sentence[0])\n",
    "print(sentence[len(sentence) - 1]) # sentence[-1]\n",
    "print(sentence[-1])\n",
    "# print(sentence[len(sentence)]) -> 범위를 벗어나는 경우\n",
    "\n",
    "# 음수인덱스\n",
    "print(sentence[-2]) # u\n",
    "print(sentence[-3]) # o\n",
    "\n",
    "# 문자열 거꾸로 출력하기\n",
    "print(sentence[::-1])"
   ]
  },
  {
   "cell_type": "markdown",
   "id": "932238ff",
   "metadata": {},
   "source": [
    "### 문자열은 값의 수정이 불가능하다.\n",
    "문자열은 한번 값을 대입하면 수정이 불가능합니다.<br>\n",
    "따라서 값을 수정하고자 한다면 반드시 새로운 문자열을 만들어서 기존 문자열의 일부 값을 취하는 형태를 해야합니다.<br>"
   ]
  },
  {
   "cell_type": "code",
   "execution_count": 16,
   "id": "4a6c1355",
   "metadata": {},
   "outputs": [
    {
     "name": "stdout",
     "output_type": "stream",
     "text": [
      "i\n",
      "hanbun\n",
      "hanbun\n"
     ]
    }
   ],
   "source": [
    "# hanbin -> hanbun\n",
    "name = 'hanbin'\n",
    "print(name[4])\n",
    "# name[4] = 'u' -> 값 수정이 불가능합니다. TypeError\n",
    "\n",
    "# 문자열을 바꿔야하는 경우\n",
    "# 방법 1\n",
    "# 새로운 문자열 만들기\n",
    "name = 'hanbun'\n",
    "print(name)\n",
    "\n",
    "# 방법 2\n",
    "# 문자열 연산 + 사용한다.\n",
    "name = 'hanbin'\n",
    "name = name[:4]+ 'u' + name[5:]\n",
    "print(name)"
   ]
  },
  {
   "cell_type": "markdown",
   "id": "ab633874",
   "metadata": {},
   "source": [
    "### '와 \"의 사용\n",
    "문자열에 '를 사용하거나 \"를 사용해야하는 경우가 존재합니다.<br>\n",
    "해당 경우에는 다음과 같이 사용합니다.<br>\n",
    "- '를 사용해야하는 경우에는 \"\"묶어서 문자열 표현하기\n",
    "- \"를 사용해야하는 경우에는 ''묶어서 문자열 표현하기"
   ]
  },
  {
   "cell_type": "code",
   "execution_count": 19,
   "id": "90558680",
   "metadata": {},
   "outputs": [
    {
     "name": "stdout",
     "output_type": "stream",
     "text": [
      "hanbin's house\n",
      "He said \"I love you\".\n"
     ]
    }
   ],
   "source": [
    "# ' 사용하기\n",
    "sentence = \"hanbin's house\"\n",
    "print(sentence)\n",
    "\n",
    "# \" 사용하기\n",
    "s2 = 'He said \"I love you\".'\n",
    "print(s2)"
   ]
  },
  {
   "cell_type": "markdown",
   "id": "2205efc1",
   "metadata": {},
   "source": [
    "혹은 Escape Sequence를 활용해서 '나 \"를 사용할 수 있습니다.<br>\n",
    "### Escape Sequence\n",
    "키보드의 backslash(``\\``) 기호를 escape 글자라고 칭합니다.<br>\n",
    "Escape sequence는 문자여래 안에 특수기호를 나타내거나, 혹은 특수한 기능을 사용할 때 활용합니다.<br>\n",
    "Escape sequence에서 ``\\``는 문자열의 길이에 포함되지 않습니다.<br>\n",
    "\n",
    "| Escape Sequence | Description |\n",
    "| :-: | :-: |\n",
    "| \\' | Single quote |\n",
    "| \\\" | Double quote |\n",
    "| \\\\ | Backslash |\n",
    "| \\t | Tab |\n",
    "| \\n | Newline |\n",
    "| \\r | Carriage return | \n",
    "\n",
    "- print() 함수를 배울 때 잠깐 설명드린 ``줄바꿈``을 의미하는 기호인 \\n이 바로 escape sequence 중 하나입니다."
   ]
  },
  {
   "cell_type": "code",
   "execution_count": 25,
   "id": "32e33fd3",
   "metadata": {},
   "outputs": [
    {
     "name": "stdout",
     "output_type": "stream",
     "text": [
      "hanbin's house\n",
      "hanbin's house\n",
      "14 14\n",
      "1\n",
      "2\n",
      "3\n",
      "4\n",
      "5\n",
      "1\t2\t3\t4\t5\n"
     ]
    }
   ],
   "source": [
    "# Escape Sequence의 첫번째 용도: 특수 기호를 나타낼 때 사용합니다.\n",
    "s3 = 'hanbin\\'s house'\n",
    "print(s3)\n",
    "print(sentence)\n",
    "print(len(s3), len(sentence))\n",
    "\n",
    "# Escape Sequence의 두번째 용도: 특수한 기능을 사용할 때 활용한다.\n",
    "print(1, 2, 3, 4, 5, sep='\\n')\n",
    "print(1, 2, 3, 4, 5, sep='\\t')"
   ]
  }
 ],
 "metadata": {
  "kernelspec": {
   "display_name": "Python 3 (ipykernel)",
   "language": "python",
   "name": "python3"
  },
  "language_info": {
   "codemirror_mode": {
    "name": "ipython",
    "version": 3
   },
   "file_extension": ".py",
   "mimetype": "text/x-python",
   "name": "python",
   "nbconvert_exporter": "python",
   "pygments_lexer": "ipython3",
   "version": "3.9.7"
  }
 },
 "nbformat": 4,
 "nbformat_minor": 5
}
