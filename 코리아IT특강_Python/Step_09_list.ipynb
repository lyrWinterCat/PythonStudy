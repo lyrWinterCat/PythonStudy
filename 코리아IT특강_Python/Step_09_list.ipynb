{
 "cells": [
  {
   "cell_type": "markdown",
   "id": "ba81ce10",
   "metadata": {},
   "source": [
    "## list 실습\n",
    "리스트는 파이썬의 대표적인 자료구조입니다.<br>\n",
    "수업 시간에 list와| 관련된 다양한 함수와 연산, bool 타입, 그리고 이중 list에 대해 알아보았습니다.<br>\n",
    "이번 실습에서는 list에 대한 함수, 연산 등에 대해 간단하게 정리한 다음에 실습 문제를 풀어보도록 하겠습니다."
   ]
  },
  {
   "cell_type": "markdown",
   "id": "91578960",
   "metadata": {},
   "source": [
    "### 리스트 관련 함수\n",
    "- len(list): 리스트의 길이를 반환합니다.\n",
    "- index(value): value의 인덱스를 반환합니다.\n",
    "- append(value): 리스트에 데이터를 뒤에 추가합니다.\n",
    "- extend(list): 리스트에 리스트를 뒤에 추가합니다.\n",
    "- insert(index, value): 리스트의 인덱스에 value를 추가합니다.\n",
    "- pop(n): n번째 데이터를 추출합니다.\n",
    "- remove(value) : 리스트내에서 주어진 아이템과 동일한 아이템을 모두 제거합니다.\n",
    "- count(value) : 리스트에서 주어진 아이템과 동일한 아이템의 갯수를 카운트합니다.\n",
    "- del(list[index]): 리스트의 데이터를 삭제합니다.\n",
    "- sort(): 데이터의 원소를 오름차순으로 정렬합니다.\n",
    "\n",
    "위의 함수를 한번 이상씩 활용하여 아래의 temp 리스트를 자유롭게 바꿔보고 출력해보세요."
   ]
  },
  {
   "cell_type": "code",
   "execution_count": 13,
   "id": "89896894",
   "metadata": {},
   "outputs": [
    {
     "name": "stdout",
     "output_type": "stream",
     "text": [
      "0\n",
      "\n",
      "['temp1']\n",
      "0\n",
      "['temp1', 'temp2']\n",
      "['temp1', 'temp3', 'temp2']\n",
      "temp1\n",
      "['temp3', 'temp2']\n",
      "['temp2']\n",
      "1\n",
      "[]\n"
     ]
    }
   ],
   "source": [
    "temp = []\n",
    "print(len(temp))\n",
    "print()\n",
    "temp.append('temp1')\n",
    "print(temp)\n",
    "print(temp.index('temp1'))\n",
    "temp.extend(['temp2'])\n",
    "print(temp)\n",
    "temp.insert(1,'temp3')\n",
    "print(temp)\n",
    "exam1=temp.pop(0)\n",
    "print(exam1)\n",
    "print(temp)\n",
    "temp.remove('temp3')\n",
    "print(temp)\n",
    "print(temp.count('temp2'))\n",
    "del(temp[0])\n",
    "print(temp)"
   ]
  },
  {
   "cell_type": "markdown",
   "id": "0b80a8f3",
   "metadata": {},
   "source": [
    "### 실습 문제 1\n",
    "\n",
    "리스트 animals는 ``[['dog', 'cat', 'tiger', 'bear', 'wolf'], ['eagle', 'pelican'], ['tuna', 'shark', 'salmon']]``의 값을 가집니다.<br>\n",
    "animals 리스트에서 다음 아이템들을 slicing 혹은 index를 이용하여 출력해 봅니다.<br>\n",
    "\n",
    "(a) ``animals``의 첫번째 item<br>\n",
    "(b) ``animals``의 마지막 item<br>\n",
    "(c) ``['dog', 'cat', 'tiger']``<br>\n",
    "(d) ``['tiger', 'bear', 'wolf']``<br>\n",
    "(e) ``['tuna', 'shark']``<br>\n",
    "\n",
    "아래의 입력창에 위의 구문을 실행해서 직접 동작을 확인해 봅니다.<br>"
   ]
  },
  {
   "cell_type": "code",
   "execution_count": 19,
   "id": "00e44783",
   "metadata": {},
   "outputs": [
    {
     "name": "stdout",
     "output_type": "stream",
     "text": [
      "dog\n",
      "salmon\n",
      "['dog', 'cat', 'tiger']\n",
      "['tiger', 'bear', 'wolf']\n",
      "['tuna', 'shark']\n"
     ]
    }
   ],
   "source": [
    "animals = [['dog', 'cat', 'tiger', 'bear', 'wolf'], ['eagle', 'pelican'], ['tuna', 'shark', 'salmon']]\n",
    "print(animals[0][0])\n",
    "print(animals[-1][-1])\n",
    "print(animals[0][:3])\n",
    "print(animals[0][2:])\n",
    "print(animals[2][:2])"
   ]
  },
  {
   "cell_type": "markdown",
   "id": "84c9ed87",
   "metadata": {},
   "source": [
    "### 실습 문제 2\n",
    "반복문과 리스트 함수를 활용하여 이중 리스트를 만들어 볼겁니다.<br>\n",
    "다음의 리스트가 만들어지도록 한번 이중 반복문을 만들어보세요."
   ]
  },
  {
   "cell_type": "code",
   "execution_count": 3,
   "id": "8c8544ca",
   "metadata": {},
   "outputs": [
    {
     "name": "stdout",
     "output_type": "stream",
     "text": [
      "[[1, 2, 3, 4, 5, 6, 7, 8, 9], [2, 4, 6, 8, 10, 12, 14, 16, 18], [3, 6, 9, 12, 15, 18, 21, 24, 27], [4, 8, 12, 16, 20, 24, 28, 32, 36], [5, 10, 15, 20, 25, 30, 35, 40, 45]]\n"
     ]
    }
   ],
   "source": [
    "'''\n",
    "[[1, 2, 3, 4, 5, 6, 7, 8, 9], \n",
    "[2, 4, 6, 8, 10, 12, 14, 16, 18], \n",
    "[3, 6, 9, 12, 15, 18, 21, 24, 27], \n",
    "[4, 8, 12, 16, 20, 24, 28, 32, 36], \n",
    "[5, 10, 15, 20, 25, 30, 35, 40, 45]]\n",
    "\n",
    "'''\n",
    "temp = []\n",
    "for i in range(5):\n",
    "    temp.append([])\n",
    "    for j in range(1, 10):\n",
    "        temp[i].append((i+1)*j)\n",
    "print(temp)"
   ]
  },
  {
   "cell_type": "code",
   "execution_count": 23,
   "id": "9ab00b77",
   "metadata": {},
   "outputs": [
    {
     "name": "stdout",
     "output_type": "stream",
     "text": [
      "[[1, 2, 3, 4, 5, 6, 7, 8, 9], [2, 4, 6, 8, 10, 12, 14, 16, 18], [3, 6, 9, 12, 15, 18, 21, 24, 27], [4, 8, 12, 16, 20, 24, 28, 32, 36], [5, 10, 15, 20, 25, 30, 35, 40, 45]]\n"
     ]
    }
   ],
   "source": [
    "temp=[]\n",
    "for i in range(1,6):\n",
    "    temp1=[]\n",
    "    for j in range(1,10):\n",
    "        temp1.append(i*j)\n",
    "\n",
    "    temp.append(temp1)\n",
    "print(temp)"
   ]
  }
 ],
 "metadata": {
  "kernelspec": {
   "display_name": "Python 3 (ipykernel)",
   "language": "python",
   "name": "python3"
  },
  "language_info": {
   "codemirror_mode": {
    "name": "ipython",
    "version": 3
   },
   "file_extension": ".py",
   "mimetype": "text/x-python",
   "name": "python",
   "nbconvert_exporter": "python",
   "pygments_lexer": "ipython3",
   "version": "3.9.7"
  }
 },
 "nbformat": 4,
 "nbformat_minor": 5
}
