{
 "cells": [
  {
   "cell_type": "markdown",
   "id": "463e1f91",
   "metadata": {},
   "source": [
    "## Lambda\n",
    "이번 실습에서는 lambda 표현식에 대해 알아보고 몇 가지 실습을 해보고자 합니다.<br>\n"
   ]
  },
  {
   "cell_type": "markdown",
   "id": "2474992a",
   "metadata": {},
   "source": [
    "lambda 표현식은 처음 프로그래밍을 접한 분들이 매우 어려워하는 표현식입니다.<br>\n",
    "아마 수업시간에도 모호하셨을 것 같고, 처음보는 표현식이기에 직관적으로 바로 와닿지는 않으셨을 겁니다.<br><br>\n",
    "이 수업시간과 해당 실습 시간을 통해서 바로 모든 것을 이해하는 것은 어렵겠지만,<br>\n",
    "여러분들은 파이썬 기초 강의를 통해서 여러가지 도구를 쥐고 프로그래밍의 세계에 나가는 것이기 때문에<br>\n",
    "최대한 이 실습을 따라오려고 하시면 그것만으로도 충분할 것이라 생각합니다.<br>"
   ]
  },
  {
   "cell_type": "markdown",
   "id": "81e6bccf",
   "metadata": {},
   "source": [
    "### lambda란?\n",
    "임시로, 혹은 일시적으로 함수를 만들어서 사용할 때 매우 간편하게 만들 수 있는 함수입니다.<br>\n",
    "또는 실행 시간 중(runtime)에 함수를 만들어야할 때 만들어서 이름을 준 뒤(변수에 할당한 뒤), 사용하기도 합니다.<br>\n",
    "지금 단계에서, 그리고 특히 파이썬에서는 후자의 경우는 거의 고려하지 않으셔도 됩니다.<br>\n",
    "그렇기 때문에 해당 실습과제에서는 lambda 함수의 실질적인 활용 용도에 대해 코드를 작성해보며 짚고 넘어가도록 하겠습니다."
   ]
  },
  {
   "cell_type": "markdown",
   "id": "c22b9087",
   "metadata": {},
   "source": [
    "### lambda 표현식의 기본 구조\n",
    "```python\n",
    "lambda 파라미터 집합: 파라미터에 대한 동작 후 리턴\n",
    "\n",
    "# ex) 주어진 값에 10을 더하는 lambda 함수\n",
    "lambda x: x + 10\n",
    "```"
   ]
  },
  {
   "cell_type": "markdown",
   "id": "67c70d85",
   "metadata": {},
   "source": [
    "### 실습 문제 1\n",
    "lambda 표현식을 활용해 파라미터 2개를 전달받아 두 값을 곱한 값을 리턴하는 함수를 만들어라.<br>\n",
    "이때 lambda 표현식을 저장할 변수의 이름은 ``lambdaFunc``으로 정한다.\n",
    "\n",
    "##### 아래 셀에서 lambda 표현식을 만들어서 작성해보고 그 아래 셀을 동작시켜 함수를 잘 정의했는지 확인해보세요."
   ]
  },
  {
   "cell_type": "code",
   "execution_count": 2,
   "id": "758fc13a",
   "metadata": {},
   "outputs": [],
   "source": [
    "lambdaFunc=lambda x,y:x*y"
   ]
  },
  {
   "cell_type": "code",
   "execution_count": 3,
   "id": "32b52c6d",
   "metadata": {},
   "outputs": [],
   "source": [
    "# 동작 확인\n",
    "assert lambdaFunc(2, 5) == 10\n",
    "assert lambdaFunc(2, -6) == -12"
   ]
  },
  {
   "cell_type": "markdown",
   "id": "fe444df9",
   "metadata": {},
   "source": [
    "### 실습 문제 2\n",
    "리스트를 파라미터로 전달받아 그 리스트의 최대값 - 최소값을 반환하는 함수를 lambda 표현식을 활용해 만들어라.<br>\n",
    "이때 lambda 표현식을 저장할 변수의 이름은 lambdaFunc2로 정한다.\n",
    "\n",
    "##### 아래 셀에서 lambda 표현식을 만들어서 작성해보고 그 아래 셀을 동작시켜 함수를 잘 정의했는지 확인해보세요."
   ]
  },
  {
   "cell_type": "code",
   "execution_count": 4,
   "id": "678c376b",
   "metadata": {},
   "outputs": [
    {
     "name": "stdout",
     "output_type": "stream",
     "text": [
      "9\n"
     ]
    }
   ],
   "source": [
    "lambdaFunc2=lambda lst : max(lst)-min(lst)\n",
    "print(lambdaFunc2([2, -6, 3, 1, 0]))"
   ]
  },
  {
   "cell_type": "code",
   "execution_count": 12,
   "id": "71bd686d",
   "metadata": {},
   "outputs": [],
   "source": [
    "# 동작 확인\n",
    "assert lambdaFunc2([1, 2, 3, 4, 5]) == 4\n",
    "assert lambdaFunc2([2, -6, 3, 1, 0]) == 9\n"
   ]
  },
  {
   "cell_type": "markdown",
   "id": "b6668f9c",
   "metadata": {},
   "source": [
    "### lambda 표현식과 함께 사용하면 유용한 함수들이 있습니다.\n",
    "- map\n",
    "- sort\n",
    "- filter: 반복가능한 객체에서 조건에 해당하는 값을 반환\n",
    "- reduce: 반복가능한 객체의 각 요소를 지정된 함수로 처리한 뒤 이전 결과와 누적해서 반환하는 함수(functools 모듈에 포함)\n",
    "\n",
    "map과 sort는 수업 시간에 다뤄봤지만 filter와 reduce는 수업시간에 다루지 않았습니다.<br>\n",
    "저는 개인적으로 filter와 reduce에서 lambda 표현식을 사용하는 것보단, 직접 코드를 작성해 해당 기능을 구현하는 것을 선호합니다.<br>\n",
    "프로그래밍을 처음 배울 때는 특정 프로그래밍에서 지원하는 기능을 최대한 활용하는 것보단 해당 기능을 차근차근 구현해보는 것이 코딩 실력을 기르는 데 더 도움이 된다고 생각하기 때문입니다.<br>\n",
    "위의 기능은 쉽게 구현이 가능하기 때문에 해당 함수를 사용하진 않지만 한번 filter와 reduce가 궁금하신 분은 개인적으로 잘 설명했다고 생각하는 블로그 주소를 첨부해드릴테니 이를 확인해보시거나 구글링을 해보시기 바랍니다!<br>\n",
    "https://dojang.io/mod/page/view.php?id=2360\n",
    "[lambda 표현식과 filter, reduce]"
   ]
  }
 ],
 "metadata": {
  "kernelspec": {
   "display_name": "Python 3 (ipykernel)",
   "language": "python",
   "name": "python3"
  },
  "language_info": {
   "codemirror_mode": {
    "name": "ipython",
    "version": 3
   },
   "file_extension": ".py",
   "mimetype": "text/x-python",
   "name": "python",
   "nbconvert_exporter": "python",
   "pygments_lexer": "ipython3",
   "version": "3.9.7"
  }
 },
 "nbformat": 4,
 "nbformat_minor": 5
}
