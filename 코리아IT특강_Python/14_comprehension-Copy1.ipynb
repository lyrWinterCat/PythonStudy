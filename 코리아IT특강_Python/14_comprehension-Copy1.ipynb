{
 "cells": [
  {
   "cell_type": "markdown",
   "id": "b97e8d56",
   "metadata": {},
   "source": [
    "## Comprehension\n",
    "집합 데이터를 더 간편하게 작성하기 위해 간략하게 집합 데이터를 만드는 코드 구문\n",
    "\n",
    "### List Comprehension의 기본 구조\n",
    "```python\n",
    "[표현식 for 변수 in 반복가능객체 (if 조건)]\n",
    "```\n",
    "- if 조건문이 있다면 반복문에서 변수에 값을 할당한 다음에 if 조건문에서 값을 판별합니다."
   ]
  },
  {
   "cell_type": "markdown",
   "id": "a5c74ac6",
   "metadata": {},
   "source": [
    "### 이중 list의 list comprehension\n",
    "```python\n",
    "[표현식 for 변수1 in 반복가능객체1 (if 조건1)\n",
    "         for 변수2 in 반복가능객체2 (if 조건2)\n",
    "         for 변수3 in 반복가능객체3 (if 조건3)\n",
    "        ...]\n",
    "```"
   ]
  },
  {
   "cell_type": "markdown",
   "id": "0ca86ece",
   "metadata": {},
   "source": [
    "### Set Comprehension의 기본 구조\n",
    "```python\n",
    "{표현식  for 변수 in (if 조건)}\n",
    "```"
   ]
  },
  {
   "cell_type": "markdown",
   "id": "3b11ca1e",
   "metadata": {},
   "source": [
    "### Dictionary Comprehension의 기본 구조\n",
    "```python\n",
    "{key:value  for 변수 in (if 조건)}\n",
    "```"
   ]
  },
  {
   "cell_type": "markdown",
   "id": "1d6cb379",
   "metadata": {},
   "source": [
    "##### 실습 문제\n",
    "어떤 문장이 주어졌을 때, 해당 문장이 알파벳 소문자인 경우에 <br>\n",
    "그 알파벳을 key로 하고, value는 그 알파벳이 문장에 등장하는 횟수를 저장하는 딕셔너리를 <br>\n",
    "딕셔너리 comprehension을 통해 만들어라\n",
    "\n",
    "hint: count 함수 사용"
   ]
  }
 ],
 "metadata": {
  "kernelspec": {
   "display_name": "Python 3 (ipykernel)",
   "language": "python",
   "name": "python3"
  },
  "language_info": {
   "codemirror_mode": {
    "name": "ipython",
    "version": 3
   },
   "file_extension": ".py",
   "mimetype": "text/x-python",
   "name": "python",
   "nbconvert_exporter": "python",
   "pygments_lexer": "ipython3",
   "version": "3.9.7"
  }
 },
 "nbformat": 4,
 "nbformat_minor": 5
}
