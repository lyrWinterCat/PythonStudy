{
 "cells": [
  {
   "cell_type": "markdown",
   "id": "648596ed",
   "metadata": {},
   "source": [
    "## While문\n",
    "while문은 주어진 조건이 참인 경우에 반복하는 구문입니다. <br>\n",
    "기본적인 구조는 다음과 같습니다.<br>\n",
    "```python\n",
    "while (조건):\n",
    "    조건이 참일 때 동작할 구문\n",
    "    조건이 참일 때 동작할 구문\n",
    "    조건이 참일 때 동작할 구문\n",
    "    ...\n",
    "\n",
    "```\n",
    "조건이 참일 때 동작할 구문 내에서 원하는 목적을 달성했으면 while 조건문에서 나올 수 있는 과정이 필요합니다. <br>\n",
    "ex) while(i < 10) 인 경우 i의 값을 반복적으로 더해주는 과정이 필요합니다. "
   ]
  },
  {
   "cell_type": "code",
   "execution_count": 1,
   "id": "2fe34cdd",
   "metadata": {
    "scrolled": true
   },
   "outputs": [
    {
     "ename": "KeyboardInterrupt",
     "evalue": "",
     "output_type": "error",
     "traceback": [
      "\u001b[1;31m---------------------------------------------------------------------------\u001b[0m",
      "\u001b[1;31mKeyboardInterrupt\u001b[0m                         Traceback (most recent call last)",
      "\u001b[1;32m~\\AppData\\Local\\Temp/ipykernel_11932/2998385460.py\u001b[0m in \u001b[0;36m<module>\u001b[1;34m\u001b[0m\n\u001b[0;32m      1\u001b[0m \u001b[1;32mwhile\u001b[0m \u001b[1;32mTrue\u001b[0m\u001b[1;33m:\u001b[0m \u001b[1;31m#무한루프\u001b[0m\u001b[1;33m\u001b[0m\u001b[1;33m\u001b[0m\u001b[0m\n\u001b[1;32m----> 2\u001b[1;33m     \u001b[1;32mpass\u001b[0m\u001b[1;33m\u001b[0m\u001b[1;33m\u001b[0m\u001b[0m\n\u001b[0m",
      "\u001b[1;31mKeyboardInterrupt\u001b[0m: "
     ]
    }
   ],
   "source": [
    "while True: #무한루프\n",
    "    pass"
   ]
  },
  {
   "cell_type": "code",
   "execution_count": 2,
   "id": "6e4415fe",
   "metadata": {},
   "outputs": [
    {
     "name": "stdout",
     "output_type": "stream",
     "text": [
      "2\n",
      "3\n",
      "4\n",
      "5\n",
      "6\n",
      "7\n",
      "8\n",
      "9\n",
      "10\n"
     ]
    }
   ],
   "source": [
    "i = 1\n",
    "while i < 10: # i 가 10일 때 종료 \n",
    "    i += 1\n",
    "    print(i)"
   ]
  },
  {
   "cell_type": "code",
   "execution_count": 9,
   "id": "1d5e67b1",
   "metadata": {
    "collapsed": true
   },
   "outputs": [
    {
     "name": "stdout",
     "output_type": "stream",
     "text": [
      "1\n",
      "2\n",
      "3\n",
      "4\n",
      "5\n",
      "6\n",
      "7\n",
      "8\n",
      "9\n",
      "----------\n",
      "1\n",
      "2\n",
      "3\n",
      "4\n",
      "5\n",
      "6\n",
      "7\n",
      "8\n",
      "9\n",
      "----------\n",
      "1\n",
      "2\n",
      "3\n",
      "4\n",
      "5\n",
      "6\n",
      "7\n",
      "8\n",
      "9\n"
     ]
    }
   ],
   "source": [
    "# for문과의 비교\n",
    "for i in range(1,10):\n",
    "    print(i)\n",
    "    \n",
    "    \n",
    "# while문은 동일한 출력을 다양한 방법으로 할 수 있다. \n",
    "print('--'*5)\n",
    "\n",
    "i = 1\n",
    "while i < 10:\n",
    "    print(i)\n",
    "    i+=1\n",
    "\n",
    "print('--'*5)\n",
    "i = 0\n",
    "while i < 9:\n",
    "    i +=1\n",
    "    print(i)\n",
    "    "
   ]
  },
  {
   "cell_type": "markdown",
   "id": "fcb56858",
   "metadata": {},
   "source": [
    "### break, continue, pass\n",
    "조건문에서는 반복문을 나오거나, 현재 반복중인 부분만 넘기거나, 반복적인 구문 중 어느 일부분만 넘기도록 별도로 지정해 놓은 예약어가 존재합니다. <br>\n",
    "- break : 반복문을 나올 때 사용합니다.\n",
    "- continue : 현재 반복중인 것을 넘기고 다음 잔복으로 넘어갑니다.\n",
    "- pass : if 구문으로 감싼 부분만 넘기고 현재 반복중인 부분 중 나머지 부분을 동작합니다. "
   ]
  },
  {
   "cell_type": "code",
   "execution_count": 14,
   "id": "c620b79d",
   "metadata": {
    "collapsed": true
   },
   "outputs": [
    {
     "name": "stdout",
     "output_type": "stream",
     "text": [
      "0\n",
      "1\n",
      "break\n",
      "\n",
      "0\n",
      "1\n",
      "continue\n",
      "3\n",
      "4\n",
      "5\n",
      "6\n",
      "7\n",
      "8\n",
      "9\n",
      "\n",
      "0\n",
      "1\n",
      "pass\n",
      "1\n",
      "2\n",
      "3\n",
      "4\n",
      "5\n",
      "6\n",
      "7\n",
      "8\n",
      "9\n"
     ]
    }
   ],
   "source": [
    "# break\n",
    "for i in range(10):\n",
    "    if i == 2:\n",
    "        print('break')\n",
    "        break\n",
    "    print(i)\n",
    "\n",
    "print()\n",
    "\n",
    "# continue\n",
    "for i in range(10):\n",
    "    if i ==2:\n",
    "        print('continue')\n",
    "        continue\n",
    "    print(i) # i == 2 일 때 실행 x\n",
    "    \n",
    "print()\n",
    "\n",
    "# pass\n",
    "for i in range(10):\n",
    "    if i == 2:\n",
    "        print('pass')\n",
    "        pass\n",
    "                \n",
    "    print(i)"
   ]
  },
  {
   "cell_type": "code",
   "execution_count": 33,
   "id": "3959faa5",
   "metadata": {
    "collapsed": true
   },
   "outputs": [
    {
     "name": "stdout",
     "output_type": "stream",
     "text": [
      "2 x 1 = 2\n",
      "2 x 2 = 4\n",
      "2 x 3 = 6\n",
      "2 x 4 = 8\n",
      "2 x 5 = 10\n",
      "2 x 6 = 12\n",
      "2 x 7 = 14\n",
      "2 x 8 = 16\n",
      "2 x 9 = 18\n",
      "----------\n",
      "3 x 1 = 3\n",
      "3 x 2 = 6\n",
      "3 x 3 = 9\n",
      "3 x 4 = 12\n",
      "3 x 5 = 15\n",
      "3 x 6 = 18\n",
      "3 x 7 = 21\n",
      "3 x 8 = 24\n",
      "3 x 9 = 27\n",
      "----------\n",
      "4 x 1 = 4\n",
      "4 x 2 = 8\n",
      "4 x 3 = 12\n",
      "4 x 4 = 16\n",
      "4 x 5 = 20\n",
      "4 x 6 = 24\n",
      "4 x 7 = 28\n",
      "4 x 8 = 32\n",
      "4 x 9 = 36\n",
      "----------\n",
      "5 x 1 = 5\n",
      "5 x 2 = 10\n",
      "5 x 3 = 15\n",
      "5 x 4 = 20\n",
      "5 x 5 = 25\n",
      "5 x 6 = 30\n",
      "5 x 7 = 35\n",
      "5 x 8 = 40\n",
      "5 x 9 = 45\n",
      "----------\n",
      "6 x 1 = 6\n",
      "6 x 2 = 12\n",
      "6 x 3 = 18\n",
      "6 x 4 = 24\n",
      "6 x 5 = 30\n",
      "6 x 6 = 36\n",
      "6 x 7 = 42\n",
      "6 x 8 = 48\n",
      "6 x 9 = 54\n",
      "----------\n",
      "7 x 1 = 7\n",
      "7 x 2 = 14\n",
      "7 x 3 = 21\n",
      "7 x 4 = 28\n",
      "7 x 5 = 35\n",
      "7 x 6 = 42\n",
      "7 x 7 = 49\n",
      "7 x 8 = 56\n",
      "7 x 9 = 63\n",
      "----------\n",
      "8 x 1 = 8\n",
      "8 x 2 = 16\n",
      "8 x 3 = 24\n",
      "8 x 4 = 32\n",
      "8 x 5 = 40\n",
      "8 x 6 = 48\n",
      "8 x 7 = 56\n",
      "8 x 8 = 64\n",
      "8 x 9 = 72\n",
      "----------\n",
      "9 x 1 = 9\n",
      "9 x 2 = 18\n",
      "9 x 3 = 27\n",
      "9 x 4 = 36\n",
      "9 x 5 = 45\n",
      "9 x 6 = 54\n",
      "9 x 7 = 63\n",
      "9 x 8 = 72\n",
      "9 x 9 = 81\n",
      "----------\n",
      "\n",
      "2 x 1 = 2\n",
      "2 x 2 = 4\n",
      "2 x 3 = 6\n",
      "2 x 4 = 8\n",
      "2 x 5 = 10\n",
      "2 x 6 = 12\n",
      "2 x 7 = 14\n",
      "2 x 8 = 16\n",
      "2 x 9 = 18\n"
     ]
    }
   ],
   "source": [
    "''' 실습 문제1\n",
    "구구단 만들기\n",
    "1. 실습문제에서 했던 구구단을 이중 while문을 사용해 만들어 봅시다.(난이도: 상)\n",
    "    - 많이 어렵\n",
    "2. for 문에서 배웠던 것처럼 2단을 while문을 사용해 만들어 봅시다. (난이도 : 하)\n",
    "    - 적당\n",
    "'''\n",
    "# 1번 \n",
    "i = 2\n",
    "while i < 10:\n",
    "    j = 1\n",
    "    while j < 10:\n",
    "        print(f'{i} x {j} = {i*j}')\n",
    "        j += 1\n",
    "    print('--'*5)\n",
    "    i += 1\n",
    "\n",
    "print()\n",
    "\n",
    "# 2번 \n",
    "l = 1\n",
    "while l < 10:\n",
    "    print(f'2 x {l} = {2*l}')\n",
    "    l += 1\n",
    "\n"
   ]
  },
  {
   "cell_type": "markdown",
   "id": "910ee576",
   "metadata": {},
   "source": [
    "### while문 작성시 주의사항\n",
    "while 문에서는 조건이 참인 경우, 동작을 계속해서 반복하기 때문에 무한루프에 빠질 수 있습니다.<br>\n",
    "무한루프에 빠진 경우 어떤 점이 잘못됐는지 확인해봅시다.<br>\n",
    "가장 기본적인 것은 조건문을 빠져나오기 위한 조건을 출력해보는 것입니다. <br>\n"
   ]
  },
  {
   "cell_type": "code",
   "execution_count": null,
   "id": "12d2433a",
   "metadata": {},
   "outputs": [],
   "source": [
    "i = 0\n",
    "while i < 10:\n",
    "    print(i)\n",
    "    i +=1 # 이게 빠졌다면 무한루프...!"
   ]
  },
  {
   "cell_type": "code",
   "execution_count": null,
   "id": "c56872b7",
   "metadata": {},
   "outputs": [],
   "source": [
    "# break의 활용\n",
    "i = 1\n",
    "while True:\n",
    "    if i == 10:\n",
    "        break\n",
    "    print(i)\n",
    "    i += 1\n",
    "        "
   ]
  },
  {
   "cell_type": "code",
   "execution_count": null,
   "id": "6f8a5dd2",
   "metadata": {},
   "outputs": [],
   "source": [
    "for i in range(10):\n",
    "    print(i)\n",
    "    \n",
    "# i 대신 x 나 temp 같은 변수도 사용가능 (아무거나)\n",
    "# 왜 i? iterater"
   ]
  }
 ],
 "metadata": {
  "kernelspec": {
   "display_name": "Python 3 (ipykernel)",
   "language": "python",
   "name": "python3"
  },
  "language_info": {
   "codemirror_mode": {
    "name": "ipython",
    "version": 3
   },
   "file_extension": ".py",
   "mimetype": "text/x-python",
   "name": "python",
   "nbconvert_exporter": "python",
   "pygments_lexer": "ipython3",
   "version": "3.9.7"
  }
 },
 "nbformat": 4,
 "nbformat_minor": 5
}
