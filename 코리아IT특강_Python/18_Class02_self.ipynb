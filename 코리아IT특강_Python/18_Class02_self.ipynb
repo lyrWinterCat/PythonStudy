{
 "cells": [
  {
   "cell_type": "markdown",
   "id": "da49c526",
   "metadata": {},
   "source": [
    "## Class\n",
    "### 생성자(Constructor)\n",
    "객체를 생성할 때마다 특정한 속성(attribute)을 자동으로 초기화하는 역할을 합니다.<br>\n",
    "__init__(self, 파라미터)의 형태로 생성자를 정의합니다.<br>\n",
    "\n",
    "### self 변수\n",
    "객체마다 고유의 attribute를 가지고 있는데, 이를 함수에서 활용하기 위해 ``현재 객체``에 대한 정보를 알려주는 변수입니다.<br>\n",
    "특정한 타입과 관련된 내장함수 ( ex) append(), add(), sort() ) 는 객체(어떤 타입을 가진 데이터).내장함수() 형태로 함수를 사용합니다.<br>\n",
    "이때 self 변수가 ``객체.내장함수``의 형태로 함수를 사용할 수 있게끔 도와줍니다.<br>\n",
    "멤버 변수(attribute)를 멤버 methods에서 사용할 때는 ``self.``을 붙이면 됩니다.<br>\n",
    "처음에는 이해하기 어려우니, 일단 멤버 변수 앞과 멤버 methods 에 self 를 붙여야 한다는 점만 외우시면 됩니다. <br>"
   ]
  },
  {
   "cell_type": "code",
   "execution_count": 1,
   "id": "fbe526d9",
   "metadata": {},
   "outputs": [
    {
     "name": "stdout",
     "output_type": "stream",
     "text": [
      "[-3, -1, 1, 2, 45]\n"
     ]
    }
   ],
   "source": [
    "temp = [1, -1, 2, -3, 45]\n",
    "temp.sort()\n",
    "\n",
    "print(temp)"
   ]
  },
  {
   "cell_type": "code",
   "execution_count": 3,
   "id": "1cc5cf31",
   "metadata": {
    "scrolled": true
   },
   "outputs": [
    {
     "name": "stdout",
     "output_type": "stream",
     "text": [
      "학번: 2016100431\n",
      "이름: 최한빈\n",
      "학점: B\n",
      "학번: 2021100111\n",
      "이름: 이규도\n",
      "학점: A\n"
     ]
    }
   ],
   "source": [
    "# class Student 구현하기\n",
    "class Student:\n",
    "    # 각 객체에 대한 맴버 변수를 구분해 주는 것이 self 의 역할\n",
    "    def __init__(self, ID, Name, Score='A'):\n",
    "        self.studentID = ID\n",
    "        self.studentName = Name\n",
    "        self.studentScore = Score\n",
    "        \n",
    "# s1 = Student() TypeError -> 아규먼트를 전달하지 않았기 때문!\n",
    "s1 = Student(2016100431, '최한빈', 'B')\n",
    "print('학번:', s1.studentID) # 학번: 2016100431\n",
    "print('이름:', s1.studentName) # 이름: 최한빈\n",
    "print('학점:', s1.studentScore) # 학점: B\n",
    "    \n",
    "s2 = Student(2021100111,'이규도')\n",
    "print('학번:', s2.studentID)\n",
    "print('이름:', s2.studentName)\n",
    "print('학점:', s2.studentScore) # 학점: A"
   ]
  },
  {
   "cell_type": "markdown",
   "id": "93cc0005",
   "metadata": {},
   "source": [
    "### Class methods 실습\n",
    "클래스는 어떤 특정한 대상에 대해 유용한 attribute, methods를 모아둔 것입니다.<br>\n",
    "일반적으로는 클래스 내부의 데이터는 직접적으로 접근이 불가능하게(Private) 구현한 경우가 많고, <br>\n",
    "클래스 내부의 데이터는 함수를 통해 불러올 수 있도록 하는 경우가 매우 많습니다."
   ]
  },
  {
   "cell_type": "code",
   "execution_count": 10,
   "id": "fbb721c4",
   "metadata": {
    "scrolled": true
   },
   "outputs": [
    {
     "name": "stdout",
     "output_type": "stream",
     "text": [
      "학번이 2016100431로 바뀌었습니다.\n",
      "이름이 최한빈로 바뀌었습니다.\n",
      "학점이 F로 바뀌었습니다.\n",
      "2016100431\n",
      "최한빈\n",
      "F\n"
     ]
    }
   ],
   "source": [
    "# Student 클래스에서 데이터를 반환하거나, 변경하는 함수 만들기\n",
    "class Student:\n",
    "    \n",
    "    def __init__(self, ID=0, Name='', Score='F'):\n",
    "        self.studentID=ID\n",
    "        self.studentName=Name\n",
    "        self.studentScore=Score\n",
    "        \n",
    "    def setID(self, ID):\n",
    "        self.studentID = ID\n",
    "        print(f'학번이 {self.studentID}로 바뀌었습니다.')\n",
    "        \n",
    "    def getID(self):\n",
    "        return self.studentID\n",
    "    \n",
    "    def setName(self,Name):\n",
    "        self.studentName=Name\n",
    "        print(f'이름이 {self.studentName}로 바뀌었습니다.')\n",
    "        \n",
    "    def getName(self):\n",
    "        return self.studentName\n",
    "    \n",
    "    def setScore(self,Score):\n",
    "        self.studentScore=Score\n",
    "        print(\"학점이 {}로 바뀌었습니다.\".format(self.studentScore))\n",
    "        \n",
    "    def getScore(self):\n",
    "        return self.studentScore\n",
    "    \n",
    "s1 = Student()\n",
    "\n",
    "s1.setID(2016100431) # 학번 바꾸기 => 학번이 2016100431로 바뀌었습니다.\n",
    "# print(s1.getID()) # 바뀐 학번 리턴\n",
    "\n",
    "s1.setName('최한빈') # 이름이 최한빈로 바뀌었습니다.\n",
    "s1.setScore('F') # 학점이 F로 바뀌었습니다.\n",
    "\n",
    "print(s1.getID()) # 바뀐 학번 리턴 => 2016100431\n",
    "print(s1.getName()) # 바뀐 이름 리턴 => 최한빈\n",
    "print(s1.getScore()) ## 바뀐 점수 리턴 => F"
   ]
  },
  {
   "cell_type": "markdown",
   "id": "be901be3",
   "metadata": {},
   "source": [
    "### 실습문제 : Student 클래스에서 낙제 여부 판단 함수 추가하기\n",
    "```python\n",
    "# 객체의 학점에 따른 처리\n",
    "studentList = [s1,s2,s3]\n",
    "#print(studentList)\n",
    "for s in studentList:\n",
    "    # print(s.studentName) # Name 대신 ID, Score 도 출력 가능\n",
    "    if s.studentScore=='F':\n",
    "        print(f'{s.studentName}은 낙제입니다.')\n",
    "    elif s.studentScore =='A':\n",
    "        print(f'{s.studentName}은 우등생입니다.')\n",
    "    else:\n",
    "        print(f'{s.studentName}은 학교를 잘 다니고 있습니다.')\n",
    "```\n",
    "\n",
    "위의 코드는 17_Class01에서 작성한 코드입니다.<br>\n",
    "각 객체별로 위의 조건에 따라 각 학점별로 위의 출력 양식을 지켜 낙제, 우등생 등을 출력하도록 하는 함수를 추가하시오.\n",
    "메소드 이름은 ``checkFail()``로 합니다.<br>\n",
    "s1.checkFail() # A : ~는 우등생 입니다.//B : ~는 학교를 잘 다니고 있습니다. //F: ~는 낙제입니다."
   ]
  },
  {
   "cell_type": "code",
   "execution_count": 34,
   "id": "e3c6abce",
   "metadata": {},
   "outputs": [
    {
     "name": "stdout",
     "output_type": "stream",
     "text": [
      "한빈은 우등생입니다.\n",
      "규성은 학교를 잘 다니고 있습니다.\n",
      "길동은 낙제입니다.\n"
     ]
    }
   ],
   "source": [
    "class Student:\n",
    "    \n",
    "    def __init__(self, ID=0, Name='', Score='F'):\n",
    "        self.studentID=ID\n",
    "        self.studentName=Name\n",
    "        self.studentScore=Score\n",
    "        \n",
    "    def setID(self, ID):\n",
    "        self.studentID = ID\n",
    "        print(f'학번이 {self.studentID}로 바뀌었습니다.')\n",
    "        \n",
    "    def getID(self):\n",
    "        return self.studentID\n",
    "    \n",
    "    def setName(self,Name):\n",
    "        self.studentName=Name\n",
    "        print(f'이름이 {self.studentName}로 바뀌었습니다.')\n",
    "        \n",
    "    def getName(self):\n",
    "        return self.studentName\n",
    "    \n",
    "    def setScore(self,Score):\n",
    "        self.studentScore=Score\n",
    "        print(\"학점이 {}로 바뀌었습니다.\".format(self.studentScore))\n",
    "        \n",
    "    def getScore(self):\n",
    "        return self.studentScore\n",
    "    \n",
    "    def checkFail(self):\n",
    "        if self.studentScore=='F':\n",
    "            print(f'{self.studentName}은 낙제입니다.')\n",
    "        elif self.studentScore =='A':\n",
    "            print(f'{self.studentName}은 우등생입니다.')\n",
    "        else:\n",
    "            print(f'{self.studentName}은 학교를 잘 다니고 있습니다.')\n",
    " \n",
    "\n",
    "\n",
    "s1 = Student(Name='한빈',Score='A')\n",
    "s1.checkFail()\n",
    "\n",
    "s2 = Student(Name='규성',Score='B')\n",
    "s2.checkFail()\n",
    "\n",
    "s3 = Student(Name='길동',Score='F')\n",
    "s3.checkFail()"
   ]
  },
  {
   "cell_type": "markdown",
   "id": "fe86310f",
   "metadata": {},
   "source": [
    "### 클래스의 데이터\n",
    "- 멤버 변수 : 각 객체마다 다른 값을 가지는 데이터\n",
    "- 클래스 변수 : 클래스에 종속된 변수를 의미하며 클래스 내부의 객체는 모두 클래스 변수를 공유합니다.\n",
    "\n",
    "#### 예시 클래스 : 서울대학교 경영학과 학생들\n",
    "- 클래스 변수 : 등록금, 학과, 학생 수 ...\n",
    "- 멤버 변수 : 학번, 이름, 과동아리, 학점, 수강과목 ...\n"
   ]
  },
  {
   "cell_type": "markdown",
   "id": "8a547308",
   "metadata": {},
   "source": [
    "### Private 변수\n",
    "데이터의 손상을 방지하기 위해서 일반적으로 클래스 내부의 데이터는 직접적으로 접근이 불가능하게(Private)하게 구현한 경우가 많습니다.<br>\n",
    "이를 위해 Private 변수를 사용합니다.<br>\n",
    "Private 변수는 변수의 이름 앞에 ``__``를 붙이면 됩니다.\n",
    "Private 변수로 정의한 것은 클래스 밖에서 (외부에서) 직접 읽고(호출) 쓰는 것이 불가능하기에 함수를 통해 이를 수정하거나 확인할 수 있도록 합니다."
   ]
  },
  {
   "cell_type": "code",
   "execution_count": 39,
   "id": "c85fe964",
   "metadata": {
    "scrolled": true
   },
   "outputs": [
    {
     "name": "stdout",
     "output_type": "stream",
     "text": [
      "A+\n",
      "학점이 A로 바뀌었습니다.\n",
      "최한빈은 우등생입니다.\n"
     ]
    }
   ],
   "source": [
    "class Student:\n",
    "    \n",
    "    def __init__(self, ID=0, Name='', Score='F'):\n",
    "        self.__studentID=ID\n",
    "        self.__studentName=Name\n",
    "        self.__studentScore=Score\n",
    "        \n",
    "    def setID(self, ID):\n",
    "        self.__studentID = ID\n",
    "        print(f'학번이 {self.__studentID}로 바뀌었습니다.')\n",
    "        \n",
    "    def getID(self):\n",
    "        return self.__studentID\n",
    "    \n",
    "    def setName(self,Name):\n",
    "        self.__studentName=Name\n",
    "        print(f'이름이 {self.__studentName}로 바뀌었습니다.')\n",
    "        \n",
    "    def getName(self):\n",
    "        return self.__studentName\n",
    "    \n",
    "    def setScore(self,Score):\n",
    "        self.__studentScore=Score\n",
    "        print(\"학점이 {}로 바뀌었습니다.\".format(self.__studentScore))\n",
    "        \n",
    "    def getScore(self):\n",
    "        return self.__studentScore\n",
    "    \n",
    "    def checkFail(self):\n",
    "        if self.__studentScore=='F':\n",
    "            print(f'{self.__studentName}은 낙제입니다.')\n",
    "        elif self.__studentScore =='A':\n",
    "            print(f'{self.__studentName}은 우등생입니다.')\n",
    "        else:\n",
    "            print(f'{self.__studentName}은 학교를 잘 다니고 있습니다.')\n",
    "s1 = Student(2016100431, '최한빈', 'A+')\n",
    "# print(s1.studentScore) AttributeError\n",
    "# print(s1.__studentScore) AttributeError\n",
    "\n",
    "print(s1.getScore()) #호출가능 (위에서 리턴함수를 만들어준 이유)\n",
    "s1.setScore('A')\n",
    "s1.checkFail()"
   ]
  },
  {
   "cell_type": "markdown",
   "id": "0fc5cc38",
   "metadata": {},
   "source": [
    "### 클래스 변수\n",
    "객체에 속하지 않고, 클래스에 속하는 변수로 객체 모두가 공유하는 변수입니다.<br>\n",
    "객체에 속하지 않기 때문에, self 로 시작하지 않고, ``클래스의 이름.``으로 시작합니다.<br>\n",
    "클래스에 속한 객체의 개수를 셀 때도 클래스 변수를 사용합니다.<br>\n"
   ]
  },
  {
   "cell_type": "code",
   "execution_count": 42,
   "id": "08bb20ea",
   "metadata": {},
   "outputs": [
    {
     "name": "stdout",
     "output_type": "stream",
     "text": [
      "1\n",
      "3\n",
      "경영학과\n"
     ]
    }
   ],
   "source": [
    "class Student:\n",
    "    __countOfStudent = 0 # 생성자 밖에서 생산 => 클래스변수\n",
    "    __departure='경영학과' # 맨 앞에 __ 쓰면 프라이빗 설정 가능\n",
    "    \n",
    "    def __init__(self, ID=0, Name='', Score='F'):\n",
    "        self.__studentID=ID\n",
    "        self.__studentName=Name\n",
    "        self.__studentScore=Score\n",
    "        Student.__countOfStudent +=1 #클래스의 이름.클래스변수명 /self.(x)\n",
    "        \n",
    "    def setID(self, ID):\n",
    "        self.__studentID = ID\n",
    "        print(f'학번이 {self.__studentID}로 바뀌었습니다.')\n",
    "        \n",
    "    def getID(self):\n",
    "        return self.__studentID\n",
    "    \n",
    "    def setName(self,Name):\n",
    "        self.__studentName=Name\n",
    "        print(f'이름이 {self.__studentName}로 바뀌었습니다.')\n",
    "        \n",
    "    def getName(self):\n",
    "        return self.__studentName\n",
    "    \n",
    "    def setScore(self,Score):\n",
    "        self.__studentScore=Score\n",
    "        print(\"학점이 {}로 바뀌었습니다.\".format(self.__studentScore))\n",
    "        \n",
    "    def getScore(self):\n",
    "        return self.__studentScore\n",
    "    \n",
    "    def checkFail(self):\n",
    "        if self.__studentScore=='F':\n",
    "            print(f'{self.__studentName}은 낙제입니다.')\n",
    "        elif self.__studentScore =='A':\n",
    "            print(f'{self.__studentName}은 우등생입니다.')\n",
    "        else:\n",
    "            print(f'{self.__studentName}은 학교를 잘 다니고 있습니다.')\n",
    "            \n",
    "    # 각 객체별로 다른 값을 가지고 있는 것이 아니기 때문에 클래스 변수는 self 사용을 안합니다.\n",
    "    def getCountOfStudent(): #클래스메소드\n",
    "        return Student.__countOfStudent\n",
    "    \n",
    "    def getDeparture():\n",
    "        return Student.__departure\n",
    "    \n",
    "s1 = Student()\n",
    "#print(s1.getID()) 이렇게 표기한것처럼\n",
    "print(Student.getCountOfStudent()) # 함수명.클래스메소드\n",
    "s2 = Student()\n",
    "s3 = Student()\n",
    "\n",
    "print(Student.getCountOfStudent())\n",
    "print(Student.getDeparture())"
   ]
  }
 ],
 "metadata": {
  "kernelspec": {
   "display_name": "Python 3 (ipykernel)",
   "language": "python",
   "name": "python3"
  },
  "language_info": {
   "codemirror_mode": {
    "name": "ipython",
    "version": 3
   },
   "file_extension": ".py",
   "mimetype": "text/x-python",
   "name": "python",
   "nbconvert_exporter": "python",
   "pygments_lexer": "ipython3",
   "version": "3.9.7"
  }
 },
 "nbformat": 4,
 "nbformat_minor": 5
}
