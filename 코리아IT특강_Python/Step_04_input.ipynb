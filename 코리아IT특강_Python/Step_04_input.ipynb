{
 "cells": [
  {
   "cell_type": "markdown",
   "id": "b6aba75f",
   "metadata": {},
   "source": [
    "## 실습\n",
    "본실습을 통해 input 메소드를 실습해보도록 하겠습니다.\n"
   ]
  },
  {
   "cell_type": "markdown",
   "id": "041ed728",
   "metadata": {},
   "source": [
    "### input 실습하기\n",
    "\n",
    "input은 실행 시간 중(runtime)에 데이터를 입력받을 때 사용하는 함수입니다.<br>\n",
    "어떤 것을 입력받는지 사용자에게 알려주기 위해 문자열을 적어 표현하기도 하고, 입력받은 값을 활용해 어떤 동작을 하기도 합니다.<br>\n",
    "두가지 이상의 값을 한번에 입력받을 때는 split()함수를 사용해 구분자를 기준으로 값을 나눠 저장하기도 하죠.<br>\n",
    "\n",
    "이번 실습에는 간단하게 하나의 프로그램을 만들어보고자 합니다.<br>\n",
    "\n",
    "##### 이름과 나이를 한번에 입력받아 이를 변수에 저장한 뒤, 두 값을 다음과 같이 출력할 수 있도록 코드를 작성해보세요.\n",
    "\n",
    "```python\n",
    "'''\n",
    "내 이름은 아무개입니다.\n",
    "내 나이는 99세입니다.\n",
    "'''\n",
    "```"
   ]
  },
  {
   "cell_type": "code",
   "execution_count": 4,
   "id": "316f7b78",
   "metadata": {},
   "outputs": [
    {
     "name": "stdout",
     "output_type": "stream",
     "text": [
      "이름과 나이를 입력해주세요아무개 99\n",
      "내 이름은 아무개입니다.\n",
      "내 나이는 99세 입니다.\n"
     ]
    }
   ],
   "source": [
    "name,age = input('이름과 나이를 입력해주세요').split()\n",
    "print(f'내 이름은 {name}입니다.')\n",
    "print(f'내 나이는 {age}세 입니다.')"
   ]
  }
 ],
 "metadata": {
  "kernelspec": {
   "display_name": "Python 3 (ipykernel)",
   "language": "python",
   "name": "python3"
  },
  "language_info": {
   "codemirror_mode": {
    "name": "ipython",
    "version": 3
   },
   "file_extension": ".py",
   "mimetype": "text/x-python",
   "name": "python",
   "nbconvert_exporter": "python",
   "pygments_lexer": "ipython3",
   "version": "3.9.7"
  }
 },
 "nbformat": 4,
 "nbformat_minor": 5
}
