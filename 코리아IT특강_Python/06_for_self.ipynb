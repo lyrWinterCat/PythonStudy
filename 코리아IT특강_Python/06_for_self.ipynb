{
 "cells": [
  {
   "cell_type": "markdown",
   "id": "c631c4d0",
   "metadata": {},
   "source": [
    "## 반복문 (for)\n",
    "프로그래밍은 반복적인 업무를 사람보다 빠르게 할 수 있다는 장점이 있습니다.<br>\n",
    "사양에 따라 다르지만 파이썬은 1초에 적어도 2천만번 이상의 연산이 가능합니다.<br>\n",
    "파이썬에서의 반복문은 주로 ``for``와 ``while``을 통해 구현합니다.<br>\n",
    "\n",
    "### for문\n",
    "기본적인 구조는 다음과 같습니다.\n",
    "```python\n",
    "for i in [1,2,3,4,5,6,7,8,9]:\n",
    "    print(i)\n",
    "```\n",
    "\n",
    "첫째 줄의 for 문장을 사용하여, 반복할 구문(들)의 시작을 나타냅니다.<br>\n",
    "``:``은 앞서 if 구문과 동일한 영역표시이기에 ``:``다음에 들여쓰기 (tap or space * 4)를 해야합니다. <br>\n",
    "들여쓰기 다음 문장부터는 반복할 문장을 작성하면 됩니다. <br>\n",
    "\n",
    "``in``은 for 반복문이 처음 실행 될 때 리스트의 첫번쨰 값을 가져와서 i에 저장합니다.<br>\n",
    "이후 반복문이 한 번 실행될 때마다 리스트에서 값을 순서대로 하나씩 읽어서 i에 저장한다는 의미입니다. <br>\n",
    "\n",
    "##### range : 값의 범위를 표현할 때 사용합니다.\n",
    "1. range(limit) : 0부터 limit - 1 까지 1씩 증가하는 형태로 값을 돌려줍니다.\n",
    "2. range(start, end) : start 에서 end - 1 까지 1씩 증가하는 형태로 값을 돌려줍니다.\n",
    "3. range(start, end , step): start 에서 end - 1 까지 step씩 증가하는 형태로 값을 돌려줍니다.\n",
    "    - ex) range(10) : 0부터 9까지 1씩 증가\n",
    "    - ex) range(2,15) : 2부터 14까지 1씩 증가\n",
    "    - ex) range(2, 15, 2) : 2부터 14까지 2씩 증가 \n",
    "    \n",
    "- 대부분의 프로그래밍 언어는 시작범위를 설정하지 않으면 0번째 부터 시작합니다.\n",
    "- range() 함수의 start 와 step 의 default 값은 각각 0과 1입니다.\n",
    "    - ex) range(10) == range(0,10) == range(0,10,1)\n"
   ]
  },
  {
   "cell_type": "code",
   "execution_count": 10,
   "id": "2586caef",
   "metadata": {
    "scrolled": true
   },
   "outputs": [
    {
     "name": "stdout",
     "output_type": "stream",
     "text": [
      "1/2/3/4/5/6/7/8/9/\n",
      "0\n",
      "1\n",
      "2\n",
      "3\n",
      "4\n",
      "5\n",
      "6\n",
      "7\n",
      "8\n",
      "9\n",
      "----------------------------------------\n",
      "0,1\n",
      "1,2\n",
      "2,3\n",
      "3,4\n",
      "4,5\n",
      "5,6\n",
      "6,7\n",
      "7,8\n",
      "8,9\n",
      "9,10\n"
     ]
    }
   ],
   "source": [
    "# for 기본구조\n",
    "for i in [1,2,3,4,5,6,7,8,9]:\n",
    "    print(i, end = '/')\n",
    "print()\n",
    "    \n",
    "# for 문의 range\n",
    "# 1. range() 함수에 정수 하나를 전달했을 때\n",
    "for i in range(10):\n",
    "    print(i)\n",
    "\n",
    "print('--' * 20)\n",
    "for i in range(10):\n",
    "    print(i,end=',')\n",
    "    print(i + 1)\n",
    "\n"
   ]
  },
  {
   "cell_type": "code",
   "execution_count": 12,
   "id": "687e41dc",
   "metadata": {
    "scrolled": true
   },
   "outputs": [
    {
     "name": "stdout",
     "output_type": "stream",
     "text": [
      "5\n",
      "6\n",
      "7\n",
      "8\n",
      "9\n",
      "----------------------------------------\n",
      "1\n",
      "2\n",
      "3\n",
      "4\n",
      "5\n",
      "6\n",
      "7\n",
      "8\n",
      "9\n"
     ]
    }
   ],
   "source": [
    "# 2. range() 함수에 정수 두 개를 전달했을 때\n",
    "for i in range(5,10):\n",
    "    print(i)\n",
    "    \n",
    "print('--' * 20)\n",
    "for i in range(1,10):\n",
    "    print(i)"
   ]
  },
  {
   "cell_type": "code",
   "execution_count": 14,
   "id": "944ab5ae",
   "metadata": {
    "scrolled": true
   },
   "outputs": [
    {
     "name": "stdout",
     "output_type": "stream",
     "text": [
      "1\n",
      "3\n",
      "5\n",
      "7\n",
      "9\n",
      "----------------------------------------\n",
      "0\n",
      "1\n",
      "2\n",
      "3\n",
      "4\n",
      "5\n",
      "6\n",
      "7\n",
      "8\n",
      "9\n"
     ]
    }
   ],
   "source": [
    "#3 range() 함수에 정수 세 개를 입력 했을때\n",
    "for i in range(1,10,2):\n",
    "    print(i)\n",
    "    \n",
    "print('--' * 20)\n",
    "for i in range(0,10,1): # ==range(10)\n",
    "    print(i)"
   ]
  },
  {
   "cell_type": "code",
   "execution_count": 18,
   "id": "08d4f8eb",
   "metadata": {
    "scrolled": true
   },
   "outputs": [
    {
     "name": "stdout",
     "output_type": "stream",
     "text": [
      "2 x 1 = 2\n",
      "2 x 2 = 4\n",
      "2 x 3 = 6\n",
      "2 x 4 = 8\n",
      "2 x 5 = 10\n",
      "2 x 6 = 12\n",
      "2 x 7 = 14\n",
      "2 x 8 = 16\n",
      "2 x 9 = 18\n"
     ]
    }
   ],
   "source": [
    "'''\n",
    "실습문제 1\n",
    "구구단 2단을 만들어서 다음과 같이 출력하도록 하십시오\n",
    "출력 예시\n",
    "2 x 1 = 2 \n",
    "...\n",
    "2 x 9 = 18\n",
    "\n",
    "'''\n",
    "for i in range(1,10):\n",
    "    print('2 x',i,'=',2*i)\n",
    "    # print(f'2x{i} = {i*2}')"
   ]
  },
  {
   "cell_type": "markdown",
   "id": "78647be6",
   "metadata": {},
   "source": [
    "### 이중 반복문\n",
    "반복문을 겹쳐서 사용하는 경우 (nested) 이중 반복문이라 합니다.<br>\n",
    "현실에 있는 문제를 해결할 때 이중 반복문에 대한 이해를 하고 문제를 해결해야 하는 경우가 매우 많습니다.<br>\n",
    "행렬! <br>\n",
    "[1,2,3,4,5]<br>\n",
    "[1,2,3,4,5]<br>\n",
    "[1,2,3,4,5]<br>\n",
    "\n",
    "\n",
    "구조\n",
    "```python\n",
    "for i in range(start, end, step):\n",
    "    for j in range(start, end, step):\n",
    "        # i의 값은 변화가 없지만 j의 값이 start부터 end-1까지 step만큼 증가 \n",
    "    # i의 값을 증가 \n",
    "```\n"
   ]
  },
  {
   "cell_type": "code",
   "execution_count": 20,
   "id": "d3355235",
   "metadata": {},
   "outputs": [
    {
     "name": "stdout",
     "output_type": "stream",
     "text": [
      "0 0\n",
      "0 1\n",
      "0 2\n",
      "0 3\n",
      "0 4\n",
      "\n",
      "1 0\n",
      "1 1\n",
      "1 2\n",
      "1 3\n",
      "1 4\n",
      "\n",
      "2 0\n",
      "2 1\n",
      "2 2\n",
      "2 3\n",
      "2 4\n",
      "\n",
      "3 0\n",
      "3 1\n",
      "3 2\n",
      "3 3\n",
      "3 4\n",
      "\n",
      "4 0\n",
      "4 1\n",
      "4 2\n",
      "4 3\n",
      "4 4\n",
      "\n"
     ]
    }
   ],
   "source": [
    "# 구조\n",
    "for i in range(5):  # i = 0 일때 j가 0~4 반복 , i=1 일때 j가 0~4 반복 ...\n",
    "    for j in range(5):\n",
    "        print(i,j)\n",
    "    print()"
   ]
  },
  {
   "cell_type": "markdown",
   "id": "529357da",
   "metadata": {},
   "source": [
    "### 증감 연산자 \n",
    "할당 연산자의 일종으로 조금 더 간략하고 간단한 표현으로 값을 증가/감소시키기 위해 사용하는 연산자 입니다.<br>\n",
    "- += : 변수의 값을 우변에 있는 값만큼 증가시킵니다.\n",
    "- -= : 변수의 값을 우변에 있는 값만큼 감소시킵니다.\n",
    "- \\*= : 변수의 값을 우변에 있는 값만큼 곱합니다.\n",
    "- /= : 변수의 값을 우변에 있는 값만큼 나눕니다.\n",
    "- %= : 변수의 값을 우변에 있는 값만큼 나누어 나머지를 구합니다.\n",
    "- //= : 변수의 값을 우변에 있는 값만큼 나눈 뒤 정수 몫을 구합니다. "
   ]
  },
  {
   "cell_type": "code",
   "execution_count": 29,
   "id": "aa807a46",
   "metadata": {
    "scrolled": true
   },
   "outputs": [
    {
     "name": "stdout",
     "output_type": "stream",
     "text": [
      "15\n",
      "5\n",
      "8\n",
      "3.0\n",
      "3\n",
      "1\n"
     ]
    }
   ],
   "source": [
    "# 증감연산자\n",
    "# +=\n",
    "a = 10\n",
    "a += 5 # a + 5\n",
    "print(a) # 15\n",
    "\n",
    "# -=\n",
    "a = 10\n",
    "a -= 5 # a - 5\n",
    "print(a) # 5\n",
    "\n",
    "# *=\n",
    "a = 2\n",
    "a *= 4\n",
    "print(a) # 8\n",
    "\n",
    "# /=  \n",
    "a = 6\n",
    "a /= 2\n",
    "print(a) # 3.0 / 정수 나누기 정수 = 실수\n",
    "\n",
    "# //=\n",
    "a = 6\n",
    "a //= 2\n",
    "print(a) # 3\n",
    "\n",
    "# %=\n",
    "a = 10\n",
    "a %=3\n",
    "print(a) # 1"
   ]
  },
  {
   "cell_type": "code",
   "execution_count": 34,
   "id": "682b5db2",
   "metadata": {},
   "outputs": [
    {
     "name": "stdout",
     "output_type": "stream",
     "text": [
      "45\n",
      "362880\n"
     ]
    }
   ],
   "source": [
    "# for 문에서의 증감 연산자 활용 \n",
    "# 값을 누적해서 더하는 경우\n",
    "\n",
    "total_sum=0\n",
    "for i in range(10):\n",
    "    total_sum += i\n",
    "print(total_sum) # 0부터 9까지 더함\n",
    "\n",
    "# 값을 누적해서 곱하는 경우\n",
    "total_mul = 1\n",
    "for i in range(1,10):\n",
    "    total_mul *= i\n",
    "print(total_mul)"
   ]
  },
  {
   "cell_type": "code",
   "execution_count": null,
   "id": "2509ff2c",
   "metadata": {},
   "outputs": [],
   "source": [
    "range(start,end,step)"
   ]
  },
  {
   "cell_type": "code",
   "execution_count": 1,
   "id": "4d50c59a",
   "metadata": {},
   "outputs": [
    {
     "name": "stdout",
     "output_type": "stream",
     "text": [
      "10\n",
      "9\n",
      "8\n",
      "7\n",
      "6\n",
      "5\n",
      "4\n",
      "3\n",
      "2\n",
      "1\n",
      "0\n"
     ]
    }
   ],
   "source": [
    "# 감소하는 반복문\n",
    "for i in range(10,-1,-1): # start부터 시작, end+1까지 반복 , -1씩 증가(==1씩 감소)\n",
    "    print(i) #                             ,-1 하나 전까지 반복(==0)"
   ]
  }
 ],
 "metadata": {
  "kernelspec": {
   "display_name": "Python 3 (ipykernel)",
   "language": "python",
   "name": "python3"
  },
  "language_info": {
   "codemirror_mode": {
    "name": "ipython",
    "version": 3
   },
   "file_extension": ".py",
   "mimetype": "text/x-python",
   "name": "python",
   "nbconvert_exporter": "python",
   "pygments_lexer": "ipython3",
   "version": "3.9.7"
  }
 },
 "nbformat": 4,
 "nbformat_minor": 5
}
