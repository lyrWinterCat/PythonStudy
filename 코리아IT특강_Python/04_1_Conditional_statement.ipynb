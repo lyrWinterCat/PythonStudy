{
 "cells": [
  {
   "cell_type": "markdown",
   "id": "98b7a998",
   "metadata": {},
   "source": [
    "## Conditional statement\n",
    "조건문은 특정한 조건에 해당될 때만 동작하도록 합니다.<br>\n",
    "if ~ else  ~의 구조로 작성하며 여러번 중첩(nested)해서 사용 가능합니다.<br>\n",
    "파이썬에서의 조건문은 들여쓰기를 해야합니다. (Tab or space * 4)<br>\n",
    "이를 지키지 않는 경우 Syntax 오류가 발생합니다.\n",
    "\n",
    "### True/False\n",
    "일반적으로 조건은 bool 타입을 사용하여 참/거짓을 판별합니다.<br>\n",
    "    \n",
    "- True: 참\n",
    "- False: 거짓\n",
    "\n",
    "다른 타입의 경우에도 조건문에서 True/False의 역할을 할 수 있습니다.\n",
    "1. str\n",
    "    - '': False\n",
    "    - 그 외의 문자열: True\n",
    "2. int\n",
    "    - 0: False\n",
    "    - 그 외의 정수: True\n",
    "3. float\n",
    "    - 0.0: False\n",
    "    - 그 외의 실수: True\n",
    "    \n",
    "<b>=> 프로그래밍 문제에서 다음과 같은 방식으로 자주 조건문을 판별하니 이를 잘 기억해두시기 바랍니다.</b>"
   ]
  },
  {
   "cell_type": "code",
   "execution_count": 13,
   "id": "c60e0ddb",
   "metadata": {},
   "outputs": [
    {
     "name": "stdout",
     "output_type": "stream",
     "text": [
      "조건문이 참\n",
      "조건문이 참\n",
      "조건문이 거짓\n",
      ",를 기준으로 세개를 입력해주세요.,0,1\n",
      "두번째 조건\n"
     ]
    }
   ],
   "source": [
    "'''\n",
    "1. 조건에 해당될 때만 동작하게끔 하는 조건문\n",
    "if (조건):\n",
    "    조건이 참일 때 동작\n",
    "'''\n",
    "if True:\n",
    "    print('조건문이 참')\n",
    "    \n",
    "'''\n",
    "2. 조건에 해당될 때 A를 동작하고 조건에 해당되지 않는 경우는 B만 동작하게끔 하는 조건문\n",
    "if 조건:\n",
    "    A\n",
    "else:\n",
    "    B\n",
    "'''\n",
    "if True:\n",
    "    print('조건문이 참')\n",
    "else:\n",
    "    print('조건문이 거짓')\n",
    "\n",
    "if False:\n",
    "    print('조건문이 참')\n",
    "else:\n",
    "    print('조건문이 거짓')\n",
    "    \n",
    "'''\n",
    "3. 첫번째 조건에 해당될 때 A를 동작하고,\n",
    "첫번째 동작에 해당되지 않지만 두번째 조건에 해당될 때 B를 동작하고,\n",
    "첫번째 동작에 해당되지 않고, 두번째 조건도 해당되지 않고, 세번째 조건에 해당될 때 C를 동작하고,\n",
    "... ...\n",
    "모두다 해당되지 않을 때 Final을 동작하는 조건문\n",
    "\n",
    "# 비효율적인 조건문 1\n",
    "if (조건1):\n",
    "    A\n",
    "if (not 조건1 and 조건2):\n",
    "    B\n",
    "if (not 조건1 and not 조건2 and 조건3):\n",
    "    C\n",
    "if (not 조건1 and not 조건2 and not 조건3 and ...):\n",
    "    Final\n",
    "    \n",
    "# 비효율적인 조건문 2\n",
    "if (조건1):\n",
    "    A\n",
    "else:\n",
    "    if (조건2):\n",
    "        B\n",
    "    else:\n",
    "        if (조건3):\n",
    "            C\n",
    "        else:\n",
    "            ...\n",
    "\n",
    "if ~ elif ~ else 구문\n",
    "\n",
    "if 첫번째 조건:\n",
    "    A\n",
    "elif 두번째 조건:\n",
    "    B\n",
    "elif 세번째 조건:\n",
    "    C\n",
    "else:\n",
    "    Final\n",
    "    \n",
    "'''\n",
    "condition1, condition2, condition3 = map(bool, input(',를 기준으로 세개를 입력해주세요.').split(','))\n",
    "\n",
    "if condition1:\n",
    "    print('첫번째 조건')\n",
    "elif condition2:\n",
    "    print('두번째 조건')\n",
    "elif condition3:\n",
    "    print('세번째 조건')\n",
    "else:\n",
    "    print('모두 False')"
   ]
  },
  {
   "cell_type": "code",
   "execution_count": 3,
   "id": "6d15ffcd",
   "metadata": {},
   "outputs": [
    {
     "name": "stdout",
     "output_type": "stream",
     "text": [
      "조건문이 거짓\n"
     ]
    }
   ],
   "source": [
    "if False:\n",
    "    print('조건문이 참')\n",
    "else:\n",
    "    print('조건문이 거짓')"
   ]
  }
 ],
 "metadata": {
  "kernelspec": {
   "display_name": "Python 3 (ipykernel)",
   "language": "python",
   "name": "python3"
  },
  "language_info": {
   "codemirror_mode": {
    "name": "ipython",
    "version": 3
   },
   "file_extension": ".py",
   "mimetype": "text/x-python",
   "name": "python",
   "nbconvert_exporter": "python",
   "pygments_lexer": "ipython3",
   "version": "3.9.7"
  }
 },
 "nbformat": 4,
 "nbformat_minor": 5
}
