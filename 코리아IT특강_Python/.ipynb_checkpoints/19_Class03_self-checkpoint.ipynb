{
 "cells": [
  {
   "cell_type": "markdown",
   "id": "c171c7a0",
   "metadata": {},
   "source": [
    "## Class\n",
    "### Magic Methods\n",
    "파이썬 빌트인 타입의 메소드나 연산자를 오버로딩(overloading) 해서 클래스 간 연산 등을 가능하게 합니다.<br>\n",
    "dir()을 통해서 클래스의 모든 속성과 메소드를 확인할 수 있습니다.<br>\n",
    "\n",
    "### Magic Methods 의 종류\n",
    "\n",
    "```python\n",
    "\"\"\"\n",
    "연산자     메소드                     설명\n",
    "─────────────────────────\n",
    "         <binary operator>\n",
    "         \n",
    " +      __add__(self, other)         덧셈 \n",
    " *      __mul__(self, other)         곱셈\n",
    " -      __sub__(self, other)         뺄셈 \n",
    " /      __truediv__(self, other)     나눗셈\n",
    " //     __floordiv__(self, other)\n",
    " %       __mod__(self, other)             나머지\n",
    " **      __pow__(self, other[, modulo])\n",
    " >>      __lshift__(self, other)\n",
    " <<      __rshift__(self, other)\n",
    " &       __and__(self, other)\n",
    " ^      __xor__(self, other)\n",
    " |      __or__(self, other)\n",
    "    \n",
    "    \n",
    "             <Extended operator>\n",
    "             \n",
    "+=         __iadd__(self, other)\n",
    "-=         __isub__(self, other)\n",
    "*=         __imul__(self, other)\n",
    "/=         __idiv__(self, other)\n",
    "//=        __ifloordiv__(self, other)\n",
    "%=         __imod__(self, other)\n",
    "**=        __ipow__(self, other)\n",
    "<<=        __ilshift__(self, other)\n",
    ">>=        __irshift__(self, other)\n",
    "&=         __iand__(self, other)\n",
    "^=         __ixor__(self, other)\n",
    "|=         __ior__(self, other)\n",
    "\n",
    "\n",
    "            <unary operators>\n",
    "-\n",
    "+\n",
    "abs()\n",
    "~\n",
    "complex()\n",
    "int()\n",
    "long()\n",
    "float()\n",
    "oct()\n",
    "hex()\n",
    "        \n",
    "\n",
    " <       __lt__(self, other)         작다(미만) \n",
    " <=      __le__(self, other)         작거나 같다(이하) \n",
    " ==      __eq__(self, other)         같다 \n",
    " !=      __ne__(self, other)         같지 않다 \n",
    " >      __gt__(self, other)          크다(초과)\n",
    " >=     __ge__(self, other)          크거나 같다(이상) \n",
    " [index]   __getitem__(self, index)   인덱스 연산자 \n",
    " in       __contains__(self, value)   멤버 확인  \n",
    " len     __len__(self)                요소 길이 \n",
    " str      __str__(self)                문자열 표현 \n",
    " \n",
    " \n",
    "         __init__\n",
    "         __del__\n",
    "         __new__\n",
    " \n",
    "         __repr__(self)              representative form\n",
    "\"\"\"\n",
    "```"
   ]
  },
  {
   "cell_type": "code",
   "execution_count": 1,
   "id": "7dc3fb65",
   "metadata": {
    "scrolled": true
   },
   "outputs": [
    {
     "name": "stdout",
     "output_type": "stream",
     "text": [
      "['__abs__', '__add__', '__and__', '__bool__', '__ceil__', '__class__', '__delattr__', '__dir__', '__divmod__', '__doc__', '__eq__', '__float__', '__floor__', '__floordiv__', '__format__', '__ge__', '__getattribute__', '__getnewargs__', '__gt__', '__hash__', '__index__', '__init__', '__init_subclass__', '__int__', '__invert__', '__le__', '__lshift__', '__lt__', '__mod__', '__mul__', '__ne__', '__neg__', '__new__', '__or__', '__pos__', '__pow__', '__radd__', '__rand__', '__rdivmod__', '__reduce__', '__reduce_ex__', '__repr__', '__rfloordiv__', '__rlshift__', '__rmod__', '__rmul__', '__ror__', '__round__', '__rpow__', '__rrshift__', '__rshift__', '__rsub__', '__rtruediv__', '__rxor__', '__setattr__', '__sizeof__', '__str__', '__sub__', '__subclasshook__', '__truediv__', '__trunc__', '__xor__', 'as_integer_ratio', 'bit_length', 'conjugate', 'denominator', 'from_bytes', 'imag', 'numerator', 'real', 'to_bytes']\n"
     ]
    }
   ],
   "source": [
    "# dir(type)\n",
    "print(dir(int))"
   ]
  },
  {
   "cell_type": "code",
   "execution_count": 6,
   "id": "91f0354d",
   "metadata": {
    "scrolled": true
   },
   "outputs": [
    {
     "name": "stdout",
     "output_type": "stream",
     "text": [
      "<__main__.Integer object at 0x0000028267BE62B0>\n",
      "30\n",
      "10\n"
     ]
    }
   ],
   "source": [
    "class Integer: # 정수값을 저장하는 클래스\n",
    "    \n",
    "    def __init__(self, integer):\n",
    "        self.integer = integer\n",
    "        \n",
    "i01 = Integer(10)\n",
    "i02 = Integer(20)\n",
    "# print(i01+i02) TypeError => + 기호는 클래스 에서 연산 X\n",
    "print(i01) # 주소값이 ~ 인 객체 라고 출력됨 => <__main__.Integer object at 0x0000028267BE60A0>\n",
    "\n",
    "class Integer: \n",
    "    \n",
    "    def __init__(self, integer):\n",
    "        self.integer = integer\n",
    "        \n",
    "    # magic methods __add__ : +연산자 오버로딩\n",
    "    def __add__(self, other):\n",
    "        return self.integer + other.integer\n",
    "    \n",
    "    def __str__(self): # 문자열로 값을 리턴해야함\n",
    "        return str(self.integer)\n",
    "    \n",
    "    \n",
    "    \n",
    "i11=Integer(10)\n",
    "i12 = Integer(20)\n",
    "print(i11+i12) #30\n",
    "print(i11) #10"
   ]
  },
  {
   "cell_type": "markdown",
   "id": "a05a890c",
   "metadata": {},
   "source": [
    "### 상속(Inheritance)\n",
    "프로그래머가 만든 클래스에 필요한 경우에 추가적인 attribute와 methods 를 집어 넣어 새로운 클래스를 만들 수 있습니다.<br>\n",
    "남이 만들어 놓은 좋은 코드를 ``재사용``하고, 빠르고 안전하게 코드를 확보해서 서비스를 개발할 때 용이합니다.<br>\n",
    "확장의 대상이 되는 클래스를 부모 혹은 Base 클래스라고 합니다.<br>\n",
    "상속받는 클래스를 자식 혹은 Derived 클래스라고 합니다.<br>\n",
    "super()를 사용해 기능과 변수를 상속할 수 있고, 부모클래스에서 사용한 함수와 변수 등을 상속받은 클래스에서 사용할 수 있습니다.<br>\n"
   ]
  },
  {
   "cell_type": "code",
   "execution_count": 11,
   "id": "c1a941bc",
   "metadata": {
    "scrolled": true
   },
   "outputs": [
    {
     "name": "stdout",
     "output_type": "stream",
     "text": [
      "10\n",
      "1 2\n",
      "1 2\n",
      "1\n"
     ]
    }
   ],
   "source": [
    "class Base:\n",
    "    def __init__(self, num):\n",
    "        self.num=num\n",
    "    def numPrint(self):\n",
    "        print(self.num)\n",
    "        \n",
    "b = Base(10)\n",
    "b.numPrint() #10\n",
    "\n",
    "class Derived(Base):\n",
    "    def __init__(self, num1, num2):\n",
    "        super().__init__(num1) # 베이스의 num을 전달받아 쓰고싶음\n",
    "        self.num2=num2\n",
    "        \n",
    "    def numPrint(self):\n",
    "        #방법1 : 새롭게 함수를 작성\n",
    "        print(self.num, self.num2) # Base 를 그대로 사용할수있기때문에 self.num 사용가능\n",
    "        \n",
    "        #방법2 : class이름.메소드(self[객체]) 사용해서 베이스 클래스의 메소드 호출\n",
    "        #Base.numPrint(self)\n",
    "        \n",
    "        #방법3 : super().메소드()\n",
    "        #super().numPrint()\n",
    "        \n",
    "        # 각각 주석을 바꿔가면서 실행시키면서 확인 \n",
    "        \n",
    "d = Derived(1,2) # 1은 Base에 저장된 값\n",
    "#d.numPrint()   #Derived numPrint 생성 전 :1 => 생성 후 : 1 2\n",
    "\n",
    "# 멤버 함수 사용\n",
    "# 방법 1: 객체 지향 언어 style로 메소드 사용\n",
    "d.numPrint()\n",
    "\n",
    "# 방법 2 : class이름.메소드(객체)\n",
    "Derived.numPrint(d)\n",
    "Base.numPrint(d)"
   ]
  },
  {
   "cell_type": "markdown",
   "id": "0317df0e",
   "metadata": {},
   "source": [
    "### Student 클래스를 상속받는 graduatedStudent 클래스 만들기"
   ]
  },
  {
   "cell_type": "code",
   "execution_count": 18,
   "id": "490da776",
   "metadata": {},
   "outputs": [
    {
     "name": "stdout",
     "output_type": "stream",
     "text": [
      "2016\n",
      "한빈\n",
      "2023\n"
     ]
    }
   ],
   "source": [
    "# Student 클래스\n",
    "class Student:\n",
    "    __countOfStudent = 0 \n",
    "    __departure='경영학과' \n",
    "    \n",
    "    def __init__(self, ID=0, Name='', Score='F'):\n",
    "        self.__studentID=ID\n",
    "        self.__studentName=Name\n",
    "        self.__studentScore=Score\n",
    "        Student.__countOfStudent +=1 \n",
    "        \n",
    "    def setID(self, ID):\n",
    "        self.__studentID = ID\n",
    "        print(f'학번이 {self.__studentID}로 바뀌었습니다.')\n",
    "        \n",
    "    def getID(self):\n",
    "        return self.__studentID\n",
    "    \n",
    "    def setName(self,Name):\n",
    "        self.__studentName=Name\n",
    "        print(f'이름이 {self.__studentName}로 바뀌었습니다.')\n",
    "        \n",
    "    def getName(self):\n",
    "        return self.__studentName\n",
    "    \n",
    "    def setScore(self,Score):\n",
    "        self.__studentScore=Score\n",
    "        print(\"학점이 {}로 바뀌었습니다.\".format(self.__studentScore))\n",
    "        \n",
    "    def getScore(self):\n",
    "        return self.__studentScore\n",
    "    \n",
    "    def checkFail(self):\n",
    "        if self.__studentScore=='F':\n",
    "            print(f'{self.__studentName}은 낙제입니다.')\n",
    "        elif self.__studentScore =='A':\n",
    "            print(f'{self.__studentName}은 우등생입니다.')\n",
    "        else:\n",
    "            print(f'{self.__studentName}은 학교를 잘 다니고 있습니다.')\n",
    "            \n",
    "    def getCountOfStudent(): #클래스메소드\n",
    "        return Student.__countOfStudent\n",
    "    \n",
    "    def getDeparture():\n",
    "        return Student.__departure\n",
    "\n",
    "    \n",
    "##\n",
    "# GraduatedStudent 클래스 만들기\n",
    "# 졸업 년도를 가지고 있는 멤버 변수 추가하기\n",
    "# 졸업년도를 출력하는 멤버 함수 추가하기\n",
    "# 졸업년도를 설정하는 멤버 함수 추가하기\n",
    "class GraduateStudent(Student):\n",
    "    def __init__(self, ID=0, Name='', Score='A', graduateYear=2022):\n",
    "        super().__init__(ID, Name, Score)\n",
    "        self.graduateYear = graduateYear\n",
    "    def setGraduateYear(self, graduateYear):\n",
    "        self.graduateYear = graduateYear\n",
    "        \n",
    "    def getGraduateYear(self):\n",
    "        return self.graduateYear\n",
    "s1 = GraduateStudent(2016, '한빈', 'B', graduateYear = 2023)\n",
    "print(s1.getID())\n",
    "print(s1.getName())\n",
    "print(s1.getGraduateYear())"
   ]
  }
 ],
 "metadata": {
  "kernelspec": {
   "display_name": "Python 3 (ipykernel)",
   "language": "python",
   "name": "python3"
  },
  "language_info": {
   "codemirror_mode": {
    "name": "ipython",
    "version": 3
   },
   "file_extension": ".py",
   "mimetype": "text/x-python",
   "name": "python",
   "nbconvert_exporter": "python",
   "pygments_lexer": "ipython3",
   "version": "3.9.7"
  }
 },
 "nbformat": 4,
 "nbformat_minor": 5
}
