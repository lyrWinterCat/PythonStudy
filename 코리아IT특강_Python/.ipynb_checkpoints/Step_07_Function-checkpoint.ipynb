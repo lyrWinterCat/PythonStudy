{
 "cells": [
  {
   "cell_type": "markdown",
   "id": "b7130af2",
   "metadata": {
    "id": "b7130af2"
   },
   "source": [
    "## Function\n",
    "함수는 반복적인 작업을 할 때 간편하게 사용하기 위해 사용하는 ``객체``입니다.<br>\n",
    "예를 들어 다음과 같은 코드가 있다고 가정해봅시다.\n",
    "```python\n",
    "print('안녕하세요.')\n",
    "print('제 이름은 최한빈입니다.')\n",
    "\n",
    "print('안녕하세요.')\n",
    "print('제 이름은 강병준입니다.')\n",
    "\n",
    "print('안녕하세요.')\n",
    "print('제 이름은 권호빈입니다.')\n",
    "\n",
    "print('안녕하세요.')\n",
    "print('제 이름은 김나예입니다.')\n",
    "```\n",
    "위와 같은 코드는 함수를 사용하면 간략하게 표현할 수 있습니다.\n",
    "\n",
    "### 내장함수\n",
    "파이썬과 같은 프로그래밍 언어는 이미 다양한 기능을 수행하는 함수들을 내장하고 있습니다.<br>\n",
    "##### 내장함수와 예약어\n",
    "이전 강의, 실습 내용에서 내장 함수는 예약어의 일부로 생각하면 된다고 말씀을 드렸지만 사실 정확히 표현하자면 예약어와 내장함수는 다릅니다.<br>\n",
    "예약어와 내장함수 둘 다 파이썬을 설치하면 바로 사용할 수 있고 프로그래밍을 사용하는 데에 있어서 필수적 혹은 유용하다는 특징이 있습니다.<br>\n",
    "하지만 내장함수의 모양을 보시면 내장 함수는 ()를 통해서 파라미터를 전달받는 것을 알 수 있습니다.<br>\n",
    "반면 예약어(if, while 등등)는 그렇지 않은 것을 확인할 수 있죠.<br>\n",
    "\n",
    "- abs(x): 입력 받은 정수 혹은 실수 값(x)의 절대값을 계산합니다.\n",
    "- pow(x, y): 입력받은 x의 y거듭제곱을 계산합니다. => x ** y\n",
    "- round(x): 입력받은 x를 소수점 다음에 대해서 반올림한 값을 계산합니다.\n",
    "- min(x): 입력받은 데이터 집합(리스트, 튜플 등) x 중 가장 작은 원소를 출력합니다.\n",
    "- max(x): 입력받은 데이터 집합(리스트, 튜플 등) x 중 가장 큰 원소를 출력합니다.\n",
    "- int(x): x의 데이터 형을 int로 바꿈\n",
    "- str(x)/float(x)/bool(x) ... 등등 이전에 배움\n",
    "- divmod(x, y): x를 y로 나눈 몫과 나머지를 반환합니다.\n",
    "\n",
    "```python\n",
    "print(abs(-9))\n",
    "print(pow(3,2))\n",
    "print(round(4.3))\n",
    "```\n",
    "##### 위의 코드를 실행해보세요."
   ]
  },
  {
   "cell_type": "code",
   "execution_count": 1,
   "id": "94771770",
   "metadata": {
    "id": "94771770"
   },
   "outputs": [
    {
     "name": "stdout",
     "output_type": "stream",
     "text": [
      "9\n",
      "9\n",
      "4\n"
     ]
    }
   ],
   "source": [
    "print(abs(-9))\n",
    "print(pow(3,2))\n",
    "print(round(4.3))"
   ]
  },
  {
   "cell_type": "markdown",
   "id": "001d003a",
   "metadata": {
    "id": "001d003a"
   },
   "source": [
    "python에서는 매우 많은 내장함수를 제공하기 때문에 이 자리에서 모든 내장 함수를 설명하기는 어렵습니다.<br>\n",
    "https://docs.python.org/ko/3/library/functions.html#round [python 3.x의 내장함수 설명 웹사이트]\n",
    "위의 사이트를 참고하셔서 내장함수를 한번 훑어 보시는 것도 추천합니다.\n",
    "\n",
    "### help()\n",
    "내장 함수 혹은, 사용자 정의 함수의 사용 방법에 대해 확인할 수 있으니 이를 활용해서 함수의 동작을 확인해보는 것도 추천드립니다.<br>\n",
    "help는 다음과 같이 사용할 수 있습니다.\n",
    "```python\n",
    "help(abs)\n",
    "```\n",
    "\n",
    "##### 위의 코드를 실행해보세요."
   ]
  },
  {
   "cell_type": "code",
   "execution_count": 2,
   "id": "5b889f24",
   "metadata": {
    "id": "5b889f24"
   },
   "outputs": [
    {
     "name": "stdout",
     "output_type": "stream",
     "text": [
      "Help on built-in function abs in module builtins:\n",
      "\n",
      "abs(x, /)\n",
      "    Return the absolute value of the argument.\n",
      "\n"
     ]
    }
   ],
   "source": [
    "help(abs)"
   ]
  },
  {
   "cell_type": "markdown",
   "id": "4221e046",
   "metadata": {
    "id": "4221e046"
   },
   "source": [
    "### 실습 문제 1\n",
    "내장함수 활용에 익숙해지기 위해 다음과 같은 내장함수의 동작을 실행해봅시다!<br>\n",
    "(1) -7.2의 절대값 <br>\n",
    "(2) 3^4(3의 4거듭제곱)값<br>\n",
    "(3) -4.3의 정수값<br>\n",
    "(4) -4의 실수값<br>\n",
    "(5) 2와 3중 최소값<br>\n",
    "(8) 2, -5, min(1,7) 중 최소값<br>\n",
    "(9) 2, -5, max(1,7) 중 최대값<br>"
   ]
  },
  {
   "cell_type": "code",
   "execution_count": 7,
   "id": "82052a28",
   "metadata": {
    "id": "82052a28"
   },
   "outputs": [
    {
     "name": "stdout",
     "output_type": "stream",
     "text": [
      "7.2\n",
      "81\n",
      "-4\n",
      "-4.0\n",
      "2\n",
      "-5\n",
      "7\n"
     ]
    }
   ],
   "source": [
    "print(abs(-7.2))\n",
    "print(pow(3,4))\n",
    "print(int(-4.3))\n",
    "print(float(-4))\n",
    "print(min(2,3))\n",
    "print(min(2, -5, min(1,7)))\n",
    "print(max(2, -5, max(1,7)))"
   ]
  },
  {
   "cell_type": "markdown",
   "id": "4f0eb0d7",
   "metadata": {
    "id": "4f0eb0d7"
   },
   "source": [
    "### 사용자 정의\n",
    "다시 돌아와서 이전에 확인한 코드를 다시 봅시다.\n",
    "```python\n",
    "print('안녕하세요.')\n",
    "print('제 이름은 최한빈입니다.')\n",
    "\n",
    "print('안녕하세요.')\n",
    "print('제 이름은 강병준입니다.')\n",
    "\n",
    "print('안녕하세요.')\n",
    "print('제 이름은 권호빈입니다.')\n",
    "\n",
    "print('안녕하세요.')\n",
    "print('제 이름은 김나예입니다.')\n",
    "```\n",
    "위와 같이 반복하는 동작을 표현하기 위한 내장함수가 없기 때문에 이는 사용자 정의 함수로 만들어야합니다.\n",
    "\n",
    "\n",
    "##### 함수의 구조\n",
    "def 함수이름(arg):\n",
    "    함수 내용 입력\n",
    "    \n",
    "```python\n",
    "def Hi(name):\n",
    "    print('안녕하세요.')\n",
    "    print(f'제 이름은 {name}입니다.')\n",
    "```\n",
    "\n",
    "##### 위의 코드를 아래에 직접 써보신 뒤, 확인해보시기 바랍니다."
   ]
  },
  {
   "cell_type": "code",
   "execution_count": 9,
   "id": "26f27a22",
   "metadata": {
    "id": "26f27a22"
   },
   "outputs": [],
   "source": [
    "def Hi(name):\n",
    "    print('안녕하세요')\n",
    "    print(f'제 이름은 {name}입니다.')"
   ]
  },
  {
   "cell_type": "markdown",
   "id": "8d717cf0",
   "metadata": {
    "id": "8d717cf0"
   },
   "source": [
    "사용자 정의 함수와 내장 함수의 형태를 보시면 ()를 통해 매개변수를 전달하는 것을 확인할 수 있습니다.<br>\n",
    "즉, 내장 함수도 내부적으로는 매개변수를 전달받아서 어떤 동작을 거친 뒤, 리턴해주는 과정을 거친다는 것을 확인할 수 있습니다.<br>"
   ]
  },
  {
   "cell_type": "markdown",
   "id": "e4753097",
   "metadata": {
    "id": "e4753097"
   },
   "source": [
    "### 지역변수/전역변수\n",
    "함수 내부에서 사용하는 변수는 지역변수(Local variables)라고 합니다.<br>\n",
    "그리고 함수 바깥에서 사용하는 변수는 전역변수(Global varibles)라고 합니다.<br>\n",
    "\n",
    "수업 시간에 배운 내용을 다시 정리하자면 global을 쓴다면 전역 변수를 함수 내부에서 사용할 수 있습니다.<br>\n",
    "``global을 사용``해 함수 내부에서 전역변수를 쓸 경우와 ``전역변수를 파라미터로 전달``받아 사용할 경우의 ``차이점``이 뭔지 아래에 주석을 달아 설명을 하고, ``직접 코드를 작성``해 예시를 보여주시기 바랍니다.<br>"
   ]
  },
  {
   "cell_type": "code",
   "execution_count": 17,
   "id": "PGz0aH9tr3Yt",
   "metadata": {
    "id": "PGz0aH9tr3Yt"
   },
   "outputs": [
    {
     "name": "stdout",
     "output_type": "stream",
     "text": [
      "3\n",
      "1\n",
      "1\n",
      "1\n",
      "0\n"
     ]
    }
   ],
   "source": [
    "# global을 사용해 함수 내부에서 전역변수를 쓸 경우 함수 밖의 전역변수 값이 변화한다.\n",
    "# 그러나 파라미터로 전달받아 사용할 경우 전역변수의 값은 변하지 않는다.\n",
    "count = 0\n",
    "def example_count():\n",
    "    global count\n",
    "    count+=1\n",
    "    return count\n",
    "example_count()\n",
    "example_count()\n",
    "example_count()\n",
    "print(count)\n",
    "\n",
    "def example_count1(count):\n",
    "    count+=1\n",
    "    return count\n",
    "count = 0\n",
    "\n",
    "print(example_count1(count))\n",
    "print(example_count1(count))\n",
    "print(example_count1(count))\n",
    "print(count)"
   ]
  },
  {
   "cell_type": "markdown",
   "id": "049e01ee",
   "metadata": {
    "id": "049e01ee"
   },
   "source": [
    "### 실습 문제 2\n",
    "기본적인 산술연산자의 기능을 구현한 사용자 정의 함수를 만드시면 됩니다.<br>\n",
    "즉, 두 파라미터를 전달받아 덧셈을 하는 함수, 뺄셈을 하는 함수, 곱하는 함수, 나누는 함수, 나머지를 구하는 함수, 정수 나눗셈을 하는 함수를 구하시면 됩니다.<br>\n",
    "단, 함수의 이름은 다음과 같이 작성하시면 됩니다.\n",
    "- 덧셈 기능을 하는 함수: add\n",
    "- 뺄셈 기능을 하는 함수: subtract\n",
    "- 곱셈 기능을 하는 함수: multiply\n",
    "- 나눗셈 기능을 하는 함수: div\n",
    "- 나머지 기능을 하는 함수: mod\n",
    "- 정수 나눗셈 기능을 하는 함수: int_div\n",
    "\n",
    "##### 위의 기능을 구현하는 함수를 만드시고 아래의 코드를 실행시켜보세요. 오류가 발생한다면 코드를 다시 작성해보시기 바랍니다."
   ]
  },
  {
   "cell_type": "code",
   "execution_count": 29,
   "id": "5faa097d",
   "metadata": {
    "id": "pdWFi0Ms4hS6"
   },
   "outputs": [],
   "source": [
    "#a, b = map(int,input().split())\n",
    "def sum(a,b):\n",
    "    return (a + b)\n",
    "#print(add(a,b))\n",
    "\n",
    "#a, b = map(int,input().split())\n",
    "def substract(a,b):\n",
    "    return (a-b)\n",
    "#print(substract(a,b))\n",
    "\n",
    "#a, b = map(int,input().split())\n",
    "def multiply(a,b):\n",
    "    return (a*b)\n",
    "#print(multiply(a,b))\n",
    "\n",
    "#a, b = map(int,input().split())\n",
    "def div(a,b):\n",
    "    return (a/b)\n",
    "#print(div(a,b))\n",
    "\n",
    "#a, b = map(int,input().split())\n",
    "def mod(a,b):\n",
    "    return (a%b)\n",
    "#print(mod(a,b))\n",
    "\n",
    "def int_div(a,b):\n",
    "    return (a//b)\n",
    "#print(int_div(a,b))"
   ]
  },
  {
   "cell_type": "code",
   "execution_count": 30,
   "id": "8ES_4kT54FwV",
   "metadata": {
    "id": "8ES_4kT54FwV"
   },
   "outputs": [],
   "source": [
    "assert sum(1,3) == 4\n",
    "assert subtract(1, 4) == -3\n",
    "assert multiply(2, 5) == 10\n",
    "assert div(10, 5) == 2.0\n",
    "assert mod(10, 3) == 1\n",
    "assert int_div(10, 3) == 3"
   ]
  }
 ],
 "metadata": {
  "colab": {
   "collapsed_sections": [],
   "name": "Step_07_Function.ipynb",
   "provenance": []
  },
  "kernelspec": {
   "display_name": "Python 3 (ipykernel)",
   "language": "python",
   "name": "python3"
  },
  "language_info": {
   "codemirror_mode": {
    "name": "ipython",
    "version": 3
   },
   "file_extension": ".py",
   "mimetype": "text/x-python",
   "name": "python",
   "nbconvert_exporter": "python",
   "pygments_lexer": "ipython3",
   "version": "3.9.7"
  }
 },
 "nbformat": 4,
 "nbformat_minor": 5
}
