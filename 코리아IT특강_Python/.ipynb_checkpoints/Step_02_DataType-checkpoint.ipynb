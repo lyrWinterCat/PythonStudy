{
 "cells": [
  {
   "cell_type": "markdown",
   "id": "86ac9ea0",
   "metadata": {},
   "source": [
    "# 실습\n",
    "프로그래밍 언어는 유한한 컴퓨터에 무한한 세상을 표현하기 위해 여러 데이터 타입을 가지고 있습니다.<br>\n",
    "앞으로 다양한 프로그램을 만들 때 데이터 타입을 확실히 알아야 ``Semantic error/Runtime error`` 등을 방지할 수 있기 때문에 데이터 타입을 아는 것은 중요합니다."
   ]
  },
  {
   "cell_type": "markdown",
   "id": "d49ee72e",
   "metadata": {},
   "source": [
    "## 파이썬에서의 데이터 타입\n",
    "#### 파이썬에서 데이터 타입은 다음과 같이 나눌 수 있습니다.\n",
    "- Numeric Types: int(정수), float(실수), complex(복소수)\n",
    "- Sequence Types: str(문자열), list(리스트), tuple(튜플)\n",
    "- Mapping Type: dict(딕셔너리)\n",
    "- Set Types: set(집합)\n",
    "- Boolean Type: bool(불리언)\n",
    "\n",
    "![파이썬 데이터 타입](01_Data_type.jpg)\n",
    "\n",
    "Numeric Type은 수학에서의 정수, 실수, 복소수형을 의미합니다.<br> 가장 기초적인 데이터 타입으로 일반적인 수학 연산이 가능합니다.<br>\n",
    "\n",
    "Sequence Type은 인덱싱을 통해 값을 추출할 수 있는 타입입니다.<br> 파이썬에서 여러 데이터 타입을 저장하거나 다룰 때 자주 사용하는 데이터 타입입니다.<br>\n",
    "\n",
    "Mapping Type은 1대1 또는 1대다로 hashing이 가능한 데이터 타입입니다.<br> 키 값을 정확히 입력하면 value가 나오도록 사용하는 데이터 타입입니다.<br>\n",
    "\n",
    "Set Type은 수학에서의 집합과 관련된 데이터 타입입니다.<br> 집합 내 원소 간의 중복이 없기 때문에 이를 활용한 코드를 작성할 때 주로 사용합니다.<br>\n",
    "\n",
    "Boolean Type은 참/거짓을 나타내기 위해 활용하는 데이터 타입입니다.<br> 조건문과 반복문에서 동작을 제어할 때 사용합니다.<br>\n",
    "\n",
    "모두 파이썬 기초 강의를 통해 배울 예정이지만 우선 이번 실습 과제에서는 Numeric Type과 Sequence Type에서 str 타입을 간단하게 확인해보도록 하겠습니다."
   ]
  },
  {
   "cell_type": "markdown",
   "id": "c412b998",
   "metadata": {},
   "source": [
    "### 화면에 값 출력해보기\n",
    "#### 위에서 Hello World를 출력해보았습니다. 이번에는 다양한 타입의 값들을 출력해보도록 하겠습니다.\n",
    "```python\n",
    "print(1)\n",
    "print(0o32) # 8진법\n",
    "print(0x8f) # 16진법\n",
    "print(1.0)\n",
    "print(\"1\") # \"\"\n",
    "print('1') # ''\n",
    "print(1*2j)\n",
    "```\n",
    "##### 위의 코드를 아래 셀에 입력한 뒤, 값을 확인해보세요."
   ]
  },
  {
   "cell_type": "code",
   "execution_count": 1,
   "id": "a65d7078",
   "metadata": {},
   "outputs": [
    {
     "name": "stdout",
     "output_type": "stream",
     "text": [
      "1\n",
      "26\n",
      "143\n",
      "1.0\n",
      "1\n",
      "1\n",
      "2j\n"
     ]
    }
   ],
   "source": [
    "print(1)\n",
    "print(0o32) # 8진법\n",
    "print(0x8f) # 16진법\n",
    "print(1.0)\n",
    "print(\"1\") # \"\"\n",
    "print('1') # ''\n",
    "print(1*2j)"
   ]
  },
  {
   "cell_type": "markdown",
   "id": "731794ac",
   "metadata": {},
   "source": [
    "### 타입 확인하기\n",
    "#### 데이터 타입은 type 함수를 통해 확인할 수 있습니다.\n",
    "```python\n",
    "print(type(1))\n",
    "print(type(0o32))\n",
    "print(type(0x8f))\n",
    "print(type(1.0))\n",
    "print(type(\"1\"))\n",
    "print(type('1'))\n",
    "print(type(1*2j))\n",
    "```\n",
    "##### 위의 코드를 아래 셀에 입력한 뒤, 타입을 확인해보세요."
   ]
  },
  {
   "cell_type": "code",
   "execution_count": 2,
   "id": "a7c762e5",
   "metadata": {},
   "outputs": [
    {
     "name": "stdout",
     "output_type": "stream",
     "text": [
      "<class 'int'>\n",
      "<class 'int'>\n",
      "<class 'int'>\n",
      "<class 'float'>\n",
      "<class 'str'>\n",
      "<class 'str'>\n",
      "<class 'complex'>\n"
     ]
    }
   ],
   "source": [
    "print(type(1))\n",
    "print(type(0o32))\n",
    "print(type(0x8f))\n",
    "print(type(1.0))\n",
    "print(type(\"1\"))\n",
    "print(type('1'))\n",
    "print(type(1*2j))"
   ]
  },
  {
   "cell_type": "markdown",
   "id": "651d0f69",
   "metadata": {},
   "source": [
    "### 데이터 타입 변환하기\n",
    "파이썬에서 기본적으로 제공해주는 내장함수를 통해 ``객체(Object)``의 데이터 타입을 바꿀 수 있습니다. <br>\n",
    "* 객체란 데이터 타입과 함께 주소를 가지는 값을 의미합니다.\n",
    "\n",
    "- int(): 정수로 변환이 가능한 실수형이나 문자열을 정수로 변환하게 한다.\n",
    "    * int(1) (o)\n",
    "    * int(\"Hi\") (x)\n",
    "- float(): 실수로 변환이 가능한 정수형이나 문자열을 실수로 변환하게 한다.\n",
    "- str(): 다른 데이터 타입을 문자열로 변환한다.\n",
    "\n",
    "\n",
    "###### 실습을 위해 다음 코드를 한번 작성해봅시다.\n",
    "```python\n",
    "print(int(1.0))\n",
    "print(type(int(1.0)))\n",
    "print(float(1))\n",
    "print(type(float(1)))\n",
    "print(str(1))\n",
    "print(type(str(1)))\n",
    "```\n",
    "\n",
    "##### 위의 코드를 아래 셀에 입력한 뒤, 타입을 확인해보세요."
   ]
  },
  {
   "cell_type": "code",
   "execution_count": 3,
   "id": "60475fd3",
   "metadata": {},
   "outputs": [
    {
     "name": "stdout",
     "output_type": "stream",
     "text": [
      "1\n",
      "<class 'int'>\n",
      "1.0\n",
      "<class 'float'>\n",
      "1\n",
      "<class 'str'>\n"
     ]
    }
   ],
   "source": [
    "print(int(1.0))\n",
    "print(type(int(1.0)))\n",
    "print(float(1))\n",
    "print(type(float(1)))\n",
    "print(str(1))\n",
    "print(type(str(1)))"
   ]
  },
  {
   "cell_type": "markdown",
   "id": "66b1f112",
   "metadata": {},
   "source": [
    "### 기본 연산자 실습하기\n",
    "python에서 ``더하기``와 ``빼기`` 연산자는 수학에서 배운 기호인 ``+``와 ``-``를 동일하게 사용합니다.\n",
    "- 더하기: +\n",
    "- 빼기: -\n",
    "\n",
    "python에서 ``곱하기 연산자``는 수학에서 사용하는 x가 아닌 ``*`` 기호를 사용합니다.\n",
    "- 곱하기: *\n",
    "\n",
    "python에서 ``나누기 연산자``는 다양한 기능을 처리하기 위해 여러 개로 나눠져 있습니다.<br>\n",
    "우선 저희가 아는 것과 같이 ``일반적인 나누기 연산자(Division)``는 ``/``를 사용합니다.<br>\n",
    "반면 값을 나눈 뒤 ``정수에 해당하는 몫만 취하는 연산자(Integer 혹은 floor)``는 ``//``를 사용합니다.<br>\n",
    "그리고 나머지를 출력하는 ``나머지 연산자(Remainder)``는``%``를 사용합니다.<br>\n",
    "- Division: /\n",
    "- Integer: //\n",
    "- Remainder: %\n",
    "\n",
    "python에서는 제곱에 관한 연산자도 존재합니다.<br>\n",
    "제곱은 ``**``를 사용해 표현합니다.<br>\n",
    "- 제곱: **\n",
    "\n",
    "위에서 살펴본 연산자들은 모두 이항 연산자입니다. 즉, 두 개의 값을 활용해 연산하는 겁니다.<br>\n",
    "반면 +와 -를 나타내는 단항 연산자도 존재합니다.<br>\n",
    "이는 ``더하기``와 ``빼기``를 나타내는 다항연산자와 동일한 표현입니다.<br>\n",
    "- 양수: +\n",
    "- 음수: -\n",
    "\n",
    "##### 연산자를 연습하기 위해 print()를 활용해 다음 코드를 작성해봅시다.\n",
    "\n",
    "```python\n",
    "2-3\n",
    "2*25\n",
    "9/2\n",
    "7/-2\n",
    "7//2\n",
    "7//-2\n",
    "7%2\n",
    "7.0%2\n",
    "7%2.0\n",
    "7%-2\n",
    "-7%2\n",
    "7/-2.0\n",
    "1/7\n",
    "1//7\n",
    "1%7\n",
    "```\n",
    "\n",
    "##### 위의 코드를 print()를 활용해 아래 셀에 입력한 뒤, 먼저 주석을 통해 값을 적어보고 자신이 적은 답과 동일한 출력이 나오는지 확인해보세요."
   ]
  },
  {
   "cell_type": "code",
   "execution_count": 5,
   "id": "a9b78bb8",
   "metadata": {},
   "outputs": [
    {
     "name": "stdout",
     "output_type": "stream",
     "text": [
      "-1\n",
      "50\n",
      "4.5\n",
      "-3.5\n",
      "3\n",
      "-4\n",
      "1\n",
      "1.0\n",
      "-1\n",
      "1\n",
      "-3.5\n"
     ]
    }
   ],
   "source": [
    "print(2-3) # -1\n",
    "print(2*25) # 50\n",
    "print(9/2) # 4.5\n",
    "print(7/-2) # ?? / -3.5\n",
    "print(7//2) # 3\n",
    "print(7//-2) # ?? / -4\n",
    "print(7%2) #1\n",
    "print(7.0%2) # 1.0\n",
    "print(7%-2) # ?? /-1\n",
    "print(-7%2) # ? / 1\n",
    "print(7/-2.0) # -3.5\n"
   ]
  },
  {
   "cell_type": "markdown",
   "id": "5875b181",
   "metadata": {},
   "source": [
    "### 실수형 연산\n",
    "프로그래밍 언어에서 실수 연산을 할 때는 주의해야하는 점이 있습니다.<br>\n",
    "바로 부동소수점(floating point)라고 불리는 컴퓨터의 실수 저장 방식 때문에 그렇습니다.<br><br>\n",
    "\n",
    "##### 부동 소수점\n",
    "컴퓨터는 데이터를 저장할 때 2진수를 통해서 저장합니다.<br>\n",
    "그렇다면 무한소수나 2진수로 표현이 불가능한 표현은 어떻게 저장할까요?<br>\n",
    "바로 ``해당 값의 근사치``를 저장해 값을 가지고 있습니다.<br>\n",
    "이때 사용하는 방법이 ``부동 소수점``이라 해서 값을 부호와 지수, 가수로 저장해 값을 표현하는 겁니다.<br>\n",
    "덕분에 컴퓨터는 더 많은 범위의 값을 표현할 수 있게 되는 거죠.<br>\n",
    "- 해당 수업의 범위를 벗어나기 때문에 더 이상 깊게 설명하지는 않지만 궁금하신 분은 구글링을 해보시면 좋은 자료가 많이 나옵니다!<br>\n",
    "\n",
    "부동소수점은 많은 범위의 값을 표현할 수 있도록 도와주지만 정확한 숫자 표현을 못한다는 단점이 있습니다.<br>\n",
    "그렇기 때문에 오차가 조금씩 발생하는 거죠.\n",
    "\n",
    "###### 다음 코드를 한번 실행해 보세요.\n",
    "```python\n",
    "print(9 / 5 * 21 + 23)\n",
    "```\n",
    "\n",
    "##### 위의 코드를 아래 셀에 실행해보세요."
   ]
  },
  {
   "cell_type": "code",
   "execution_count": 6,
   "id": "e6f01c68",
   "metadata": {},
   "outputs": [
    {
     "name": "stdout",
     "output_type": "stream",
     "text": [
      "80.6\n"
     ]
    }
   ],
   "source": [
    "print(9 / 5 * 32 + 23)"
   ]
  },
  {
   "cell_type": "markdown",
   "id": "3c4f66c4",
   "metadata": {},
   "source": [
    "위의 코드와 같이 값이 정확하게 나오지 않는 것을 확인할 수 있습니다.<br>\n",
    "그렇기 때문에 나중에 이를 활용해 조건문을 작성할 경우에는 매우 작은 수를 기준 오차로 설정하고 해당 값보다 오차가 작을 경우 동작하게끔 할 수 있습니다."
   ]
  },
  {
   "cell_type": "code",
   "execution_count": null,
   "id": "555664e5",
   "metadata": {},
   "outputs": [],
   "source": []
  },
  {
   "cell_type": "markdown",
   "id": "819f1c14",
   "metadata": {},
   "source": [
    "### str형 간단한 연산자 실습하기\n",
    "str도 기본 연산자가 존재합니다.<br>\n",
    "하지만 해당 데이터 타입은 위에서 봤듯이 Sequencial한 데이터 타입이기 때문에 str과 관련된 연산자는 차후에 자세히 알아보도록 하겠습니다.<br>\n",
    "이번 실습에서는 간단한 연산자만 살펴보도록 하겠습니다.\n",
    "\n",
    "str 데이터 타입의 연산자는 str 데이터 타입 간 더하는 동작(``+``)과 몇번 반복해줄건지에 관한 연산자(``*``)가 있습니다.<br>\n",
    "- str + str -> str 간 연결하기\n",
    "- str * int -> 왼쪽에 있는 str을 int번만큼 반복하기\n",
    "\n",
    "Sequence type의 데이터 타입은 저장된 정보의 길이를 표현할 수 있는 함수가 있습니다. <br>\n",
    "<b>바로 len()함수입니다.</b><br>\n",
    "str 데이터 타입도 Sequence type이기 때문에 문자열의 길이가 몇인지 확인할 수 있습니다.\n",
    "\n",
    "```python\n",
    "print(\"최\" + \"한빈\")\n",
    "print(\"*\" * 10)\n",
    "print(len(\"최한빈\"))\n",
    "```\n",
    "\n",
    "\n",
    "##### 위의 코드를 아래 셀에 실행해보세요."
   ]
  },
  {
   "cell_type": "code",
   "execution_count": 7,
   "id": "facdb50e",
   "metadata": {},
   "outputs": [
    {
     "name": "stdout",
     "output_type": "stream",
     "text": [
      "최한빈\n",
      "**********\n",
      "3\n"
     ]
    }
   ],
   "source": [
    "print(\"최\" + \"한빈\")\n",
    "print(\"*\"*10)\n",
    "print(len(\"최한빈\"))"
   ]
  },
  {
   "cell_type": "markdown",
   "id": "8e03cd0d",
   "metadata": {},
   "source": [
    "## 풀어보기\n",
    "위에 다양한 데이터 타입에 대해서 확인해보았습니다.<br>\n",
    "print와 연산자 파트에서 배운 내용을 토대로 아래 셀에서 다음과 같은 출력이 나오도록 한번 풀어보세요!<br>\n",
    "\n",
    "```python\n",
    "'''\n",
    "  *\n",
    " ***\n",
    "*****\n",
    "'''\n",
    "```"
   ]
  },
  {
   "cell_type": "code",
   "execution_count": 11,
   "id": "c309db76",
   "metadata": {},
   "outputs": [
    {
     "name": "stdout",
     "output_type": "stream",
     "text": [
      "  *\n",
      " ***\n",
      "*****\n"
     ]
    }
   ],
   "source": [
    "print(' '*2+'*')\n",
    "print(' '+'*'*3)\n",
    "print('*'*5)"
   ]
  }
 ],
 "metadata": {
  "kernelspec": {
   "display_name": "Python 3 (ipykernel)",
   "language": "python",
   "name": "python3"
  },
  "language_info": {
   "codemirror_mode": {
    "name": "ipython",
    "version": 3
   },
   "file_extension": ".py",
   "mimetype": "text/x-python",
   "name": "python",
   "nbconvert_exporter": "python",
   "pygments_lexer": "ipython3",
   "version": "3.9.7"
  }
 },
 "nbformat": 4,
 "nbformat_minor": 5
}
