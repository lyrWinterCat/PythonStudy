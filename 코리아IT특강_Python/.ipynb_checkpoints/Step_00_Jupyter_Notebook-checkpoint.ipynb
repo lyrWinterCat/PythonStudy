{
 "cells": [
  {
   "cell_type": "markdown",
   "id": "637fac6c",
   "metadata": {},
   "source": [
    "# 실습\n",
    "본 실습에서는 주피터 노트북의 기본적인 활용법에 대해 확인할 것입니다."
   ]
  },
  {
   "cell_type": "markdown",
   "id": "5043b924",
   "metadata": {},
   "source": [
    "## 주피터 노트북과 친해지기\n",
    "주피터 노트북은 코드의 한 줄 한 줄이 어떻게 동작하는 지 확인하기에 매우 편리한 ``통합 개발 환경 도구(IDE)``입니다.<br>\n",
    "실제로 연구 및 시각화를 위해 개발된 IDE이며, 데이터 분석 대회(Kaggle, Dacon, Compas 등)에서도 주피터 노트북을 통해 코드를 작성하고, 시각화를 해서 코드를 공유하는 경우가 매우 많습니다. <br>\n",
    "\n",
    "셀을 클릭해 ``파란색 박스``가 나타납니다. 여기서 셀을 한번 더 클릭하거나, 엔터를 누르면 ``초록색 박스``가 나타납니다. 해당 상태를 확인하여 셀의 활성화 상태를 확인할 수 있습니다. <br>\n",
    "\n",
    "셀의 기본 상태는 ``Code`` 입니다. 여러분들이 소스코드를 작성하기 위해서는 셀의 상태를 ``Code``로 바꿔야지 실행이 가능합니다. 왼쪽에 ``In [ ]``가 있다면 현재 ``Code`` 상태입니다. <br> <br>\n",
    "하지만 지금과 같이 필기가 필요하다면 셀의 상태를 ``Markdown``으로 바꿀 수 있습니다. <br> \n",
    "위에 있는 여러 아이콘 중 Code라고 적혀있는 부분을 클릭하면 셀의 상태를 변경할 수 있습니다. <br>\n",
    "``Markdown`` 상태에서는 ``In [ ]``가 보이지 않습니다. <br>\n",
    "\n",
    "\n",
    "셀을 클릭해 ``파란색 박스`` 상태에서 숫자 1~6을 키보드로 누를 경우 ``Code`` 상태이더라도 ``Markdown`` 상태로 바뀌며 ``#``이 숫자의 개수만큼 등장합니다.<br> \n",
    "``#``이 하나일 경우 매우 큰 헤드라인을 적을 수 있으며 ``#``의 개수가 많아질수록 조금 더 작은 헤드라인을 적을 수 있습니다. <br>\n",
    "\n",
    "##### 위에서 배운 내용을 토대로 아래 셀에 다음과 같은 ``Markdown``을 적어보시기 바랍니다.<br>"
   ]
  },
  {
   "cell_type": "markdown",
   "id": "d91fc11d",
   "metadata": {},
   "source": [
    "### 주피터 노트북 실습\n",
    "#### Headline 4\n",
    "##### Headline 5\n",
    "\n",
    "Hello World"
   ]
  },
  {
   "cell_type": "markdown",
   "id": "01adf0e7",
   "metadata": {},
   "source": [
    "#### Headline 4\n",
    "\n",
    "##### Headline 5\n",
    "\n",
    "\n",
    "Hello World"
   ]
  },
  {
   "cell_type": "markdown",
   "id": "3b09c9d7",
   "metadata": {},
   "source": [
    "### 간단한 단축키\n",
    "- 셀을 클릭한 뒤, ``a``를 누르면 현재 셀의 위 쪽에 하나의 빈 셀이 생깁니다.\n",
    "- 셀을 클릭한 뒤, ``b``를 누르면 현재 셀의 아래 쪽에 하나의 빈 셀이 생깁니다.\n",
    "- 셀을 클릭한 뒤, ``c``를 누르면 그 셀을 복사할 수 있습니다.\n",
    "- 셀을 클릭한 뒤, ``x``를 누르면 그 셀을 잘라낼 수 있습니다.\n",
    "- 셀을 클릭한 뒤, ``v``를 누르면 잘라내거나 복사한 셀을 붙여넣을 수 있습니다.\n",
    "\n",
    "###### 아래에 셀을 하나 만들고 삭제해보세요."
   ]
  },
  {
   "cell_type": "markdown",
   "id": "cb259208",
   "metadata": {},
   "source": [
    "### 코드 동작시키기\n",
    "``Control + Enter``와 ``Shift + Enter`` 둘 다 실행을 할 때 사용할 수 있습니다. <br>\n",
    "다만 ``Control + Enter``은 실행을 하더라도 그 셀에 그대로 머무는 반면, ``Shift + Enter``는 그 다음 셀로 넘어갑니다.\n",
    "\n",
    "##### 다음 코드를 동작시켜보세요."
   ]
  },
  {
   "cell_type": "code",
   "execution_count": 3,
   "id": "7369128d",
   "metadata": {},
   "outputs": [
    {
     "name": "stdout",
     "output_type": "stream",
     "text": [
      "Hello World\n"
     ]
    }
   ],
   "source": [
    "print(\"Hello World\")"
   ]
  },
  {
   "cell_type": "markdown",
   "id": "c4a3d665",
   "metadata": {},
   "source": [
    "### 무한 루프에서 벗어나기\n",
    "\n",
    "다음 코드는 코드를 잘못 작성해 무한루프에 빠지게 되는 경우입니다. ``(Semantic Error)``<br>\n",
    "무한 루프에 빠지게 되면 주피터 노트북은 시간이 지난 뒤, 에러 표시를 내며 자동으로 멈춰주는 경우도 있지만 그 전에 이를 멈춰 주는 것이 훨씬 시간도 절약되고 효율적입니다. <br>\n",
    "\n",
    "셀의 동작을 멈추는 것은 위쪽의 Run 옆에 ``네모 박스``를 누르면 멈출 수 있습니다. <br>\n",
    "``네모 박스``를  눌러 코드를 멈추면 ``KeyboardInterrupt``가 나타날 겁니다. <br>\n",
    "##### 아래 코드를 단축키를 통해 동작시켜본 뒤 네모 박스를 눌러 무한 루프를 멈춰보세요."
   ]
  },
  {
   "cell_type": "code",
   "execution_count": 4,
   "id": "7ba978fd",
   "metadata": {},
   "outputs": [
    {
     "ename": "KeyboardInterrupt",
     "evalue": "",
     "output_type": "error",
     "traceback": [
      "\u001b[1;31m---------------------------------------------------------------------------\u001b[0m",
      "\u001b[1;31mKeyboardInterrupt\u001b[0m                         Traceback (most recent call last)",
      "\u001b[1;32m~\\AppData\\Local\\Temp/ipykernel_19240/2044646855.py\u001b[0m in \u001b[0;36m<module>\u001b[1;34m\u001b[0m\n\u001b[0;32m      1\u001b[0m \u001b[1;32mwhile\u001b[0m \u001b[1;32mTrue\u001b[0m\u001b[1;33m:\u001b[0m\u001b[1;33m\u001b[0m\u001b[1;33m\u001b[0m\u001b[0m\n\u001b[1;32m----> 2\u001b[1;33m     \u001b[1;32mpass\u001b[0m\u001b[1;33m\u001b[0m\u001b[1;33m\u001b[0m\u001b[0m\n\u001b[0m",
      "\u001b[1;31mKeyboardInterrupt\u001b[0m: "
     ]
    }
   ],
   "source": [
    "while True:\n",
    "    pass"
   ]
  },
  {
   "cell_type": "markdown",
   "id": "cc5a2f90",
   "metadata": {},
   "source": [
    "### 다양한 단축키 확인\n",
    "주피터 노트북은 그 외에도 다양한 단축키를 제공하고 있습니다. 키보드에서 ``h``를 누르면 각 단축키가 무엇을 의미하는 지 확인할 수 있습니다.<br> \n",
    "##### ``h``를 눌러 단축키를 확인해보세요."
   ]
  },
  {
   "cell_type": "markdown",
   "id": "ca319487",
   "metadata": {},
   "source": [
    "#### 주피터 노트북 저장하기\n",
    "- ``Ctrl s``를 누르면 주피터 노트북을 저장할 수 있습니다.\n",
    "\n",
    "##### 여태 실습한 주피터 노트북의 내용을 저장하고 나가시면 됩니다."
   ]
  }
 ],
 "metadata": {
  "kernelspec": {
   "display_name": "Python 3 (ipykernel)",
   "language": "python",
   "name": "python3"
  },
  "language_info": {
   "codemirror_mode": {
    "name": "ipython",
    "version": 3
   },
   "file_extension": ".py",
   "mimetype": "text/x-python",
   "name": "python",
   "nbconvert_exporter": "python",
   "pygments_lexer": "ipython3",
   "version": "3.9.7"
  }
 },
 "nbformat": 4,
 "nbformat_minor": 5
}
