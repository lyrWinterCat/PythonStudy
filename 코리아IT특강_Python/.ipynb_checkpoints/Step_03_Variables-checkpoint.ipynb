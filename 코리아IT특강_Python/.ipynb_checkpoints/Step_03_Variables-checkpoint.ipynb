{
 "cells": [
  {
   "cell_type": "markdown",
   "id": "7031d91f",
   "metadata": {},
   "source": [
    "## 실습\n",
    "본 실습에서는 변수명 규칙과 변수의 간단한 활용에 대해 확인하고, 서식 문자에 대해 알아볼 겁니다.<br>"
   ]
  },
  {
   "cell_type": "markdown",
   "id": "6dbc0936",
   "metadata": {},
   "source": [
    "### 변수란?\n",
    "#### 변수란 어떤 객체(Object)의 메모리 주소를 가지고 있는 것을 의미합니다.\n",
    "* 객체란 데이터 타입과 함께 주소를 가지는 값을 의미합니다.<br>\n",
    "\n",
    "즉, 어떤 객체의 메모리 주소를 가지고 있어서 해당 변수를 불렀을 때, 해당 변수가 가지고 있는 ``메모리 주소에 있는 값에 접근``할 수 있게 됩니다.<br>\n",
    "\n",
    "### 변수명 사용 규칙\n",
    "변수명을 사용할 때는 ``몇 가지 정해진 규칙``과 ``권장하는 규칙``이 존재합니다.<br>\n",
    "우선 ``숫자로 먼저 시작``하거나 ``언더바(_) 이외의 기호``가 들어가면 변수명으로 사용할 수 없습니다.<br>\n",
    "다음과 같은 변수명들이 사용하지 못하는 변수명의 예시가 될 수 있습니다.\n",
    "- 8han (x)\n",
    "- it'is (x)\n",
    "- no-way (x)\n",
    "- Hello!! (x)\n",
    "\n",
    "그리고 ``예약어는 변수명으로 사용하지 않는 것`` 또한 변수명 규칙 중 하나입니다.<br>\n",
    "예약어란 파이썬에서 미리 정해놓은 함수나 코드 등을 의미합니다.<br>\n",
    "예약어를 변수명으로 사용할수는 있지만 차후에 해당 예약어를 사용할 수 없게 됩니다.<br>\n",
    "그렇기 때문에 파이썬을 제외한 대부분의 언어에서는 변수로 사용하는 것부터 불가능하지만 파이썬은 사용을 할 수는 있지만 대부분의 경우에는 사용하지 않습니다.<br>\n",
    "\n",
    "변수명은 ``의미를 알기 쉽게 짓는 것``이 좋습니다.<br>\n",
    "나중에 본인이 짠 코드를 직접 확인하거나 다른 사람과 협업하기 위해서는 변수명을 알기 쉽게 짓는 것이 중요합니다.<br><br>\n",
    "개발자로 취직한 분들에 따르면 어떤 회사는 변수명을 어떤 방식으로 짓는 지 등을 토대로 코딩 습관을 확인한다고 하니 처음부터 바른 습관을 만들어가는 것이 중요하겠죠?<br>\n",
    "\n",
    "\n",
    "##### 좋은 코딩 습관을 위해 간단한 변수 명을 고민해봅시다.\n",
    "```python\n",
    "# 이름을 저장할 변수\n",
    "\n",
    "# 생년월일을 저장할 변수\n",
    "\n",
    "# 나이를 저장할 변수\n",
    "\n",
    "```\n",
    "\n",
    "##### 위의 코드를 확인하고, 주석에 맞게 변수명을 작성한 뒤 본인의 이름, 생년월일, 나이를 저장할 변수를 적어봅시다."
   ]
  },
  {
   "cell_type": "code",
   "execution_count": null,
   "id": "0bdcc9d2",
   "metadata": {},
   "outputs": [],
   "source": [
    "# 이름을 저장할 변수\n",
    "name \n",
    "# 생년월일을 저장할 변수\n",
    "birth\n",
    "# 나이를 저장할 변수\n",
    "age"
   ]
  },
  {
   "cell_type": "markdown",
   "id": "4b3b643d",
   "metadata": {},
   "source": [
    "### 할당 연산자\n",
    "변수는 할당연산자``(=)``를 통해 값을 할당합니다.\n",
    "- 할당 연산자: =\n",
    "\n",
    "같다를 의미하는 연산자``(==)``와 비슷하므로 이를 주의하시길 바랍니다.<br>\n",
    "\n",
    "##### 위에서 본인의 이름, 생년월일, 나이를 저장할 변수명을 활용해 할당연산자를 사용하여 각각 적절한 값을 변수에 저장하세요.\n",
    "\n",
    "```python\n",
    "'''예시'''\n",
    "# 이름을 저장할 변수\n",
    "name = \"한빈\"\n",
    "\n",
    "# 생년월일을 저장할 변수\n",
    "date_of_birth = 761213 # 혹은 dateOfBirth = 761213\n",
    "\n",
    "# 나이를 저장할 변수\n",
    "age = 46\n",
    "```\n",
    "\n",
    "##### 위의 코드를 참고해 본인에게 맞게 적절한 값을 적어주세요. (본인의 변수명 사용)"
   ]
  },
  {
   "cell_type": "code",
   "execution_count": 2,
   "id": "b60654ad",
   "metadata": {},
   "outputs": [],
   "source": [
    "name = \"녜님\"\n",
    "birth = 950527\n",
    "age = 27"
   ]
  },
  {
   "cell_type": "markdown",
   "id": "3a8c1761",
   "metadata": {},
   "source": [
    "### 변수 내의 값 바꾸기\n",
    "변수 값을 변경해야할 일이 생긴하면 할당 연산자를 사용해 변경하고자 하는 값을 입력하면 됩니다. <br>\n",
    "곧 2021년이 마무리되고 내년에는 여러분들의 나이가 바뀌니까 내년 나이로 값을 바꿔볼까요?<br>\n",
    "정수형 연산자를 활용해 값을 바꿔봅시다.<br>\n",
    "\n",
    "##### 정수형 연산자를 활용해 나이를 저장한 변수에서 값을 1 증가시켜보고 이를 print()를 활용해 확인해보세요."
   ]
  },
  {
   "cell_type": "code",
   "execution_count": 3,
   "id": "9239bd3d",
   "metadata": {},
   "outputs": [
    {
     "name": "stdout",
     "output_type": "stream",
     "text": [
      "28\n"
     ]
    }
   ],
   "source": [
    "print(age+1)"
   ]
  },
  {
   "cell_type": "markdown",
   "id": "ccc9e089",
   "metadata": {},
   "source": [
    "### 변수 간 값 바꾸기\n",
    "변수 간에 값을 바꾸는 것은 간단합니다.<br>\n",
    "임시변수를 만들어 하나의 변수 값을 저장해주고, 그 변수에 다른 변수의 값을 저장한 뒤, 임시변수에 저장된 값을 다른 변수에 저장해주면됩니다. <br>\n",
    "글로 이해하려고 하니 살짝 복잡하죠? 코드를 통해 살펴봅시다.<br>\n",
    "```python\n",
    "a = 10\n",
    "b = 20\n",
    "print(a)\n",
    "print(b)\n",
    "\n",
    "temp = a\n",
    "a = b\n",
    "b = temp\n",
    "print(a)\n",
    "print(b)\n",
    "```\n",
    "\n",
    "##### 위의 코드를 실행시켜보고 값이 바뀌었는지 확인해보세요."
   ]
  },
  {
   "cell_type": "code",
   "execution_count": 4,
   "id": "0db6679c",
   "metadata": {},
   "outputs": [
    {
     "name": "stdout",
     "output_type": "stream",
     "text": [
      "10\n",
      "20\n",
      "20\n",
      "10\n"
     ]
    }
   ],
   "source": [
    "a = 10\n",
    "b = 20\n",
    "print(a)\n",
    "print(b)\n",
    "\n",
    "temp = a\n",
    "a = b\n",
    "b = temp\n",
    "print(a)\n",
    "print(b)"
   ]
  },
  {
   "cell_type": "markdown",
   "id": "0453f59e",
   "metadata": {},
   "source": [
    "파이썬에서는 더 간단하게 값을 바꾸는 방법이 있지만 그건 다음에 ``튜플(tuple)`` 자료형을 배울 때 확인해보도록 하겠습니다."
   ]
  },
  {
   "cell_type": "markdown",
   "id": "d6a4b20b",
   "metadata": {},
   "source": [
    "### 서식 문자\n",
    "문자열을 출력할 때 변수를 활용해 출력하고 싶다는 다음과 같은 방법이 가능하겠네요.\n",
    "```python\n",
    "print('내 나이는 ', age, '입니다.', sep='')\n",
    "```\n",
    "\n",
    "하지만 많은 출력을 위와 같이 한다면 매우 불편할 겁니다.<br>\n",
    "파이썬은 서식문자를 사용해 출력을 보다 간편하게 할 수 있어요.<br>\n",
    "\n",
    "다음은 기본적인 서식문자예요.\n",
    "- %d: 정수 표현하기\n",
    "- %f: 실수 표현하기\n",
    "- %s: 문자열 표현하기\n",
    "\n",
    "\n",
    "#### % 사용하기\n",
    "```python\n",
    "print('내 나이는 %d입니다.' % age)\n",
    "```\n",
    "\n",
    "#### format 사용하기\n",
    "```python\n",
    "print('내 나이는 {}입니다.'.format(age))\n",
    "```\n",
    "\n",
    "#### f'' 사용하기\n",
    "```python\n",
    "print(f'내 나이는 {age}입니다.')\n",
    "```\n",
    "\n",
    "##### 위의 코드를 실행시켜보고 값을 확인해보세요."
   ]
  },
  {
   "cell_type": "code",
   "execution_count": 6,
   "id": "046b0b20",
   "metadata": {},
   "outputs": [
    {
     "name": "stdout",
     "output_type": "stream",
     "text": [
      "내 나이는 27입니다.\n",
      "내 나이는 27입니다.\n",
      "내 나이는 27입니다.\n"
     ]
    }
   ],
   "source": [
    "print('내 나이는 %d입니다.'%age)\n",
    "print('내 나이는 {}입니다.'.format(age))\n",
    "print(f'내 나이는 {age}입니다.')"
   ]
  },
  {
   "cell_type": "markdown",
   "id": "afd049f6",
   "metadata": {},
   "source": [
    "그러나 여러 개의 값을 서식문자를 활용해 출력하고자 할 경우에는 어떻게 하면 될까요?<br>\n",
    "다음과 같이 ()를 통해 값을 표현하면 됩니다.\n",
    "\n",
    "#### % 사용하기\n",
    "```python\n",
    "print('내 이름은 %s이고 내 나이는 %d입니다.' %(name, age))\n",
    "```\n",
    "#### format 사용하기\n",
    "```python\n",
    "print('내 이름은 {}이고 내 나이는 {}입니다.'.format(name, age))\n",
    "```\n",
    "#### f'' 사용하기\n",
    "```python\n",
    "print(f'내 이름은 {name}이고 내 나이는 {age}입니다.')\n",
    "```\n",
    "\n",
    "##### 위의 코드를 실행시켜보고 값을 확인해보세요."
   ]
  },
  {
   "cell_type": "code",
   "execution_count": 8,
   "id": "be63e90b",
   "metadata": {},
   "outputs": [
    {
     "name": "stdout",
     "output_type": "stream",
     "text": [
      "내 이름은 녜님이고 내 나이는 27 입니다.\n",
      "내 이름은 녜님이고 내 나이는 27입니다.\n",
      "내 이름은 녜님이고 내 나이는 27입니다.\n"
     ]
    }
   ],
   "source": [
    "print('내 이름은 %s이고 내 나이는 %d 입니다.'%(name,age))\n",
    "print('내 이름은 {}이고 내 나이는 {}입니다.'.format(name,age))\n",
    "print(f'내 이름은 {name}이고 내 나이는 {age}입니다.')"
   ]
  },
  {
   "cell_type": "markdown",
   "id": "11ae24a4",
   "metadata": {},
   "source": [
    "실수의 경우 소수점을 지정해서 출력하고 싶다면 다음과 같은 방법을 활용하면 됩니다.\n",
    "```python\n",
    "print(\"{:.3f}\".format(0.11111111111)) # :.소수점자리수f\n",
    "```\n",
    "\n",
    "##### 위의 코드를 실행시켜보고 값을 확인해보세요."
   ]
  },
  {
   "cell_type": "code",
   "execution_count": 10,
   "id": "8f89dab8",
   "metadata": {},
   "outputs": [
    {
     "name": "stdout",
     "output_type": "stream",
     "text": [
      "0.111\n"
     ]
    }
   ],
   "source": [
    "print(\"{:.3f}\".format(0.11111111111))"
   ]
  }
 ],
 "metadata": {
  "kernelspec": {
   "display_name": "Python 3 (ipykernel)",
   "language": "python",
   "name": "python3"
  },
  "language_info": {
   "codemirror_mode": {
    "name": "ipython",
    "version": 3
   },
   "file_extension": ".py",
   "mimetype": "text/x-python",
   "name": "python",
   "nbconvert_exporter": "python",
   "pygments_lexer": "ipython3",
   "version": "3.9.7"
  }
 },
 "nbformat": 4,
 "nbformat_minor": 5
}
