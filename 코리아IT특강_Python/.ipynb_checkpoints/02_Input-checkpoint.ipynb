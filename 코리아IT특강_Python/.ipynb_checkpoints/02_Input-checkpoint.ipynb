{
 "cells": [
  {
   "cell_type": "markdown",
   "id": "af7c5cd3",
   "metadata": {},
   "source": [
    "## Input\n",
    "이번 챕터에서는 변수를 입력 받는 방법에 대해 알아보겠습니다.<br>\n",
    "프로그래밍을 하다보면 실행시간 중(Runtime)에 변수를 입력받을 일이 매우 많습니다.\n",
    "\n",
    "변수를 입력받을 때는 input 함수를 사용합니다.\n",
    "1. input(): 하나의 변수를 입력받을 때 사용\n",
    "2. input().split() : 두 개 이상의 변수를 입력받을 때 사용\n",
    "\n",
    "- input()에서 괄호 안에 문자열을 입력할 수 있습니다. \n",
    "    - ex) input ('이름을 입력해주세요.')\n",
    "- split() : 문자열을 나눠주는 역할을 하는 함수로 괄호 안에 아무것도 입력하지 않는 경우 공백을 기준으로 문자열을 나눠줍니다. \n",
    "    - ex) split(',') -> 구분자가 ',' 이다.\n",
    "    \n",
    "3. map(형변환함수, list): 리스트 내부 원소의 데이터 타입을 형변환 함수로 바꿔줍니다.\n",
    "    - 리스트란 파이썬 자료구조 프레임 워크 중 하나로 데이터 집합의 종류입니다."
   ]
  },
  {
   "cell_type": "code",
   "execution_count": 3,
   "id": "f16fc1ab",
   "metadata": {
    "scrolled": true
   },
   "outputs": [
    {
     "name": "stdout",
     "output_type": "stream",
     "text": [
      "이름을 입력해주세요.최한빈\n",
      "최한빈\n",
      "<class 'str'>\n",
      "나이를 적어주세요.28\n",
      "28\n",
      "<class 'str'>\n"
     ]
    }
   ],
   "source": [
    "name = input('이름을 입력해주세요.')\n",
    "print(name)\n",
    "print(type(name)) # str 타입\n",
    "\n",
    "age = input('나이를 적어주세요.')\n",
    "print(age)\n",
    "print(type(age)) # str 타입"
   ]
  },
  {
   "cell_type": "code",
   "execution_count": 4,
   "id": "bea12d10",
   "metadata": {
    "scrolled": true
   },
   "outputs": [
    {
     "name": "stdout",
     "output_type": "stream",
     "text": [
      "나이를 적어주세요.99\n",
      "99\n",
      "<class 'int'>\n"
     ]
    }
   ],
   "source": [
    "# int 로 바꾸서 입력 받기 \n",
    "age = int(input('나이를 적어주세요.'))\n",
    "print(age)\n",
    "print(type(age))"
   ]
  },
  {
   "cell_type": "code",
   "execution_count": 5,
   "id": "709a974d",
   "metadata": {},
   "outputs": [
    {
     "name": "stdout",
     "output_type": "stream",
     "text": [
      "당신의 이름과 나이를 입력해주세요.녜님 28\n",
      "녜님 28\n",
      "name의 타입 <class 'str'>\n",
      "age의 타입 <class 'str'>\n"
     ]
    }
   ],
   "source": [
    "# 여러개의 데이터 입력받기\n",
    "name, age = input('당신의 이름과 나이를 입력해주세요.').split()\n",
    "print(name,age)\n",
    "print('name의 타입',type(name))\n",
    "print('age의 타입', type(age))\n",
    "\n"
   ]
  },
  {
   "cell_type": "code",
   "execution_count": 7,
   "id": "e1478f54",
   "metadata": {},
   "outputs": [
    {
     "name": "stdout",
     "output_type": "stream",
     "text": [
      "당신의 이름과 나이를 입력해주세요.녜님 28\n",
      "name의 타입: <class 'str'>\n",
      "age의 타입: <class 'int'>\n"
     ]
    }
   ],
   "source": [
    "# 여러 개의 데이터 입력받기 + 타입 변환\n",
    "name, age = input('당신의 이름과 나이를 입력해주세요.').split()\n",
    "age = int(age)\n",
    "print('name의 타입:',type(name))\n",
    "print('age의 타입:', type(age))"
   ]
  },
  {
   "cell_type": "code",
   "execution_count": 8,
   "id": "ac7baaa4",
   "metadata": {
    "scrolled": true
   },
   "outputs": [
    {
     "name": "stdout",
     "output_type": "stream",
     "text": [
      "한빈이와 한순이의 나이를 입력해주세요.11 12\n",
      "age1의 타입: <class 'int'>\n",
      "age2의 타입: <class 'int'>\n"
     ]
    }
   ],
   "source": [
    "age1, age2 = map(int,input('한빈이와 한순이의 나이를 입력해주세요.').split())\n",
    "# a,b = map(int,input().split())  -> 문제풀이에서 많이 쓰임 \n",
    "print('age1의 타입:',type(age1))\n",
    "print('age2의 타입:', type(age))"
   ]
  },
  {
   "cell_type": "code",
   "execution_count": 9,
   "id": "4fffbfbb",
   "metadata": {},
   "outputs": [
    {
     "name": "stdout",
     "output_type": "stream",
     "text": [
      "1 2\n",
      "3\n"
     ]
    }
   ],
   "source": [
    "a, b = map(int,input().split())\n",
    "print(a+b)"
   ]
  }
 ],
 "metadata": {
  "kernelspec": {
   "display_name": "Python 3 (ipykernel)",
   "language": "python",
   "name": "python3"
  },
  "language_info": {
   "codemirror_mode": {
    "name": "ipython",
    "version": 3
   },
   "file_extension": ".py",
   "mimetype": "text/x-python",
   "name": "python",
   "nbconvert_exporter": "python",
   "pygments_lexer": "ipython3",
   "version": "3.9.7"
  }
 },
 "nbformat": 4,
 "nbformat_minor": 5
}
