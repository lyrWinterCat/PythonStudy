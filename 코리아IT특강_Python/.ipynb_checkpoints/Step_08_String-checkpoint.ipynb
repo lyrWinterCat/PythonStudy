{
 "cells": [
  {
   "cell_type": "markdown",
   "id": "c565cf62",
   "metadata": {},
   "source": [
    "## String\n",
    "데이터 타입을 배울 때 문자열은 간략하게 배웠습니다.<br>\n",
    "문자열 연산자(+, \\*)와 문자열과 관련된 함수들(str, len 등)을 배웠죠.<br>\n",
    "\n",
    "\n",
    "이번 실습에서는 문자열에 대한 특징들에 대해 간략하게 짚어보고 문제를 풀어보도록 하겠습니다."
   ]
  },
  {
   "cell_type": "markdown",
   "id": "acefa528",
   "metadata": {},
   "source": [
    "### 문자열의 특징\n",
    "수업시간에 설명드릴 때는 문자열의 특징으로 두 가지를 꼽았습니다.\n",
    "- 슬라이싱이 가능하다.\n",
    "- 값을 수정할 수 없다.\n",
    "\n",
    "##### 문자열의 슬라이싱\n",
    "- 인덱스를 활용해 문자열의 문자(들)을 검색할 수 있습니다.<br>\n",
    "\n",
    "정수 하나만 넣어서 그 정수에 해당하는 인덱스의 글자를 확인하거나, :를 통해 어떤 범위에 해당하는 글자들을 검색할 수 있었습니다.<br>\n",
    "- 범위를 벗어나는 인덱스를 입력할 때 오류가 발생하니 이를 주의하여 슬라이싱을 하셔야 합니다.<br>\n",
    "- 음수를 입력할 때는 뒤에서부터 차례로 값을 검색합니다.\n",
    "\n",
    "예제를 통해 한번 슬라이싱을 연습 해보죠.\n",
    "```python\n",
    "sentence = 'I love you.'\n",
    "\n",
    "# I  (이는 대문자 i)\n",
    "#  l (이는 공백과 소문자 l)\n",
    "# lov\n",
    "#  yo\n",
    "# .\n",
    "# u.\n",
    "# .u\n",
    "# oy\n",
    "# I lov\n",
    "# e you\n",
    "```\n",
    "##### 아래 셀에서 위의 값이 나오도록 sentence에 문자열을 할당한 뒤 코드를 작성하세요.\n",
    "\n",
    "hint: 공백이 있는 셀은 공백이 출력되도록 하시고, 문장이 거꾸로 출력된 것 또한 출력 양식을 지켜주세요."
   ]
  },
  {
   "cell_type": "code",
   "execution_count": 30,
   "id": "51e3e790",
   "metadata": {
    "scrolled": true
   },
   "outputs": [
    {
     "name": "stdout",
     "output_type": "stream",
     "text": [
      ".uoy evol I\n",
      "\n",
      "I\n",
      " l\n",
      "lov\n",
      " yo\n",
      ".\n",
      "u.\n",
      ".u\n",
      "oy\n",
      "I lov\n",
      "e you\n"
     ]
    }
   ],
   "source": [
    "sentence = 'I love you.'\n",
    "print(sentence[::-1])\n",
    "print()\n",
    "print(sentence[0])\n",
    "print(sentence[1:3])\n",
    "print(sentence[2:5])\n",
    "print(sentence[6:9])\n",
    "print(sentence[-1])\n",
    "print(sentence[-2:])\n",
    "print(sentence[::-1][:2])\n",
    "print(sentence[::-1][2:4])\n",
    "print(sentence[:5])\n",
    "print(sentence[5:10])"
   ]
  },
  {
   "cell_type": "markdown",
   "id": "0254f6df",
   "metadata": {},
   "source": [
    "### 실습 문제 1\n",
    "##### 문자열 뒤집기 프로그램 만들기\n",
    "수업 시간에 잠깐 풀어봤지만 문자열을 뒤집어서 새로운 문자열을 만들어야 하는 경우가 종종 존재하기에 해당 연습을 한번 더 하겠습니다. <br>\n",
    "\n",
    "reverse_string() 함수를 작성해서 문자열을 파라미터로 전달 받고, 이를 거꾸로 한 문자열을 리턴하는 함수를 만드시기 바랍니다."
   ]
  },
  {
   "cell_type": "code",
   "execution_count": 33,
   "id": "f5435241",
   "metadata": {},
   "outputs": [
    {
     "name": "stdout",
     "output_type": "stream",
     "text": [
      "olleH\n",
      "nibnaH\n"
     ]
    }
   ],
   "source": [
    "def reverse_string(str1):\n",
    "    print(str1[::-1])\n",
    "    \n",
    "    \n",
    "reverse_string('Hello')\n",
    "reverse_string('Hanbin')"
   ]
  },
  {
   "cell_type": "code",
   "execution_count": null,
   "id": "89dbfed3",
   "metadata": {},
   "outputs": [],
   "source": [
    "assert reverse_string('Hello') == 'olleH'\n",
    "assert reverse_string('Hanbin') == 'nibnaH'"
   ]
  },
  {
   "cell_type": "markdown",
   "id": "5a69e320",
   "metadata": {},
   "source": [
    "### 실습 문제 2\n",
    "##### 문자열을 전달받았을 때 그 문자열의 왼쪽 글자를 가장 오른쪽에 붙이는 함수 만들기\n",
    "문자열을 전달 받았을 때 그 문자열의 가장 왼쪽 글자를 가장 오른쪽에 붙이는 함수를 만들어볼겁니다.<br>\n",
    "예를 들면 hello가 주어진다면 elloh을 리턴하는 함수를 만드는 것이죠.<br>\n",
    "string_function()이라는 이름으로 함수를 만들어서 풀어봅시다."
   ]
  },
  {
   "cell_type": "code",
   "execution_count": 34,
   "id": "42f8d14e",
   "metadata": {},
   "outputs": [
    {
     "name": "stdout",
     "output_type": "stream",
     "text": [
      "elloH\n",
      "anbinH\n"
     ]
    }
   ],
   "source": [
    "def string_function(str2):\n",
    "    print(str2[1:]+str2[0])\n",
    "string_function('Hello')\n",
    "string_function('Hanbin')"
   ]
  },
  {
   "cell_type": "code",
   "execution_count": null,
   "id": "364a007f",
   "metadata": {},
   "outputs": [],
   "source": [
    "assert string_function('Hello') == 'elloh'\n",
    "assert string_function('Hanbin') == 'anbinH'"
   ]
  },
  {
   "cell_type": "markdown",
   "id": "302bb839",
   "metadata": {},
   "source": [
    "### Escape Sequence\n",
    "키보드의 backslash(\\) 기호를 escape 글자라고 칭합니다. <br>\n",
    "Escape sequence는 문자열 안에 특수 기호를 나타내거나, 혹은 특수한 기능을 사용할 때 활용합니다.<br>\n",
    "Escape sequence에서 \\는 문자열의 길이에 포함되지 않습니다.<br>\n",
    "\n",
    "| Escape Sequence | Description |\n",
    "| :-: | :-: |\n",
    "| \\' | Single quote |\n",
    "| \\\" | Double quote |\n",
    "| \\\\ | Backslash |\n",
    "| \\t | Tab |\n",
    "| \\n | Newline |\n",
    "| \\r | Carriage return | \n",
    "\n",
    "저희가 셀에서 마크다운으로 어떤 문자를 입력했는데 그 문자가 어떤 특수한 기능을 하는 경우 이를 그대로 출력하기 위해서 \\를 앞에 붙여줬던 것을 기억하실 겁니다.<br>\n",
    "이 기능을 하는 것이 \\입니다."
   ]
  }
 ],
 "metadata": {
  "kernelspec": {
   "display_name": "Python 3 (ipykernel)",
   "language": "python",
   "name": "python3"
  },
  "language_info": {
   "codemirror_mode": {
    "name": "ipython",
    "version": 3
   },
   "file_extension": ".py",
   "mimetype": "text/x-python",
   "name": "python",
   "nbconvert_exporter": "python",
   "pygments_lexer": "ipython3",
   "version": "3.9.7"
  }
 },
 "nbformat": 4,
 "nbformat_minor": 5
}
