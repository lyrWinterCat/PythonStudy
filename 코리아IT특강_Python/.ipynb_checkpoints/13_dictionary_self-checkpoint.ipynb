{
 "cells": [
  {
   "cell_type": "markdown",
   "id": "f436a505",
   "metadata": {},
   "source": [
    "## dictionary\n",
    "![파이썬 데이터 타입](01_Data_type.jpg)\n",
    "\n",
    "### 파이썬 집합 데이터\n",
    "- list : 순서가 있다. 중복을 허용한다. mutable\n",
    "- tuple : 순서가 있다. 중복을 허용한다. immutable\n",
    "- set : 순서가 없다. 중복을 허용하지 않는다.\n",
    "- dict : key와 value 쌍으로 구성된다. 순서가 없다. \n",
    "\n",
    "### dict\n",
    "- dictionary는 key-value 쌍으로 저장되는 데이터 집합입니다. \n",
    "- dictionary는 순서가 없기 때문에 인덱싱이 불가능하지만 key를 통한 검색이 가능합니다.\n",
    "\n",
    "\n",
    "### dict의 기본 구조\n",
    "- dictionary는 {}를 통해 데이터를 표현합니다.\n",
    "```python\n",
    "{key1:value1, key2: value2, key3: value3 ...}\n",
    "\n",
    "```\n"
   ]
  },
  {
   "cell_type": "code",
   "execution_count": 2,
   "id": "52a4c29b",
   "metadata": {},
   "outputs": [
    {
     "name": "stdout",
     "output_type": "stream",
     "text": [
      "{} <class 'dict'>\n",
      "{'name': '최한빈', 'e-mail': 'choi@naver.com'}\n"
     ]
    }
   ],
   "source": [
    "# 딕셔너리의 기본 구조\n",
    "student = {}\n",
    "print(student, type(student))\n",
    "\n",
    "student = {\n",
    "    \"name\":'최한빈', # key1:value1 의 콜론 : 적어주기 / key - value 쌍 간에 , 로 구분해주기\n",
    "    \"e-mail\":'choi@naver.com'\n",
    "    \n",
    "}\n",
    "print(student)"
   ]
  },
  {
   "cell_type": "markdown",
   "id": "95acdec1",
   "metadata": {},
   "source": [
    "### dictionary의 데이터 검색\n",
    "1. key값을 활용합니다.\n",
    "2. get()함수를 활용합니다.\n",
    "\n",
    "get 함수를 활용할 경우에는 예외적인 상황에서도 동작 가능하도록 처리가 가능합니다. \n"
   ]
  },
  {
   "cell_type": "code",
   "execution_count": 7,
   "id": "2a74116d",
   "metadata": {
    "scrolled": true
   },
   "outputs": [
    {
     "name": "stdout",
     "output_type": "stream",
     "text": [
      "최한빈\n",
      "최한빈\n",
      "None\n",
      "10\n"
     ]
    }
   ],
   "source": [
    "# 딕셔너리의 데이터 검색\n",
    "# 방법 1 : key값 사용\n",
    "print(student['name']) # 최한빈\n",
    "# print(student['id']) # keyError\n",
    "\n",
    "# 방법 2 : get(key) 사용\n",
    "print(student.get('name')) # 최한빈\n",
    "print(student.get('id')) # None\n",
    "print(student.get('id',10)) # 10 //none일 경우 10 반환 해라 "
   ]
  },
  {
   "cell_type": "markdown",
   "id": "e80a922c",
   "metadata": {},
   "source": [
    "### dictionary의 데이터 수정/추가/삭제\n",
    "1. 데이터의 수정은 key값을 적어주고 , 할당연산자(=)를 통해 수정할 값을 입력합니다.\n",
    "2. 데이터의 추가는 만들 key 값을 적어주고, 할당연산자를 통해 값을 추가합니다.\n",
    "3. 데이터의 삭제는 del 함수를 사용합니다."
   ]
  },
  {
   "cell_type": "code",
   "execution_count": 14,
   "id": "0b9008a5",
   "metadata": {},
   "outputs": [
    {
     "name": "stdout",
     "output_type": "stream",
     "text": [
      "{'name': '최한빈', 'e-mail': 'choi@naver.com'}\n",
      "\n",
      "{'name': '한빈최', 'e-mail': 'choi@naver.com'}\n",
      "\n",
      "{'name': '한빈최', 'e-mail': 'choi@naver.com', 'address': '김포'}\n",
      "\n",
      "{'name': '한빈최', 'address': '김포'}\n"
     ]
    }
   ],
   "source": [
    "student = {\n",
    "    \"name\":'최한빈', # key1:value1 의 콜론 : 적어주기 / key - value 쌍 간에 , 로 구분해주기\n",
    "    \"e-mail\":'choi@naver.com'\n",
    "}\n",
    "print(student)\n",
    "print()\n",
    "# 데이터의 수정\n",
    "student['name'] = '한빈최'\n",
    "print(student)\n",
    "print()\n",
    "\n",
    "# 데이터의 추가\n",
    "student['address'] = '김포'\n",
    "print(student)\n",
    "print()\n",
    "\n",
    "# 데이터의 삭제\n",
    "del(student['e-mail'])\n",
    "print(student)"
   ]
  },
  {
   "cell_type": "markdown",
   "id": "32c744f9",
   "metadata": {},
   "source": [
    "### dictionary 의 key/value\n",
    "딕셔너리의 key 값은 해쉬가 가능해야 합니다.(집합데이터는 key값으로 사용이 불가능합니다.)<br>\n",
    "다만, 딕셔너리의 value 는 어떤 데이터든 상관이 없습니다. <br>\n",
    "\n",
    "##### keys(), values(), items()\n",
    "- keys() : 딕셔너리의 모든 key를 반환합니다\n",
    "- values() : 딕셔너리의 모든 value를 반환합니다\n",
    "- items() : 딕셔너리의 모든 key와 value 쌍을 반환합니다"
   ]
  },
  {
   "cell_type": "code",
   "execution_count": 31,
   "id": "c2057a27",
   "metadata": {},
   "outputs": [
    {
     "name": "stdout",
     "output_type": "stream",
     "text": [
      "HaHa\n",
      "{3.14: 'pi', 'pi': 3.14, 'score': [100, 200, 300]} <class 'dict'>\n",
      "[100, 200, 300]\n",
      "300\n",
      "dict_keys([1, 'two', False]) <class 'dict_keys'>\n",
      "dict_keys([3.14, 'pi', 'score'])\n",
      "\n",
      "dict_values(['HaHa', {3.14: 'pi', 'pi': 3.14, 'score': [100, 200, 300]}, [10, 20, 30, 40]])\n",
      "\n",
      "dict_items([(1, 'HaHa'), ('two', {3.14: 'pi', 'pi': 3.14, 'score': [100, 200, 300]}), (False, [10, 20, 30, 40])])\n",
      "********************\n",
      "1 HaHa\n",
      "two {3.14: 'pi', 'pi': 3.14, 'score': [100, 200, 300]}\n",
      "False [10, 20, 30, 40]\n"
     ]
    }
   ],
   "source": [
    "dict1 = {\n",
    "    1:'HaHa',\n",
    "    'two': {\n",
    "        3.14:'pi',\n",
    "        'pi':3.14,\n",
    "        'score':[100,200,300]\n",
    "    },\n",
    "    False:[10,20,30,40],\n",
    "    #[1,2]:'Hello' typeError -> unhashable type\n",
    "    \n",
    "}\n",
    "print(dict1[1]) # 'HaHa'\n",
    "print(dict1['two'],type(dict1['two'])) # 딕셔너리 출력 {3.14: 'pi', 'pi': 3.14, 'score': [100, 200, 300]}\n",
    "print(dict1['two']['score']) # [100, 200, 300]\n",
    "print(dict1['two']['score'][2]) #300\n",
    "\n",
    "# keys()\n",
    "print(dict1.keys(),type(dict1.keys()))\n",
    "print(dict1['two'].keys())\n",
    "print()\n",
    "\n",
    "# values() \n",
    "print(dict1.values())\n",
    "print()\n",
    "\n",
    "# items()\n",
    "print(dict1.items())\n",
    "print('**'*10)\n",
    "# items() 활용\n",
    "for key,value in dict1.items():\n",
    "    print(key,value)\n",
    "    # key,value = (1, 'HaHa')\n",
    "    # key,value = ('two', {3.14: 'pi', 'pi': 3.14, 'score': [100, 200, 300]})\n",
    "    "
   ]
  },
  {
   "cell_type": "markdown",
   "id": "9619daf0",
   "metadata": {},
   "source": [
    "### 딕셔너리의 in 연산자\n",
    "``key``의 존재 여부를 확인할 때 사용합니다."
   ]
  },
  {
   "cell_type": "code",
   "execution_count": 34,
   "id": "cdea3f24",
   "metadata": {},
   "outputs": [
    {
     "name": "stdout",
     "output_type": "stream",
     "text": [
      "{'name': '한빈최', 'address': '김포'}\n",
      "True\n",
      "False\n"
     ]
    }
   ],
   "source": [
    "print(student)\n",
    "print('name' in student) # true\n",
    "print('e-mail' in student) # false"
   ]
  }
 ],
 "metadata": {
  "kernelspec": {
   "display_name": "Python 3 (ipykernel)",
   "language": "python",
   "name": "python3"
  },
  "language_info": {
   "codemirror_mode": {
    "name": "ipython",
    "version": 3
   },
   "file_extension": ".py",
   "mimetype": "text/x-python",
   "name": "python",
   "nbconvert_exporter": "python",
   "pygments_lexer": "ipython3",
   "version": "3.9.7"
  }
 },
 "nbformat": 4,
 "nbformat_minor": 5
}
