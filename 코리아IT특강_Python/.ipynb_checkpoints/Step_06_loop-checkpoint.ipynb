{
 "cells": [
  {
   "cell_type": "markdown",
   "metadata": {
    "id": "HR36-aikw4NQ"
   },
   "source": [
    "### 반복문\n",
    "파이썬에서의 반복문은 for문과 while문을 통해 구현합니다.<br>\n",
    "간단한 동작들을 반복적으로 수행하며 사람이 할 수 없는 일들을 해낼 수 있다는 게 프로그램의 가장 큰 장점이라고 할 수 있습니다.<br>\n",
    "그렇기 때문에 반복문을 잘 사용할 줄 아는 것이 매우 중요합니다.<br>\n",
    "\n",
    "기초 프로그래밍 문제, 현실 세계에서 발생하는 문제들은 대게 반복적으로 수행해야하는 업무가 많기에 ``조건문``과 ``반복문``을 알면 해결할 수 있는 경우가 매우 많습니다.<br>\n",
    "\n",
    "반복문 또한 조건문과 비슷하게 :을 사용한 뒤에 다음 문장에서 반복할 구문을 입력해 사용하는데, 이 또한 ``인덴트``(Tab or space * 4)가 매우 중요합니다.<br>\n",
    "\n",
    "for문은 다음과 같은 기본 구조를 가지고 있었죠.<br>\n",
    "```python\n",
    "for i in [1, 2, 3]:\n",
    "    print(i)\n",
    "\n",
    "for i in range(10):\n",
    "    print(i)\n",
    "```\n",
    "\n",
    "in 오른쪽에 있는 데이터 집합들을 처음부터 끝까지 i에 할당해주면서 반복적인 일을 처리하는 겁니다.<br>\n",
    "\n",
    "\n",
    "반면 while문은 다음과 같은 기본 구조를 가지고 있습니다.<br>\n",
    "```python\n",
    "i = 0\n",
    "while i < 10:\n",
    "    print(i)\n",
    "```\n",
    "\n",
    "while문은 같은 동작이더라도 다양하게 표현할 수 있었죠.<br>\n",
    "또한 무한 루프에 빠질 위험이 있었습니다.<br>\n",
    "이를 잘 확인하여 반복문을 사용하시길 바랍니다.<br>\n",
    "\n",
    "또한 증감 연산자나 break, continue, pass를 잘 사용하시면 훨씬 더 깔끔한 코딩을 할 수 있으니 이를 참고하여 잘 작성하시길 바랍니다.<br>"
   ]
  },
  {
   "cell_type": "code",
   "execution_count": null,
   "metadata": {
    "id": "9CWM2pjxw4NT"
   },
   "outputs": [],
   "source": []
  },
  {
   "cell_type": "markdown",
   "metadata": {
    "id": "8OQg-N9jw4NT"
   },
   "source": [
    "### 실습 문제 1\n",
    "수업 시간에 배웠던 구구단을 한번 더 만들어 볼겁니다.<br>\n",
    "특히 이번 실습 시간에는 15분 ~ 20분 정도 여유 시간을 두되, 수업 시간에 공부했던 내용을 참고하지 마시고 한번 작성해보시기 바랍니다.\n",
    "\n",
    "##### 아래에 코드를 작성해주세요."
   ]
  },
  {
   "cell_type": "code",
   "execution_count": null,
   "metadata": {
    "id": "1Ud_3BIww4NU"
   },
   "outputs": [],
   "source": [
    "'''\n",
    "구구단을 만들어서 다음과 같이 출력하도록 하십시오.\n",
    "\n",
    "출력 예시\n",
    "2 x 1 = 2\n",
    "2 x 2 = 4\n",
    "2 x 3 = 6\n",
    "2 x 4 = 8\n",
    "2 x 5 = 10\n",
    "2 x 6 = 12\n",
    "2 x 7 = 14\n",
    "2 x 8 = 16\n",
    "2 x 9 = 18\n",
    "----------\n",
    "3 x 1 = 3\n",
    "3 x 2 = 6\n",
    ".\n",
    ".\n",
    ".\n",
    "4 x 9 = 36\n",
    "----------\n",
    "5 x 1 = 5\n",
    "5 x 2 = 10\n",
    "5 x 3 = 15\n",
    ".\n",
    ".\n",
    ".\n",
    "\n",
    "9 x 8 = 72\n",
    "9 x 9 = 81\n",
    "----------\n",
    "hint: 왼쪽에 있는 단의 출력이 끝나면 ----------가 출력되는 것을 고려하여 코드를 작성해주세요.\n",
    "'''"
   ]
  },
  {
   "cell_type": "code",
   "execution_count": 9,
   "metadata": {},
   "outputs": [
    {
     "name": "stdout",
     "output_type": "stream",
     "text": [
      "2 X 1 = 2\n",
      "2 X 2 = 4\n",
      "2 X 3 = 6\n",
      "2 X 4 = 8\n",
      "2 X 5 = 10\n",
      "2 X 6 = 12\n",
      "2 X 7 = 14\n",
      "2 X 8 = 16\n",
      "2 X 9 = 18\n",
      "----------\n",
      "3 X 1 = 3\n",
      "3 X 2 = 6\n",
      "3 X 3 = 9\n",
      "3 X 4 = 12\n",
      "3 X 5 = 15\n",
      "3 X 6 = 18\n",
      "3 X 7 = 21\n",
      "3 X 8 = 24\n",
      "3 X 9 = 27\n",
      "----------\n",
      "4 X 1 = 4\n",
      "4 X 2 = 8\n",
      "4 X 3 = 12\n",
      "4 X 4 = 16\n",
      "4 X 5 = 20\n",
      "4 X 6 = 24\n",
      "4 X 7 = 28\n",
      "4 X 8 = 32\n",
      "4 X 9 = 36\n",
      "----------\n",
      "5 X 1 = 5\n",
      "5 X 2 = 10\n",
      "5 X 3 = 15\n",
      "5 X 4 = 20\n",
      "5 X 5 = 25\n",
      "5 X 6 = 30\n",
      "5 X 7 = 35\n",
      "5 X 8 = 40\n",
      "5 X 9 = 45\n",
      "----------\n",
      "6 X 1 = 6\n",
      "6 X 2 = 12\n",
      "6 X 3 = 18\n",
      "6 X 4 = 24\n",
      "6 X 5 = 30\n",
      "6 X 6 = 36\n",
      "6 X 7 = 42\n",
      "6 X 8 = 48\n",
      "6 X 9 = 54\n",
      "----------\n",
      "7 X 1 = 7\n",
      "7 X 2 = 14\n",
      "7 X 3 = 21\n",
      "7 X 4 = 28\n",
      "7 X 5 = 35\n",
      "7 X 6 = 42\n",
      "7 X 7 = 49\n",
      "7 X 8 = 56\n",
      "7 X 9 = 63\n",
      "----------\n",
      "8 X 1 = 8\n",
      "8 X 2 = 16\n",
      "8 X 3 = 24\n",
      "8 X 4 = 32\n",
      "8 X 5 = 40\n",
      "8 X 6 = 48\n",
      "8 X 7 = 56\n",
      "8 X 8 = 64\n",
      "8 X 9 = 72\n",
      "----------\n",
      "9 X 1 = 9\n",
      "9 X 2 = 18\n",
      "9 X 3 = 27\n",
      "9 X 4 = 36\n",
      "9 X 5 = 45\n",
      "9 X 6 = 54\n",
      "9 X 7 = 63\n",
      "9 X 8 = 72\n",
      "9 X 9 = 81\n",
      "----------\n"
     ]
    }
   ],
   "source": [
    "for i in range(2,10):\n",
    "     for j in range(1,10):\n",
    "        print(f'{i} X {j} = {i*j}')\n",
    "     print('--'*5)\n",
    "\n"
   ]
  },
  {
   "cell_type": "markdown",
   "metadata": {
    "id": "L1u9Crlow4NU"
   },
   "source": [
    "### 실습 문제 2\n",
    "이전 실습에서 작성한 실습 문제를 조금 변형할 겁니다.<br>\n",
    "if homework에서 1번째 실습 과제인 성적 판별 프로그램 중 만약 음수의 값을 입력받은 경우에는 ``음수의 값을 입력하셨습니다. 값을 다시 입력해주세요.``를 출력해주고 다시 정수를 입력받습니다.<br>\n",
    "만약 101 이상의 값을 입력받은 경우에는 ``너무 큰 값을 입력하셨습니다. 값을 다시 입력해주세요.``를 출력해주고, 다시 정수를 입력받습니다.<br>\n",
    "\n",
    "hint: 어떤 반복문을 사용하시는 게 효율적일지 생각해보시고 while문과 for문 중 하나로 작성하시기 바랍니다.\n",
    "\n",
    "##### 아래에 코드를 작성해주세요."
   ]
  },
  {
   "cell_type": "code",
   "execution_count": 3,
   "metadata": {
    "id": "GMkHRnMqw4NU",
    "scrolled": false
   },
   "outputs": [
    {
     "name": "stdout",
     "output_type": "stream",
     "text": [
      "101\n",
      "너무 큰 값을 입력하셨습니다. 값을 다시 입력해주세요\n",
      "103\n",
      "너무 큰 값을 입력하셨습니다. 값을 다시 입력해주세요\n",
      "-12\n",
      "음수의 값을 입력하셨습니다. 값을 다시 입력해주세요.\n",
      "-15\n",
      "음수의 값을 입력하셨습니다. 값을 다시 입력해주세요.\n",
      "54\n",
      "값이 적당합니다.\n"
     ]
    }
   ],
   "source": [
    "#num = int(input())\n",
    "#for i in range(100):\n",
    "#    if num <=0:\n",
    "#        print('음수의 값을 입력하셨습니다. 값을 다시 입력해주세요.')\n",
    "#        num = int(input())\n",
    "#        continue\n",
    "#    elif num <50:\n",
    "#        print('값이 너무 작습니다.')\n",
    "#        break\n",
    "#    elif num <= 100:\n",
    "#        print('값이 적당합니다.')\n",
    "#        break\n",
    "#    else:\n",
    "#        print('너무 큰 값을 입력하셨습니다. 값을 다시 입력해주세요.')\n",
    "#        num = int(input())\n",
    "#        continue\n",
    "\n",
    "score = 0\n",
    "while score == 0:\n",
    "    num=int(input())\n",
    "    if num <=0:\n",
    "        print('음수의 값을 입력하셨습니다. 값을 다시 입력해주세요.')\n",
    "    elif num <= 100:\n",
    "        print('값이 적당합니다.')\n",
    "        score += 1\n",
    "    else:\n",
    "        print('너무 큰 값을 입력하셨습니다. 값을 다시 입력해주세요')\n",
    "        "
   ]
  },
  {
   "cell_type": "code",
   "execution_count": null,
   "metadata": {
    "collapsed": true
   },
   "outputs": [
    {
     "name": "stdout",
     "output_type": "stream",
     "text": [
      "105\n",
      "105\n",
      "너무 큰 값 입력. 값을 다시 입력해주세요\n",
      "-155\n",
      "-155\n",
      "음수 값을 입력, 값을 다시 입력해주세요\n",
      "-1\n",
      "-1\n",
      "음수 값을 입력, 값을 다시 입력해주세요\n"
     ]
    }
   ],
   "source": [
    "# 강사님 풀이 \n",
    "while True:\n",
    "    value = int(input())\n",
    "    print(value)\n",
    "    if value < 0 or value > 100:\n",
    "        if value < 0 :\n",
    "            print('음수 값을 입력, 값을 다시 입력해주세요')\n",
    "        else:\n",
    "            print('너무 큰 값 입력. 값을 다시 입력해주세요')\n",
    "        continue\n",
    "    break"
   ]
  },
  {
   "cell_type": "code",
   "execution_count": null,
   "metadata": {},
   "outputs": [],
   "source": []
  }
 ],
 "metadata": {
  "colab": {
   "collapsed_sections": [],
   "name": "Step_06_loop.ipynb",
   "provenance": []
  },
  "kernelspec": {
   "display_name": "Python 3 (ipykernel)",
   "language": "python",
   "name": "python3"
  },
  "language_info": {
   "codemirror_mode": {
    "name": "ipython",
    "version": 3
   },
   "file_extension": ".py",
   "mimetype": "text/x-python",
   "name": "python",
   "nbconvert_exporter": "python",
   "pygments_lexer": "ipython3",
   "version": "3.9.7"
  }
 },
 "nbformat": 4,
 "nbformat_minor": 1
}
