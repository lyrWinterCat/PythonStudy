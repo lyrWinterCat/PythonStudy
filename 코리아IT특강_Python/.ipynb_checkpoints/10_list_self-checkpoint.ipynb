{
 "cells": [
  {
   "cell_type": "markdown",
   "id": "8016204e",
   "metadata": {},
   "source": [
    "## List\n",
    "리스트는 파이썬의 주요 자료구조 프레임워크 입니다. <br>\n",
    "![파이썬 데이터 타입](01_Data_type.jpg)"
   ]
  },
  {
   "cell_type": "markdown",
   "id": "3c8e19b3",
   "metadata": {},
   "source": [
    "여태까지 numeric한 데이터 타입과 sequence type 데이터 중 string, 그리고 boolean 타입의 데이터 타입을 배웠습니다.<br>\n",
    "그 외에도 파이썬에서는 여러 개의 데이터를 담는 집합 데이터 타입들이 존재합니다.\n",
    "\n",
    "### 파이썬 집합 데이터\n",
    "- list : 순서가 있다. (인덱스를 통한 검색이 가능하다.) 중복을 허용한다. mutable(리스트 내부의 값을 바꿀 수 있다.)\n",
    "    - cf) string : 순서가 있다. 중복을 허용한다. ('aaaaa') immutable(내부의 값을 바꿀 수 없다.) -> 집합데이터가 아님  \n",
    "- tuple : 순서가 있다. 중복을 허용한다. immutable\n",
    "- set : 순서가 없다. 중복을 허용하지 않는다. -> 수학에서의 집합과 동일 \n",
    "- dict : key와 value 쌍으로 구성된다. 순서가 없다. \n",
    "\n",
    "### list\n",
    "- list는 [] 사이에 값을 넣어 만들 수 있습니다.\n",
    "- 데이터(원소)들은 , 를 통해 구분합니다.\n",
    "- 각 데이터들은 어떤 타입도 가능합니다. -> 리스트도 데이터에 들어갈 수 있습니다. \n"
   ]
  },
  {
   "cell_type": "code",
   "execution_count": 3,
   "id": "d8143ea7",
   "metadata": {},
   "outputs": [
    {
     "name": "stdout",
     "output_type": "stream",
     "text": [
      "['dog', 'dog', 'cat', 'bird', 1, 0.1, 2j, []]\n",
      "['dog', 'dog', 'cat', 'bird']\n",
      "<class 'list'>\n"
     ]
    }
   ],
   "source": [
    "# 리스트의 기본 구조\n",
    "animals = ['dog', 'dog', 'cat', 'bird',1, 0.1, 2j, []]\n",
    "print(animals) # 잘 동작함\n",
    "\n",
    "animals = ['dog', 'dog', 'cat', 'bird']\n",
    "print(animals) # ['dog', 'dog', 'cat', 'bird']\n",
    "print(type(animals)) #<class 'list'>\n",
    "\n",
    "animals = ['dog',\n",
    "          'dog',\n",
    "          'cat',\n",
    "          'bird']\n",
    "print(animals) # 사용가능"
   ]
  },
  {
   "cell_type": "markdown",
   "id": "d8db74e8",
   "metadata": {},
   "source": [
    "### 인덱싱\n",
    "- 인덱스는 번호를 통해서 자료를 검색, 삽입, 삭제, 수정할 수 있도록 도와줍니다.\n",
    "- 인덱스는 0번부터 시작하고, 그 자료의 길이 -1 까지의 범위를 가집니다. \n",
    "- 집합 데이터의 원소(데이터)들에 접근하기 위해서 [] 기호를 사용합니다.\n",
    "- string 에서 배웠던 슬라이싱과 비슷하게 사용 가능합니다. 하지만 주로 범위를 통한 지정보단, 원소 하나에 대한 검색, 삽입, 삭제, 수정 등을 하기 위해 사용합니다. \n"
   ]
  },
  {
   "cell_type": "code",
   "execution_count": 15,
   "id": "94f32232",
   "metadata": {
    "scrolled": true
   },
   "outputs": [
    {
     "name": "stdout",
     "output_type": "stream",
     "text": [
      "dog\n",
      "bird\n",
      "cat\n",
      "['dog', 'dog', 'cat', 'bird']\n",
      "['dog', 'tiger', 'cat', 'bird']\n",
      "['tiger', 'cat'] <class 'list'>\n",
      "['tiger', 'cat', 'bird']\n",
      "['dog', 'tiger', 'cat']\n",
      "\n",
      "tiger <class 'str'>\n",
      "['tiger', 'cat'] <class 'list'>\n"
     ]
    }
   ],
   "source": [
    "# indexing\n",
    "print(animals[0]) # dog\n",
    "#print(animals[4]) # 인덱스 범위를 벗어남 IndexError \n",
    "\n",
    "# 음수 indexing\n",
    "print(animals[-1]) # bird\n",
    "print(animals[-2]) #cat\n",
    "\n",
    "# 인덱싱을 통한 데이터 수정 -> string은 불가능 \n",
    "animals[1] = 'dog'\n",
    "print(animals)\n",
    "animals[1] = 'tiger'\n",
    "print(animals)\n",
    "\n",
    "# slicing\n",
    "print(animals[1:3],type(animals[1:3])) # ['tiger', 'cat'] <class 'list'>\n",
    "print(animals[1:])\n",
    "print(animals[:3])\n",
    "\n",
    "print()\n",
    "\n",
    "# type\n",
    "print(animals[1], type(animals[1])) # tiger <class 'str'>\n",
    "print(animals[1:3], type(animals[1:3])) # ['tiger', 'cat'] <class 'list'>\n"
   ]
  },
  {
   "cell_type": "markdown",
   "id": "71ac554f",
   "metadata": {},
   "source": [
    "### 리스트 관련 함수\n",
    "- len(list): 리스트의 길이를 반환합니다.\n",
    "- index(value): value의 인덱스를 반환합니다. \n",
    "- append(value) : 리스트에 데이터를 뒤에 추가합니다.\n",
    "- extend(list) : 리스트에 리스트를 뒤에 추가합니다. \n",
    "- insert(index, value): 리스트의 인덱스에 value를 추가합니다.\n",
    "- pop(n) : n번째 데이터를 추출합니다. \n",
    "- remove(value) : 리스트 내에서 주어진 아이템과 동일한 아이템을 모두 제거합니다. \n",
    "- count(value) : 리스트 내에서 주어진 아이템과 동이한 아이템의 갯수를 카운트합니다. \n",
    "- del(list[index]) : 리스트의 데이터를 삭제합니다. \n",
    "- sort() : 데이터의 원소를 오름차순으로 정렬합니다. \n",
    "- sum(list) : 데이터의 원소의 합을 반환합니다."
   ]
  },
  {
   "cell_type": "code",
   "execution_count": 36,
   "id": "be72632e",
   "metadata": {},
   "outputs": [
    {
     "name": "stdout",
     "output_type": "stream",
     "text": [
      "['dog', 'dog', 'dog', 'cat']\n",
      "4\n",
      "0\n",
      "['dog', 'dog', 'cat', 'bird', 'dog']\n",
      "0\n",
      "['dog', 'dog', 'cat', 'bird', 'dog', 'cat_2']\n",
      "['dog', 'insert', 'dog', 'cat', 'bird', 'dog', 'cat_2']\n",
      "cat_2\n",
      "['dog', 'insert', 'dog', 'cat', 'bird', 'dog']\n",
      "['dog', 'insert', 'dog', 'cat', 'dog']\n",
      "3\n",
      "['dog', 'dog', 'cat', 'dog']\n",
      "['cat', 'dog', 'dog', 'dog']\n",
      "['dog', 'dog', 'dog', 'cat']\n",
      "['cat', 'dog', 'dog', 'dog']\n",
      "['dog', 'dog', 'dog', 'cat']\n"
     ]
    }
   ],
   "source": [
    "print(animals)\n",
    "animals = ['dog', 'dog', 'cat', 'bird']\n",
    "\n",
    "#len()\n",
    "print(len(animals)) # 4\n",
    "\n",
    "# index()\n",
    "print(animals.index('dog')) # 0\n",
    "\n",
    "# append() //데이터 하나만 추가\n",
    "animals.append('dog')\n",
    "print(animals)\n",
    "print(animals.index('dog')) # 0 // 두개 이상의 원소가 존재할 경우 앞에 있는 원소의 인덱스를 반환\n",
    "\n",
    "# extend() //리스트의 원소를 뒤에 추가 != append\n",
    "animals.extend(['cat_2'])\n",
    "print(animals)\n",
    "\n",
    "# insert()\n",
    "animals.insert(1, 'insert')\n",
    "print(animals)\n",
    "\n",
    "\n",
    "# pop()\n",
    "data = animals.pop()\n",
    "print(data)\n",
    "print(animals) # cat_2 추출되어 빠짐\n",
    "\n",
    "# remove()\n",
    "animals.remove('bird')\n",
    "print(animals)\n",
    "\n",
    "# count()\n",
    "print(animals.count('dog')) #3\n",
    "\n",
    "# del()\n",
    "del(animals[1])\n",
    "print(animals)\n",
    "\n",
    "# sort()\n",
    "animals.sort() # 오름차순 정렬\n",
    "print(animals)\n",
    "animals.sort(reverse=True) # 내림차순 정렬\n",
    "print(animals)\n",
    "\n",
    "\n",
    "# cf) sorted() : 리스트의 값을 실제로 바꾸지는 않지만 정렬한 결과를 새로운 리스트로 반환한다. \n",
    "print(sorted(animals))\n",
    "print(animals)"
   ]
  },
  {
   "cell_type": "markdown",
   "id": "4a2accc6",
   "metadata": {},
   "source": [
    "### 리스트의 연산\n",
    "- `+` : 리스트 사이에 + 연산하면 두 개의 리스트를 합한 리스트가 나옵니다. # str과 비슷\n",
    "- `*` : 리스트 * 정수를 연산하면 해당 리스트가 정수배만큼 추가된 리스트가 나옵니다.# str과 비슷\n",
    "- in : 리스트에 데이터가 존재하는지 bool 타입으로 반환 (True/False)"
   ]
  },
  {
   "cell_type": "code",
   "execution_count": 41,
   "id": "7b9866ea",
   "metadata": {},
   "outputs": [
    {
     "name": "stdout",
     "output_type": "stream",
     "text": [
      "['dog', 'dog', 'dog', 'cat', 'monkey', 'dolphin']\n",
      "['monkey', 'dolphin', 'monkey', 'dolphin', 'monkey', 'dolphin']\n",
      "False\n",
      "True\n"
     ]
    }
   ],
   "source": [
    "# +\n",
    "animals2 = ['monkey', 'dolphin']\n",
    "print(animals + animals2)\n",
    "\n",
    "# *\n",
    "print(animals2 * 3)\n",
    "\n",
    "\n",
    "# in \n",
    "print('monkey' in animals) # False\n",
    "print('monkey' in animals2) # True"
   ]
  },
  {
   "cell_type": "markdown",
   "id": "d9e112bf",
   "metadata": {},
   "source": [
    "### 리스트의 bool 타입\n",
    "- 비어있는 리스트는 False\n",
    "- 리스트 내부에 원소가 존재한다면 True"
   ]
  },
  {
   "cell_type": "code",
   "execution_count": 44,
   "id": "5b0b21a0",
   "metadata": {
    "scrolled": true
   },
   "outputs": [
    {
     "name": "stdout",
     "output_type": "stream",
     "text": [
      "0\n",
      "1\n",
      "0\n",
      "1\n"
     ]
    }
   ],
   "source": [
    "print(1 if [] else 0) # 0\n",
    "print(1 if [0] else 0) # 1\n",
    "print(1 if [0][0] else 0) #리스트[0] 인덱스[0] : 0 -> 0\n",
    "print(1 if [1][0] else 0) # 1 자리가 -1 이더라도 결과는 1"
   ]
  },
  {
   "cell_type": "markdown",
   "id": "e0dc3fe9",
   "metadata": {},
   "source": [
    "### 이중 리스트\n",
    "list의 원소 타입은 어떤 타입도 가능합니다 <br>\n",
    "list가 list의 원소도 될 수 있습니다. <br>\n",
    "이러한 list 를 이중, 삼중, n중 리스트라고 표현합니다. \n",
    "\n",
    "이중 리스트는 2차원 문제를 해결할 때 주로 사용합니다.<br>\n",
    "이중리스트는 두 개의 인덱싱을 사용해 하나의 개별 원소에 접근합니다.<br>\n",
    "ex)\n",
    "- 이중리스트에서 \\[\\]\\[\\]: 개별 원소에 접근<br>\n",
    "- 이중리스트에서 \\[\\]: 1차원 리스트에 접근<br>\n"
   ]
  },
  {
   "cell_type": "code",
   "execution_count": 55,
   "id": "4ade816a",
   "metadata": {
    "scrolled": true
   },
   "outputs": [
    {
     "name": "stdout",
     "output_type": "stream",
     "text": [
      "[['dog', 'cat', 'tiger', 'bear', 'wolf'], ['eagle', 'pelican'], ['tuna', 'shark', 'salmon']]\n",
      "['dog', 'cat', 'tiger', 'bear', 'wolf'] <class 'list'>\n",
      "tiger <class 'str'>\n",
      "wolf\n",
      "pelican\n",
      "salmon\n",
      "salmon\n"
     ]
    }
   ],
   "source": [
    "animals = [\n",
    "    ['dog', 'cat', 'tiger', 'bear', 'wolf'],\n",
    "    ['eagle', 'pelican'],\n",
    "    ['tuna', 'shark', 'salmon']\n",
    "]\n",
    "print(animals)\n",
    "\n",
    "print(animals[0],type(animals[0]))\n",
    "print(animals[0][2],type(animals[0][2])) # tiger\n",
    "print(animals[0][4]) # wolf\n",
    "print(animals[1][1]) # pelican\n",
    "print(animals[2][2]) # salmon\n",
    "print(animals[-1][-1]) # salmon"
   ]
  },
  {
   "cell_type": "markdown",
   "id": "2b4ac394",
   "metadata": {},
   "source": [
    "### list와 string\n",
    "list를 string으로, string을 list로 만들어주는 함수가 존재합니다.<br>\n",
    "- split() : 구분자를 기준으로 문자열을 나눠서 리스트의 원소로 저장하여 리스트를 반환하는 함수\n",
    "- join() : 구분자를 기준으로 리스트를 하나의 문자열로 합쳐서 문자열로 반환하는 함수\n"
   ]
  },
  {
   "cell_type": "code",
   "execution_count": 64,
   "id": "a3c84de6",
   "metadata": {},
   "outputs": [
    {
     "name": "stdout",
     "output_type": "stream",
     "text": [
      "['1', '2', '3', '4', '5']\n",
      "['monkey', 'dolphin']\n",
      "monkey dolphin\n",
      "monkey, dolphin\n"
     ]
    }
   ],
   "source": [
    "# split()\n",
    "print('1, 2, 3, 4, 5'.split(', '))\n",
    "\n",
    "# join()\n",
    "print(animals2)\n",
    "print(' '.join(animals2))\n",
    "print(', '.join(animals2))"
   ]
  }
 ],
 "metadata": {
  "kernelspec": {
   "display_name": "Python 3 (ipykernel)",
   "language": "python",
   "name": "python3"
  },
  "language_info": {
   "codemirror_mode": {
    "name": "ipython",
    "version": 3
   },
   "file_extension": ".py",
   "mimetype": "text/x-python",
   "name": "python",
   "nbconvert_exporter": "python",
   "pygments_lexer": "ipython3",
   "version": "3.9.7"
  }
 },
 "nbformat": 4,
 "nbformat_minor": 5
}
