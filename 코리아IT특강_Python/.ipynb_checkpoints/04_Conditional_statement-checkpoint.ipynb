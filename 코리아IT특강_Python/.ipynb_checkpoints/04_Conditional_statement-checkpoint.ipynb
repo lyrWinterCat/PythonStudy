{
 "cells": [
  {
   "cell_type": "markdown",
   "id": "eb16d61b",
   "metadata": {},
   "source": [
    "## Conditional statement\n",
    "조건문은 특정한 조건에 해당될 때만 동작하도록 합니다. <br>\n",
    "if ~ else ~ 의 구조로 작성하며 여러번 중첩(nested)해서 사용 가능합니다. <br>\n",
    "파이썬에서의 조건문은 들여쓰기를 해야합니다. (Tap or space * 4)\n",
    "이를 지키지 않는 경우 Syntax 오류가 발생합니다. \n",
    "\n",
    "### true/False\n",
    "일반적으로 조건은 bool 타입을 사용하여 참/거짓을 판별합니다. <br>\n",
    "\n",
    "- True : 참\n",
    "- False : 거짓\n",
    "\n",
    "다른 타입의 경우에도 조건문에서 True/False의 역할을 할 수 있습니다. \n",
    "1. str\n",
    "    - '': False (빈 문자열)\n",
    "    - 그 외의 문자열 : True\n",
    "2. int\n",
    "    - 0: False\n",
    "    - 그 외의 정수 : True\n",
    "3. float\n",
    "    - 0.0 : False\n",
    "    - 그 외의 실수 : True \n",
    "    \n",
    "\n",
    "<b> => 프로그래밍 문제에서 다음과 같은 방식으로 자주 조건문을 판별하니 이를 잘 기억해두시기 바랍니다. </b>"
   ]
  },
  {
   "cell_type": "code",
   "execution_count": 9,
   "id": "50431cd0",
   "metadata": {
    "scrolled": true
   },
   "outputs": [
    {
     "name": "stdout",
     "output_type": "stream",
     "text": [
      "조건문이 참\n",
      "조건문이 참\n",
      "조건문이 거짓\n",
      ",를 기준으로 세개를 입력해주세요.,0,1\n",
      "두번째 조건\n"
     ]
    }
   ],
   "source": [
    "'''\n",
    "1. 조건에 해당될 때만 동작하게끔 하는 조건문\n",
    "if (조건):\n",
    "(tap) 조건이 참일 때 동작\n",
    "(space*4)\n",
    "'''\n",
    "if True:\n",
    "    print('조건문이 참')\n",
    "    \n",
    "'''\n",
    "2. 조건에 해당될 때 A를 동작하고 조건에 해당되지 않는 경우는 B만 동작하게끔 하는 조건문\n",
    "if 조건:\n",
    "    A\n",
    "else:\n",
    "    B\n",
    "'''\n",
    "if True:\n",
    "    print('조건문이 참')\n",
    "else:\n",
    "    print('조건문이 거짓')\n",
    "    \n",
    "if False:a\n",
    "    print('조건문이 참')\n",
    "else:\n",
    "    print('조건문이 거짓')\n",
    "    \n",
    "'''\n",
    "3. 첫번째 조건에 해당될 때 A를 동작하고,\n",
    "첫번째 동작에 해당되지 않지만 두번째 조건에 해당될 때 B를 동작하고,\n",
    "첫번째 동작에 해당되지 않고, 두번째 조건도 해당되지 않고, 세번째 조건에 해당될 때 C를 동작하고,\n",
    "... ...\n",
    "모두다 해당되지 않을때 Final을 동작하는 조건문 \n",
    "\n",
    "# 비효율적인 조건문 1 -> 조건이 너무 많음\n",
    "if (조건1):\n",
    "    A\n",
    "if (not 조건1(조건1이 아닐때) and 조건2):\n",
    "    B\n",
    "if (not 조건1 and 조건2 and 조건3) :\n",
    "    C\n",
    "if (not 조건1 and not 조건2 and not 조건3 and ...):\n",
    "    Final\n",
    "\n",
    "#비효율적인 조건문 2 -> 가독성이 떨어짐\n",
    "if (조건1):\n",
    "    A\n",
    "else:\n",
    "    if (조건2):\n",
    "        B\n",
    "        \n",
    "    else:\n",
    "        if (조건3):\n",
    "            c\n",
    "        else:\n",
    "            ...\n",
    "\n",
    "if ~ elif ~ else 구문\n",
    "\n",
    "if 첫번째 조건:\n",
    "    A\n",
    "elif 두번째 조건:\n",
    "    B\n",
    "elif 세번째 조건:\n",
    "    C\n",
    "else:\n",
    "    Final\n",
    "    \n",
    "'''\n",
    "condition1, condition2, condition3 = map(bool,input(',를 기준으로 세개를 입력해주세요.').split(','))\n",
    "if condition1:\n",
    "    print('첫번째 조건')\n",
    "elif condition2:\n",
    "    print('두번째 조건')\n",
    "elif condition3:\n",
    "    print('세번째 조건')\n",
    "else:\n",
    "    print('모두 False')\n",
    "\n",
    "# bool -> 문자열에 무언가가 들어갔다 -> 참 \n",
    "# 따라서 False로 인식되고 싶다면 공백 , 그냥 ,만 찍어서 앞을 비울것 "
   ]
  },
  {
   "cell_type": "code",
   "execution_count": 1,
   "id": "40a7db44",
   "metadata": {},
   "outputs": [
    {
     "name": "stdout",
     "output_type": "stream",
     "text": [
      "<class 'bool'>\n",
      "False\n"
     ]
    }
   ],
   "source": [
    "print(type(True))\n",
    "print(False)"
   ]
  },
  {
   "cell_type": "markdown",
   "id": "5f383b49",
   "metadata": {},
   "source": [
    "### 논리/관계 연산자\n",
    "논리/관계 연산자를 통해 참과 거짓을 더욱 다양하게 표현할 수 있습니다.\n",
    "\n",
    "논리 연산자\n",
    "- and : True and True 일 때만 True\n",
    "- or : False or False 일 때만 False\n",
    "- not : True 일 때 False, False 일 때 True\n",
    "\n",
    "관계 연산자\n",
    "- \\> : 왼쪽이 오른쪽 값보다 더 클 때 True\n",
    "- \\>= : 왼쪽이 오른쪽 값보다 더 크거나 같을 때 True\n",
    "- < : 오른쪽이 왼쪽 값보다 더 클 때 True\n",
    "- <= : 오른쪽이 왼쪽 값보다 더 크거나 같을 때 True\n",
    "- == : 왼쪽과 오른쪽 값이 같을 때 True\n",
    "- != : 왼쪽과 오른쪽 값이 같지 않을 때 True"
   ]
  },
  {
   "cell_type": "code",
   "execution_count": 25,
   "id": "c5564532",
   "metadata": {},
   "outputs": [
    {
     "name": "stdout",
     "output_type": "stream",
     "text": [
      "True\n",
      "False\n",
      "False\n",
      "False\n",
      "False\n",
      "----------------------------------------\n",
      "True\n",
      "True\n",
      "True\n",
      "False\n",
      "True\n"
     ]
    }
   ],
   "source": [
    "# 논리 연산자 \n",
    "# and\n",
    "print(True and True) # True\n",
    "print(False and True) # False\n",
    "print(True and False) # False\n",
    "print(False and False) # False\n",
    "\n",
    "print(True and True and True and False) # True and False -> False\n",
    "\n",
    "print('--' * 20)\n",
    "\n",
    "#or\n",
    "print(True or True) # True\n",
    "print(True or False) # True\n",
    "print(False or True) # True\n",
    "print(False or False) # False\n",
    "\n",
    "print(False or False or False or True) # False or False or True -> False or True -> True\n",
    "\n"
   ]
  },
  {
   "cell_type": "code",
   "execution_count": 29,
   "id": "f594e2b6",
   "metadata": {},
   "outputs": [
    {
     "name": "stdout",
     "output_type": "stream",
     "text": [
      "True\n"
     ]
    }
   ],
   "source": [
    "# shortcut or 연산자\n",
    "# 0/0 은 에러 \n",
    "# or 연산자는 앞에 있는 것을 먼저 확인하기 때문에 True가 나온다.\n",
    "print(True or 1/0) # True\n"
   ]
  },
  {
   "cell_type": "code",
   "execution_count": 36,
   "id": "c5571f18",
   "metadata": {
    "scrolled": true
   },
   "outputs": [
    {
     "name": "stdout",
     "output_type": "stream",
     "text": [
      "False\n",
      "True\n",
      "True\n",
      "False\n",
      "True\n",
      "False\n",
      "True\n"
     ]
    },
    {
     "name": "stderr",
     "output_type": "stream",
     "text": [
      "<>:9: SyntaxWarning: \"is\" with a literal. Did you mean \"==\"?\n",
      "<>:10: SyntaxWarning: \"is\" with a literal. Did you mean \"==\"?\n",
      "<>:9: SyntaxWarning: \"is\" with a literal. Did you mean \"==\"?\n",
      "<>:10: SyntaxWarning: \"is\" with a literal. Did you mean \"==\"?\n",
      "C:\\Users\\yelim\\AppData\\Local\\Temp/ipykernel_12948/3843755131.py:9: SyntaxWarning: \"is\" with a literal. Did you mean \"==\"?\n",
      "  print(2 is 2.0) # False\n",
      "C:\\Users\\yelim\\AppData\\Local\\Temp/ipykernel_12948/3843755131.py:10: SyntaxWarning: \"is\" with a literal. Did you mean \"==\"?\n",
      "  print( 2 is 2)\n"
     ]
    }
   ],
   "source": [
    "# 관계연산자\n",
    "print( 2 > 3) # False\n",
    "print(3>=3) # True\n",
    "print (2==2) # True\n",
    "print(2!=2) # False\n",
    "\n",
    "# 정수와 실수의 == : 데이터 타입이 다르더라도 값을 기준으로 판단\n",
    "print(2==2.0) # True\n",
    "\n",
    "# is : 데이터 타입과 값이 같을 경우에만 True\n",
    "print(2 is 2.0) # False\n",
    "print( 2 is 2) # True"
   ]
  },
  {
   "cell_type": "code",
   "execution_count": 51,
   "id": "3140bdf5",
   "metadata": {
    "scrolled": true
   },
   "outputs": [
    {
     "name": "stdout",
     "output_type": "stream",
     "text": [
      "False\n",
      "False\n",
      "True\n",
      "65\n",
      "90\n",
      "97\n",
      "98\n",
      "a\n",
      "b\n"
     ]
    }
   ],
   "source": [
    "# 문자열 간의 크기 비교\n",
    "# - 사전순으로 크기를 비교 \n",
    "\n",
    "print('a'>'b') # False\n",
    "print('a'>='b') # False\n",
    "print('a'<'b') # True\n",
    "\n",
    "# ord: 문자의 아스키 코드 값을 출력합니다.\n",
    "print(ord('A')) # 65\n",
    "print(ord('Z')) # 90\n",
    "print(ord('a')) # 97\n",
    "print(ord('b')) # 98\n",
    "\n",
    "# chr : 아스키 코드 값을 문자로 출력합니다.\n",
    "print(chr(97))\n",
    "print(chr(98))"
   ]
  },
  {
   "cell_type": "code",
   "execution_count": 48,
   "id": "3b395f20",
   "metadata": {},
   "outputs": [
    {
     "name": "stdout",
     "output_type": "stream",
     "text": [
      "122\n",
      "{\n",
      "y\n"
     ]
    }
   ],
   "source": [
    "print(ord('z'))\n",
    "print(chr(123))\n",
    "print(chr(121))"
   ]
  },
  {
   "cell_type": "code",
   "execution_count": 53,
   "id": "8e7c0a9a",
   "metadata": {},
   "outputs": [
    {
     "name": "stdout",
     "output_type": "stream",
     "text": [
      "알파벳 \n",
      "알파벳\n"
     ]
    }
   ],
   "source": [
    "# 알파벳 검증 \n",
    "alpha = 'c'\n",
    "if 'A' <= alpha and alpha <= 'z': # 일반적인 프로그래밍\n",
    "    print('알파벳 ')\n",
    "    \n",
    "if 'A' <= alpha <= 'z': # 파이썬 스타일 \n",
    "    print('알파벳')\n"
   ]
  },
  {
   "cell_type": "code",
   "execution_count": 56,
   "id": "639e989a",
   "metadata": {
    "scrolled": true
   },
   "outputs": [
    {
     "name": "stdout",
     "output_type": "stream",
     "text": [
      "5 5\n",
      "==\n"
     ]
    }
   ],
   "source": [
    "'''\n",
    "문제\n",
    "두 정수 A와 B가 주어졌을 때 , A와 B를 비교하는 프로그램을 작성하시오.\n",
    "\n",
    "입력\n",
    "첫쨰 줄에서 A와 B가 주어진다. A 와 B는 공백 한칸으로 구분되어 있다.\n",
    "\n",
    "출력\n",
    "- A가 B보다 큰 경우에는 '>'를 출력한다.\n",
    "- A가 B보다 작은 경우에는 '<'를 출력한다.\n",
    "- A와 B가 같은 경우에는 '=='를 출력한다.\n",
    "'''\n",
    "a, b=map(int,input().split())\n",
    "if a<b:\n",
    "    print('<')\n",
    "elif a>b:\n",
    "    print('>')\n",
    "else:\n",
    "    print('==')\n"
   ]
  },
  {
   "cell_type": "code",
   "execution_count": 59,
   "id": "a749afd9",
   "metadata": {},
   "outputs": [
    {
     "name": "stdout",
     "output_type": "stream",
     "text": [
      "13\n",
      "F\n"
     ]
    }
   ],
   "source": [
    "'''\n",
    "실습 문제 2\n",
    "\n",
    "학생들에게 점수를 입력 받아 \n",
    "점수가 100점 이하 90점 이상인 경우에는 A를 출력하고,\n",
    "점수가 90점 미만 80점 이상인 경우에는 B를 출력하고,\n",
    "점수가 80점 미만 70점 이상인 경우에는 C를 출력 하고,\n",
    "점수가 70점 미만 60점 이상인 경우에는 D를 출력 하고,\n",
    "그 외의 점수에는 F를 출력하는 프로그램을 만드시오.\n",
    "\n",
    "조건 : 점수는 0이상 100이하의 정수 값을 가집니다.\n",
    "\n",
    "입력 예시 1\n",
    "90\n",
    "\n",
    "출력 예시 1\n",
    "A\n",
    "\n",
    "입력 예시 2\n",
    "75\n",
    "\n",
    "출력 예시 2\n",
    "C\n",
    "\n",
    "입력 예시 3\n",
    "13\n",
    "\n",
    "출력 예시 3\n",
    "F\n",
    "'''\n",
    "score = int(input())\n",
    "if 90<=score<=100:\n",
    "    print('A')\n",
    "elif 80<=score<90: # if 로 조건 여러개 줄 경우 \n",
    "    print('B')\n",
    "elif 70<=score<80:\n",
    "    print('C')\n",
    "elif 60<=score<70:\n",
    "    print('D')\n",
    "else:\n",
    "    print('F')\n",
    "\n",
    "'''\n",
    "if score >= 90: # elif 라면 이렇게 가능 \n",
    "    print('A')\n",
    "elif score >= 80:\n",
    "    print('B')\n",
    "elif score >= 70:\n",
    "    print('C')\n",
    "elif score >= 60:\n",
    "    print('D')\n",
    "else:\n",
    "    print('F')\n",
    "\n",
    "'''"
   ]
  }
 ],
 "metadata": {
  "kernelspec": {
   "display_name": "Python 3 (ipykernel)",
   "language": "python",
   "name": "python3"
  },
  "language_info": {
   "codemirror_mode": {
    "name": "ipython",
    "version": 3
   },
   "file_extension": ".py",
   "mimetype": "text/x-python",
   "name": "python",
   "nbconvert_exporter": "python",
   "pygments_lexer": "ipython3",
   "version": "3.9.7"
  }
 },
 "nbformat": 4,
 "nbformat_minor": 5
}
