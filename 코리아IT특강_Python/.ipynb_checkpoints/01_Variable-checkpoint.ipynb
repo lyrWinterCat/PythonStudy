{
 "cells": [
  {
   "cell_type": "markdown",
   "id": "afda06e3",
   "metadata": {},
   "source": [
    "## Variable\n",
    "##### 변수란 어떤 객체의 메모리주소를 가지고 있는 것을 의미합니다.\n",
    "- 객체 : `` 데이터 타입``과 함께``주소`` 를 가지는 ``값``을 의미합니다.\n",
    "- 프로그래밍에서 변수는 수학에서의 변수와 비슷하게 값을 변경할 수 있습니다. \n",
    "\n",
    "cf)\n",
    "1. 수학에서의 변수 : x + 3 = 5 -> x = 2\n",
    "2. 프로그래밍에서의 변수 : x = 2; x + 3 ; >>5\n",
    "\n",
    "즉, 변수는 어떤 객체의 메모리 주소를 가지고 있어서 해당 변수를 불렀을 때, 해당 변수가 가지고 있는 메모리 주소에 있는 값에 접근할 수 있습니다.\n",
    "\n",
    "### 할당 연산자\n",
    "변수에 <b>주소 값</b>을 넘겨주는 것을 ``할당``한다 라고 표현합니다.\n",
    "- 할당 연산자는 =로 표현합니다.\n",
    "- '같다'를 의미하는 ==과는 다른 표현입니다. "
   ]
  },
  {
   "cell_type": "code",
   "execution_count": 7,
   "id": "77cf08a5",
   "metadata": {},
   "outputs": [
    {
     "name": "stdout",
     "output_type": "stream",
     "text": [
      "2\n",
      "1564869093712\n",
      "3\n",
      "1564869093744\n",
      "5\n",
      "3 2\n",
      "5\n",
      "3\n"
     ]
    }
   ],
   "source": [
    "# Variable\n",
    "a = 2\n",
    "print(a)\n",
    "print(id(a)) # 컴퓨터마다 다른 값이 나옵니다. 주소.\n",
    "\n",
    "a = 3\n",
    "print(a)\n",
    "print(id(a)) # 2를 넣었을 떄랑 다른 값 출력 . id값이 달라졌다. \n",
    "\n",
    "a = 3\n",
    "b = 2\n",
    "print(a+b) # 변수간 연산 \n",
    "\n",
    "a , b = 3 , 2 # 파이썬 스타일 . 프로그래밍 문제에 자주 씀\n",
    "print(a, b)\n",
    "\n",
    "a =3\n",
    "print(a+2) # 실수와 변수 연산 \n",
    "\n",
    "a = 3\n",
    "b = a # 변수에 변수 할당\n",
    "print(b)"
   ]
  },
  {
   "cell_type": "markdown",
   "id": "f1d8f44e",
   "metadata": {},
   "source": [
    "### 변수명 사용 규칙\n",
    "변수명 사용은 무조건 지켜야 하는 규칙과 권장하는 규칙이 있습니다.\n",
    "1. 변수의 이름은 숫자로 먼저 시작할 수 없습니다.\n",
    "    - ex) 123choi (x) / 0han (x) / bin123 (o)\n",
    "2. 변수의 이름은 언더바(_) 이외의 기호가 들어가면 변수로 사용할 수 없습니다.\n",
    "    - ex) _choi (o) / han! (x) / bin' (x) / no-way (x) \n",
    "3. 파이썬에서의 예약어(혹은 내장함수)는 변수명으로 사용하지 않는 것을 권장합니다.\n",
    "    - 파이썬을 제외한 다른 언어에서는 사용할 수 없습니다.-> 내장함수를 변수명으로 사용하지 않는 습관을 들이는 것이 중요합니다. \n",
    "    - ex) str (x) / print (x)\n",
    "4. 변수명은 의미를 알기 쉽게 짓는 것을 추천합니다.\n",
    "    - ex) name (o) / age (o) / asdasd (x)\n",
    "    - cf) temp : 임시로 변수를 사용할 때 씁니다."
   ]
  },
  {
   "cell_type": "code",
   "execution_count": 12,
   "id": "4c7ec34a",
   "metadata": {
    "scrolled": true
   },
   "outputs": [
    {
     "name": "stdout",
     "output_type": "stream",
     "text": [
      "1\n",
      "1\n",
      "1\n"
     ]
    }
   ],
   "source": [
    "# 올바른 변수 사용 예시\n",
    "# 1. 숫자 사용\n",
    "var1 = 1\n",
    "print(var1)\n",
    "# 1var = 1\n",
    "\n",
    "# 2. 기호 사용 (_)\n",
    "var_ = var1\n",
    "print(var_)\n",
    "\n",
    "_var = var1\n",
    "print(_var) # 가능\n",
    "\n",
    "#var! = var_\n",
    "\n",
    "# 3. 예약어는 변수명으로 사용하지 않습니다.\n",
    "# str = 123\n",
    "# print(str)\n",
    "# print(str(1)) -> str 에 값이 덮어써졌습니다. \n",
    "\n",
    "# 4. 의미를 알기 쉽게 변수 사용\n",
    "aaaaa = '최한빈' # X\n",
    "\n",
    "name = '최한빈' # o\n",
    "myName = \"최한빈\" # o\n",
    "my_name = '최한빈' # o"
   ]
  },
  {
   "cell_type": "markdown",
   "id": "6efa3c32",
   "metadata": {},
   "source": [
    "### 변수 간 값 바꾸기\n",
    "1. 임시변수를 만들어서 값을 바꿔준다. (프로그래밍 언어 공통)\n",
    "2. 파이썬 스타일로 값을 바꿔준다. \n"
   ]
  },
  {
   "cell_type": "code",
   "execution_count": 19,
   "id": "008be3c7",
   "metadata": {},
   "outputs": [
    {
     "name": "stdout",
     "output_type": "stream",
     "text": [
      "2 3\n",
      "2 2\n",
      "3 2\n",
      "3 2\n"
     ]
    }
   ],
   "source": [
    "# 변수에 2와 3을 할당\n",
    "var1 = 2\n",
    "var2 = 3\n",
    "print(var1, var2) # 2 3\n",
    "\n",
    "# 변수에 값을 할당?\n",
    "var2 = var1\n",
    "var1 = var2\n",
    "print(var1,var2) # 2 2\n",
    "\n",
    "# 1번 방식\n",
    "var1 = 2\n",
    "var2 = 3\n",
    "temp = var1\n",
    "var1 = var2\n",
    "var2 = temp\n",
    "print(var1, var2) # 3 2\n",
    "\n",
    "# 2번 방식\n",
    "var1 = 2\n",
    "var2 = 3\n",
    "var1, var2 = var2, var1\n",
    "print (var1, var2) # 3 2 "
   ]
  }
 ],
 "metadata": {
  "kernelspec": {
   "display_name": "Python 3 (ipykernel)",
   "language": "python",
   "name": "python3"
  },
  "language_info": {
   "codemirror_mode": {
    "name": "ipython",
    "version": 3
   },
   "file_extension": ".py",
   "mimetype": "text/x-python",
   "name": "python",
   "nbconvert_exporter": "python",
   "pygments_lexer": "ipython3",
   "version": "3.9.7"
  }
 },
 "nbformat": 4,
 "nbformat_minor": 5
}
