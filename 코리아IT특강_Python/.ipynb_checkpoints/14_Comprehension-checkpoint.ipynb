{
 "cells": [
  {
   "cell_type": "markdown",
   "id": "3ca2e956",
   "metadata": {},
   "source": [
    "## Comprehension\n",
    "집합 데이터를 더 간편하게 작성하기 위해 ``간략하게`` 집합 데이터를 만드는 코드 구문\n",
    "### List comprehension 기본 구조\n",
    "[표현식 for 변수 in 반복가능객체 (집합데이터) (if 조건)]\n",
    "- if 조건문이 있다면 반복문에서 변수에 값을 할당한 다음에 if 조건문에서 값을 판별합니다. \n",
    "\n"
   ]
  },
  {
   "cell_type": "code",
   "execution_count": 2,
   "id": "5a18abe8",
   "metadata": {
    "scrolled": true
   },
   "outputs": [
    {
     "name": "stdout",
     "output_type": "stream",
     "text": [
      "[3, 6, 9, 12]\n",
      "[3, 6, 9, 12]\n"
     ]
    }
   ],
   "source": [
    "# [1, 2, 3, 4] -> [3, 6, 9, 12]\n",
    "# 1. list comprehension 을 사용하지 않는 경우\n",
    "temp  = [1, 2, 3, 4]\n",
    "result = []\n",
    "for i in temp:\n",
    "    result.append(i*3)\n",
    "print(result)\n",
    "\n",
    "# 2. list comprehension을 사용하는 경우\n",
    "result = [i*3 for i in temp]\n",
    "print(result)"
   ]
  },
  {
   "cell_type": "code",
   "execution_count": 1,
   "id": "eebe86ca",
   "metadata": {},
   "outputs": [
    {
     "name": "stdout",
     "output_type": "stream",
     "text": [
      "[5, 15]\n",
      "[5, 15]\n"
     ]
    }
   ],
   "source": [
    "# [1, 2, 3, 4] -> [5, 15] ( 홀수인 경우 5를 곱해서 새로운 리스트를 만들기)\n",
    "# 1. list comprehension을 사용하지 않는 경우\n",
    "temp = [1, 2, 3, 4]\n",
    "result = []\n",
    "for i in temp:\n",
    "    if i % 2 ==1:\n",
    "        result.append(i*5)\n",
    "print(result)\n",
    "\n",
    "# 2. list comprehension을 사용하는 경우\n",
    "result = [i*5 for i in temp if i % 2]\n",
    "print(result)"
   ]
  },
  {
   "cell_type": "code",
   "execution_count": 9,
   "id": "d716a485",
   "metadata": {},
   "outputs": [
    {
     "name": "stdout",
     "output_type": "stream",
     "text": [
      "['1월', '2월', '3월', '4월', '5월', '6월', '7월', '8월', '9월', '10월', '11월', '12월']\n"
     ]
    }
   ],
   "source": [
    "# 실습문제 [ \"1월\", \"2월\",... \"12월\"] list comprehension을 사용\n",
    "temp = [1, 2, 3, 4, 5, 6, 7, 8, 9, 10, 11, 12]\n",
    "result = [str(i)+\"월\" for i in temp]\n",
    "print(result)\n",
    "\n",
    "#센세\n",
    "result = [ str(i)+\"월\" for i in [1,2, 3, 4, 5, 6, 7, 8, 9, 10, 11, 12]]\n",
    "print(result)\n",
    "\n",
    "result = [f'{i}월' for i in range(1,13)]\n",
    "print(result)"
   ]
  },
  {
   "cell_type": "markdown",
   "id": "3aa1e80d",
   "metadata": {},
   "source": [
    "### 이중 list 의 list comprehension\n",
    "```python\n",
    "[표현식 for 변수1 in 반복가능객체1 (if 조건1)\n",
    "    for 변수1 in 반복가능객체1 (if 조건2)\n",
    "    for 변수1 in 반복가능객체1 (if 조건3)\n",
    "    for 변수1 in 반복가능객체1 (if 조건4)\n",
    "    ...]\n",
    "```"
   ]
  },
  {
   "cell_type": "code",
   "execution_count": 15,
   "id": "64e36983",
   "metadata": {
    "collapsed": true
   },
   "outputs": [
    {
     "name": "stdout",
     "output_type": "stream",
     "text": [
      "2 x 1 = 2\n",
      "2 x 2 = 4\n",
      "2 x 3 = 6\n",
      "2 x 4 = 8\n",
      "2 x 5 = 10\n",
      "2 x 6 = 12\n",
      "2 x 7 = 14\n",
      "2 x 8 = 16\n",
      "2 x 9 = 18\n",
      "3 x 1 = 3\n",
      "3 x 2 = 6\n",
      "3 x 3 = 9\n",
      "3 x 4 = 12\n",
      "3 x 5 = 15\n",
      "3 x 6 = 18\n",
      "3 x 7 = 21\n",
      "3 x 8 = 24\n",
      "3 x 9 = 27\n",
      "4 x 1 = 4\n",
      "4 x 2 = 8\n",
      "4 x 3 = 12\n",
      "4 x 4 = 16\n",
      "4 x 5 = 20\n",
      "4 x 6 = 24\n",
      "4 x 7 = 28\n",
      "4 x 8 = 32\n",
      "4 x 9 = 36\n",
      "5 x 1 = 5\n",
      "5 x 2 = 10\n",
      "5 x 3 = 15\n",
      "5 x 4 = 20\n",
      "5 x 5 = 25\n",
      "5 x 6 = 30\n",
      "5 x 7 = 35\n",
      "5 x 8 = 40\n",
      "5 x 9 = 45\n",
      "6 x 1 = 6\n",
      "6 x 2 = 12\n",
      "6 x 3 = 18\n",
      "6 x 4 = 24\n",
      "6 x 5 = 30\n",
      "6 x 6 = 36\n",
      "6 x 7 = 42\n",
      "6 x 8 = 48\n",
      "6 x 9 = 54\n",
      "7 x 1 = 7\n",
      "7 x 2 = 14\n",
      "7 x 3 = 21\n",
      "7 x 4 = 28\n",
      "7 x 5 = 35\n",
      "7 x 6 = 42\n",
      "7 x 7 = 49\n",
      "7 x 8 = 56\n",
      "7 x 9 = 63\n",
      "8 x 1 = 8\n",
      "8 x 2 = 16\n",
      "8 x 3 = 24\n",
      "8 x 4 = 32\n",
      "8 x 5 = 40\n",
      "8 x 6 = 48\n",
      "8 x 7 = 56\n",
      "8 x 8 = 64\n",
      "8 x 9 = 72\n",
      "9 x 1 = 9\n",
      "9 x 2 = 18\n",
      "9 x 3 = 27\n",
      "9 x 4 = 36\n",
      "9 x 5 = 45\n",
      "9 x 6 = 54\n",
      "9 x 7 = 63\n",
      "9 x 8 = 72\n",
      "9 x 9 = 81\n"
     ]
    }
   ],
   "source": [
    "# 구구단 문제 풀이\n",
    "'''\n",
    "result = [dan for dan in range(2,10)]\n",
    "print(result)\n",
    "'''\n",
    "\n",
    "# 방법 1\n",
    "'''for dan in range(2,10):\n",
    "    for mul in range(1,10):\n",
    "        print(dan,mul)\n",
    "        '''\n",
    "\n",
    "\n",
    "result = [f'{dan} x {mul} = {dan * mul}' for dan in range(2,10)\n",
    "         for mul in range(1,10)]\n",
    "for gugudan in result:\n",
    "    print(gugudan)\n"
   ]
  },
  {
   "cell_type": "code",
   "execution_count": 20,
   "id": "8c67816f",
   "metadata": {
    "collapsed": true
   },
   "outputs": [
    {
     "name": "stdout",
     "output_type": "stream",
     "text": [
      "[['2 x 1 = 2', '2 x 2 = 4', '2 x 3 = 6', '2 x 4 = 8', '2 x 5 = 10', '2 x 6 = 12', '2 x 7 = 14', '2 x 8 = 16', '2 x 9 = 18'], ['3 x 1 = 3', '3 x 2 = 6', '3 x 3 = 9', '3 x 4 = 12', '3 x 5 = 15', '3 x 6 = 18', '3 x 7 = 21', '3 x 8 = 24', '3 x 9 = 27'], ['4 x 1 = 4', '4 x 2 = 8', '4 x 3 = 12', '4 x 4 = 16', '4 x 5 = 20', '4 x 6 = 24', '4 x 7 = 28', '4 x 8 = 32', '4 x 9 = 36'], ['5 x 1 = 5', '5 x 2 = 10', '5 x 3 = 15', '5 x 4 = 20', '5 x 5 = 25', '5 x 6 = 30', '5 x 7 = 35', '5 x 8 = 40', '5 x 9 = 45'], ['6 x 1 = 6', '6 x 2 = 12', '6 x 3 = 18', '6 x 4 = 24', '6 x 5 = 30', '6 x 6 = 36', '6 x 7 = 42', '6 x 8 = 48', '6 x 9 = 54'], ['7 x 1 = 7', '7 x 2 = 14', '7 x 3 = 21', '7 x 4 = 28', '7 x 5 = 35', '7 x 6 = 42', '7 x 7 = 49', '7 x 8 = 56', '7 x 9 = 63'], ['8 x 1 = 8', '8 x 2 = 16', '8 x 3 = 24', '8 x 4 = 32', '8 x 5 = 40', '8 x 6 = 48', '8 x 7 = 56', '8 x 8 = 64', '8 x 9 = 72'], ['9 x 1 = 9', '9 x 2 = 18', '9 x 3 = 27', '9 x 4 = 36', '9 x 5 = 45', '9 x 6 = 54', '9 x 7 = 63', '9 x 8 = 72', '9 x 9 = 81']]\n",
      "2 x 1 = 2\n",
      "2 x 2 = 4\n",
      "2 x 3 = 6\n",
      "2 x 4 = 8\n",
      "2 x 5 = 10\n",
      "2 x 6 = 12\n",
      "2 x 7 = 14\n",
      "2 x 8 = 16\n",
      "2 x 9 = 18\n",
      "3 x 1 = 3\n",
      "3 x 2 = 6\n",
      "3 x 3 = 9\n",
      "3 x 4 = 12\n",
      "3 x 5 = 15\n",
      "3 x 6 = 18\n",
      "3 x 7 = 21\n",
      "3 x 8 = 24\n",
      "3 x 9 = 27\n",
      "4 x 1 = 4\n",
      "4 x 2 = 8\n",
      "4 x 3 = 12\n",
      "4 x 4 = 16\n",
      "4 x 5 = 20\n",
      "4 x 6 = 24\n",
      "4 x 7 = 28\n",
      "4 x 8 = 32\n",
      "4 x 9 = 36\n",
      "5 x 1 = 5\n",
      "5 x 2 = 10\n",
      "5 x 3 = 15\n",
      "5 x 4 = 20\n",
      "5 x 5 = 25\n",
      "5 x 6 = 30\n",
      "5 x 7 = 35\n",
      "5 x 8 = 40\n",
      "5 x 9 = 45\n",
      "6 x 1 = 6\n",
      "6 x 2 = 12\n",
      "6 x 3 = 18\n",
      "6 x 4 = 24\n",
      "6 x 5 = 30\n",
      "6 x 6 = 36\n",
      "6 x 7 = 42\n",
      "6 x 8 = 48\n",
      "6 x 9 = 54\n",
      "7 x 1 = 7\n",
      "7 x 2 = 14\n",
      "7 x 3 = 21\n",
      "7 x 4 = 28\n",
      "7 x 5 = 35\n",
      "7 x 6 = 42\n",
      "7 x 7 = 49\n",
      "7 x 8 = 56\n",
      "7 x 9 = 63\n",
      "8 x 1 = 8\n",
      "8 x 2 = 16\n",
      "8 x 3 = 24\n",
      "8 x 4 = 32\n",
      "8 x 5 = 40\n",
      "8 x 6 = 48\n",
      "8 x 7 = 56\n",
      "8 x 8 = 64\n",
      "8 x 9 = 72\n",
      "9 x 1 = 9\n",
      "9 x 2 = 18\n",
      "9 x 3 = 27\n",
      "9 x 4 = 36\n",
      "9 x 5 = 45\n",
      "9 x 6 = 54\n",
      "9 x 7 = 63\n",
      "9 x 8 = 72\n",
      "9 x 9 = 81\n"
     ]
    }
   ],
   "source": [
    "# 방법 2\n",
    "result = [[f\"{dan} x {mul} = {dan*mul}\" for mul in range(1, 10)]for dan in range (2,10)] # 안쪽에 있는 것 부터 먼저 동작을 함 \n",
    "print(result)\n",
    "\n",
    "for dan in result:\n",
    "    for mul in dan:\n",
    "        print(mul)"
   ]
  },
  {
   "cell_type": "markdown",
   "id": "a9be0d17",
   "metadata": {},
   "source": [
    "### Set comprehension\n",
    "{표현식 for 변수 in 반복가능객체 (if 조건)}\n"
   ]
  },
  {
   "cell_type": "code",
   "execution_count": 22,
   "id": "b69f04c6",
   "metadata": {},
   "outputs": [
    {
     "name": "stdout",
     "output_type": "stream",
     "text": [
      "[0, 1, 2, 0, 1, 2, 0, 1, 2, 0]\n",
      "{0, 1, 2}\n"
     ]
    }
   ],
   "source": [
    "# Set comprehension의 기보 구조\n",
    "#result = {num % 3 for num in range(10)}\n",
    "result = [num % 3 for num in range(10)] # 리스트\n",
    "print(result) # [0, 1, 2, 0, 1, 2, 0, 1, 2, 0]\n",
    "result = {num % 3 for num in range(10)} # 셋 (중복값x)\n",
    "print(result) # {0, 1, 2}"
   ]
  },
  {
   "cell_type": "markdown",
   "id": "b54957f2",
   "metadata": {},
   "source": [
    "### Dictionary Comprehension\n",
    "{key:value for 변수 in 반복가능객체 (if 조건)}"
   ]
  },
  {
   "cell_type": "code",
   "execution_count": 23,
   "id": "a0e1448a",
   "metadata": {},
   "outputs": [
    {
     "name": "stdout",
     "output_type": "stream",
     "text": [
      "{0: 0, 1: 1, 2: 4, 3: 9, 4: 16}\n"
     ]
    }
   ],
   "source": [
    "# cf)딕셔너리 형번환 함수 : dict()\n",
    "\n",
    "# Dictionary comprehension 의 기본구조\n",
    "result = {i:i**2 for i in range(5)}\n",
    "print(result)"
   ]
  },
  {
   "cell_type": "markdown",
   "id": "93972354",
   "metadata": {},
   "source": [
    "### 실습문제\n",
    "어떤 문장이 주어졌을 때, 해당 문장이 알파벳 소문자인 경우에<br>\n",
    "그 알파벳을 key로 하고, value는 그 알파벳이 문자에 등장하는 횟수를 저장하는 딕셔너리를<br>\n",
    "dictionary comprehension을 통해 만들어라.\n"
   ]
  },
  {
   "cell_type": "code",
   "execution_count": 25,
   "id": "8b45f653",
   "metadata": {},
   "outputs": [
    {
     "name": "stdout",
     "output_type": "stream",
     "text": [
      "{'a': 5, 'b': 2, 'c': 1}\n"
     ]
    }
   ],
   "source": [
    "# count() 함수 : str \n",
    "data = 'aaaabb1ac'\n",
    "# result = {'a':5,'b':2,'c':1}\n",
    "result = {alpha:data.count(alpha) for alpha in data if 'a' <= alpha <= 'z'} #소문자 판별법\n",
    "print(result)"
   ]
  }
 ],
 "metadata": {
  "kernelspec": {
   "display_name": "Python 3 (ipykernel)",
   "language": "python",
   "name": "python3"
  },
  "language_info": {
   "codemirror_mode": {
    "name": "ipython",
    "version": 3
   },
   "file_extension": ".py",
   "mimetype": "text/x-python",
   "name": "python",
   "nbconvert_exporter": "python",
   "pygments_lexer": "ipython3",
   "version": "3.9.7"
  }
 },
 "nbformat": 4,
 "nbformat_minor": 5
}
