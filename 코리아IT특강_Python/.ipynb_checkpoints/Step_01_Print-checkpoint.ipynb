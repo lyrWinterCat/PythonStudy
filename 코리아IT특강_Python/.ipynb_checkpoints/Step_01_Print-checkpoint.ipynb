{
 "cells": [
  {
   "cell_type": "markdown",
   "id": "7d1066a2",
   "metadata": {},
   "source": [
    "# 실습\n",
    "\n",
    "본 실습에서는 어떤 프로그래밍 언어를 배워도 항상 접하는 최초의 프로그램인 \"Hello World\"를 실행해보는 것을 시작으로 출력 메소드와 서식문자, 변수, 자료형 등에 대해 실행해볼 겁니다."
   ]
  },
  {
   "cell_type": "markdown",
   "id": "46efb83c",
   "metadata": {},
   "source": [
    "## Hello World 프로그램 실행하기\n",
    "\"Hello World 프로그램\"을 입력하고 실행해봅니다.<br>\n",
    "다음과 같이 print()라는 파이썬 내장 함수를 사용해 Hello World라는 문장을 화면에 출력해볼 수 있습니다.<br>\n",
    "```python\n",
    "print(\"Hello World\")\n",
    "```\n",
    "- **입력**은 아래의 ``In [ ]``으로 표현된 셀안에 (위의) Python 소스코드를 작성하는 것을 의미하고,<br>\n",
    "- **실행**은 Python 프로그램을 입력한 셀 안에서, 상단 메뉴의 ``Run`` 단추를 누르거나 ``Control + Enter`` 버튼을 누르면 됩니다. <br> \n",
    "- **출력**은 ``print()`` 함수를 활용해 화면에 값을 나타내는 것을 의미합니다.<br><br>\n",
    "- ``Control + Enter``와 ``Shift + Enter`` 둘 다 실행을 할 때 사용할 수 있습니다. 다만 ``Control + Enter``은 실행을 하더라도 그 셀에 그대로 머무는 반면, ``Shift + Enter``는 그 다음 셀로 넘어갑니다.\n",
    "\n",
    "위의 예제와 같이 \"\"나 '' 기호로 앞뒤를 감싼 문자열을 주면, 해당 문자열을 그대로 출력해봅니다.<br>"
   ]
  },
  {
   "cell_type": "code",
   "execution_count": 1,
   "id": "c08375d2",
   "metadata": {},
   "outputs": [
    {
     "name": "stdout",
     "output_type": "stream",
     "text": [
      "Hello World\n"
     ]
    }
   ],
   "source": [
    "print(\"Hello World\")"
   ]
  },
  {
   "cell_type": "markdown",
   "id": "ea81f52c",
   "metadata": {},
   "source": [
    "### 주석 활용하기\n",
    "#### 주석은 소스코드 중간에 메모를 하거나, 다른 사람과 협업하기 위해서 작성하는 글로 주석으로 작성한 것은 인식되지 않습니다.\n",
    "\n",
    "파이썬에서 주석은 두 가지 방법을 통해 구현할 수 있습니다.\n",
    "- 한줄 주석: ``#``\n",
    "- 여러줄 주석: ``\"\"\" \"\"\"`` 혹은 ``''' '''``<br><br>\n",
    "\n",
    "```python\n",
    "# 한줄 주석\n",
    "# 한줄 주석\n",
    "\n",
    "''' \n",
    "여러줄 주석 1\n",
    "여러줄 주석 1\n",
    "여러줄 주석 1\n",
    "'''\n",
    "\"\"\"\n",
    "여러줄 주석 2\n",
    "여러줄 주석 2\n",
    "여러줄 주석 2\n",
    "\"\"\"\n",
    "```\n",
    "\n",
    "##### 아래의 셀에서  위와 같이 주석을 작성해보시기 바랍니다."
   ]
  },
  {
   "cell_type": "code",
   "execution_count": null,
   "id": "38f28a87",
   "metadata": {},
   "outputs": [],
   "source": [
    "# 한줄 주석\n",
    "# 한줄 주석\n",
    "\n",
    "'''\n",
    "여러줄 주석 1\n",
    "여러줄 주석 1\n",
    "여러줄 주석 1\n",
    "'''\n",
    "\"\"\"\n",
    "여러줄 주석 2\n",
    "여러줄 주석 2\n",
    "여러줄 주석 2\n",
    "\"\"\""
   ]
  },
  {
   "cell_type": "markdown",
   "id": "aaa7e81a",
   "metadata": {},
   "source": [
    "위에서 말씀 드렸듯이 다음과 같이 주석은 인식되지 않기 때문에 다음과 같은 코드 작성이 가능합니다.\n",
    "```python\n",
    "# 다음은 print()함수를 활용해 1을 출력하는 예제입니다.\n",
    "print(1)\n",
    "```\n",
    "\n",
    "##### 아래의 셀에서 위와 같이 코드를 작성해보시기 바랍니다."
   ]
  },
  {
   "cell_type": "code",
   "execution_count": 3,
   "id": "4586f459",
   "metadata": {},
   "outputs": [
    {
     "name": "stdout",
     "output_type": "stream",
     "text": [
      "1\n"
     ]
    }
   ],
   "source": [
    "# 다음은 print() 함수를 활용해 1을 추력하는 예쩨입니다.\n",
    "print(1)"
   ]
  },
  {
   "cell_type": "markdown",
   "id": "bf80d461",
   "metadata": {},
   "source": [
    "### print()에서 여러 개의 원소를 출력하기\n",
    "print()는 다양한 값을 한번에 입력해 출력할 수 있습니다.\n",
    "```python\n",
    "print(1, 1.0, 0o32, 0x8f, \"1.0\")\n",
    "print('1', '한글', 'Eng')\n",
    "```\n",
    "\n",
    "##### 위의 코드를 아래 셀에 입력한 뒤 출력을 확인해보세요."
   ]
  },
  {
   "cell_type": "code",
   "execution_count": 4,
   "id": "0fe4a026",
   "metadata": {},
   "outputs": [
    {
     "name": "stdout",
     "output_type": "stream",
     "text": [
      "1 1.0 26 143 1.0\n",
      "1 한글 Eng\n"
     ]
    }
   ],
   "source": [
    "print(1,1.0,0o32,0x8f,\"1.0\")\n",
    "print('1','한글','Eng')"
   ]
  },
  {
   "cell_type": "markdown",
   "id": "1ecea265",
   "metadata": {},
   "source": [
    "### print() 메소드 옵션\n",
    "print() 함수는 다양한 옵션을 가지고 있습니다. <br>\n",
    "그 중 자주 쓰이는 옵션은 ``sep``과 ``end``입니다.\n",
    "\n",
    "- sep: print() 내에 여러 값이 있을 경우 그 값 사이에 어떤 것을 출력할 지에 대한 옵션\n",
    "- end: print()와 print() 사이에 어떤 것을 출력할 지에 대한 옵션\n",
    "- sep의 디폴트 값(기본 설정)은 ``\" \"``이고, end의 디폴트 값은 ``\"\\n\"``(한 줄 띄어쓰기)입니다.\n",
    "    * \"\\n\"은 escape sequence로 한줄 띄는 것을 의미하는 하나의 문자를 의미합니다. \n",
    "\n",
    "위에서 print()를 여러 줄을 작성해 출력할 때와 print() 하나에 여러 값을 출력할 때의 차이를 확인해보시기 바랍니다.<br> 전자의 경우 print()를 여러 줄에 걸쳐 작성했는데 end가 기본 설정이기 때문에 한 줄씩 띄어서 출력됩니다.<br>\n",
    "후자의 경우 print()내에 여러 값을 출력했는데 sep이 기본 설정이기 때문에 한 줄 내에 공백을 기준으로 값이 출력됩니다.<br><br>\n",
    "\n",
    "글을 읽었을 때는 직관적으로 이해가 되지 않을 수 있습니다.<br>\n",
    "이럴 때는 코드를 통해 확인하는 것이 가장 쉬운 방법일 수 있습니다.<br>\n",
    "옵션을 조정하기 위해선 print()내에 ``sep=변경할 값`` 혹은 ``end=변경할 값``을 입력해주시면 됩니다.<br>\n",
    "\n",
    "```python\n",
    "print(1, 2, 3, 4, sep='/', end='\\n\\n') # \\n\\n -> 두 줄 띄어쓰기\n",
    "print(1, 2, 3, 4, sep='//', end='')\n",
    "print(1, 2, 3, 4)\n",
    "```\n",
    "\n",
    "##### 위의 코드를 아래 셀에 입력한 뒤 출력을 확인해보세요."
   ]
  },
  {
   "cell_type": "code",
   "execution_count": 11,
   "id": "d2944112",
   "metadata": {},
   "outputs": [
    {
     "name": "stdout",
     "output_type": "stream",
     "text": [
      "1.2.3.4\n",
      "\n",
      "1//2//3//41 2 3 4\n",
      "5 6 7 815 6 7 8\n",
      "9 0 1 2\n",
      "2040608\n",
      "3 1 5 1 7 1 9\n"
     ]
    }
   ],
   "source": [
    "print(1, 2, 3, 4, sep='.', end='\\n\\n')\n",
    "print(1, 2, 3, 4, sep='//', end='')\n",
    "print(1,2,3,4)\n",
    "\n",
    "print(5,6,7,8,end='1')\n",
    "print(5,6,7,8)\n",
    "print(9,0,1,2)\n",
    "print(2,4,6,8, sep='0')\n",
    "print(3,5,7,9, sep=' 1 ')"
   ]
  },
  {
   "cell_type": "markdown",
   "id": "7fd60693",
   "metadata": {},
   "source": [
    "## 파이썬에서의 데이터 타입\n",
    "#### 파이썬에서 데이터 타입은 다음과 같이 나눌 수 있습니다.\n",
    "- Numeric Types: int(정수), float(소수), complex(복소수)\n",
    "- Sequence Types: str(문자열), list(리스트), tuple(튜플)\n",
    "- Mapping Type: dict(딕셔너리)\n",
    "- Set Types: set(집합)\n",
    "- Boolean Type: bool(불리언)\n",
    "\n",
    "![파이썬 데이터 타입](01_Data_type.jpg)\n",
    "\n",
    "모두 파이썬 기초 강의를 통해 배울 예정이지만 우선 이번 실습 과제에서는 Numeric Type과 Sequence Type에서 str 타입을 간단하게 확인해보도록 하겠습니다."
   ]
  },
  {
   "cell_type": "markdown",
   "id": "8333dde0",
   "metadata": {},
   "source": [
    "### 화면에 값 출력해보기\n",
    "#### 위에서 Hello World를 출력해보았습니다. 이번에는 다양한 타입의 값들을 출력해보도록 하겠습니다.\n",
    "```python\n",
    "print(1)\n",
    "print(0o32)\n",
    "print(0x8f)\n",
    "print(1.0)\n",
    "print(\"1\")\n",
    "print('1')\n",
    "print(1*2j)\n",
    "```\n",
    "##### 위의 코드를 아래 셀에 입력한 뒤, 값을 확인해보세요."
   ]
  },
  {
   "cell_type": "code",
   "execution_count": 12,
   "id": "8ad83872",
   "metadata": {},
   "outputs": [
    {
     "name": "stdout",
     "output_type": "stream",
     "text": [
      "1\n",
      "26\n",
      "143\n",
      "1.0\n",
      "1\n",
      "1\n",
      "2j\n"
     ]
    }
   ],
   "source": [
    "print(1)\n",
    "print(0o32)\n",
    "print(0x8f)\n",
    "print(1.0)\n",
    "print(\"1\")\n",
    "print('1')\n",
    "print(1*2j)"
   ]
  },
  {
   "cell_type": "markdown",
   "id": "ddbd8aee",
   "metadata": {},
   "source": [
    "### 타입 확인하기\n",
    "#### 타입은 type 함수를 통해 확인할 수 있습니다.\n",
    "```python\n",
    "print(type(1))\n",
    "print(type(0o32))\n",
    "print(type(0x8f))\n",
    "print(type(1.0))\n",
    "print(type(\"1\"))\n",
    "print(type('1'))\n",
    "print(type(1*2j))\n",
    "```\n",
    "##### 위의 코드를 아래 셀에 입력한 뒤, 타입을 확인해보세요."
   ]
  },
  {
   "cell_type": "code",
   "execution_count": 13,
   "id": "62ebb14f",
   "metadata": {},
   "outputs": [
    {
     "name": "stdout",
     "output_type": "stream",
     "text": [
      "<class 'int'>\n",
      "<class 'int'>\n",
      "<class 'int'>\n",
      "<class 'float'>\n",
      "<class 'str'>\n",
      "<class 'str'>\n",
      "<class 'complex'>\n"
     ]
    }
   ],
   "source": [
    "print(type(1))\n",
    "print(type(0o32))\n",
    "print(type(0x8f))\n",
    "print(type(1.0))\n",
    "print(type(\"1\"))\n",
    "print(type('1'))\n",
    "print(type(1*2j))"
   ]
  }
 ],
 "metadata": {
  "kernelspec": {
   "display_name": "Python 3 (ipykernel)",
   "language": "python",
   "name": "python3"
  },
  "language_info": {
   "codemirror_mode": {
    "name": "ipython",
    "version": 3
   },
   "file_extension": ".py",
   "mimetype": "text/x-python",
   "name": "python",
   "nbconvert_exporter": "python",
   "pygments_lexer": "ipython3",
   "version": "3.9.7"
  }
 },
 "nbformat": 4,
 "nbformat_minor": 5
}
