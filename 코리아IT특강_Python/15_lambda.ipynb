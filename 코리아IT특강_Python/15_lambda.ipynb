{
 "cells": [
  {
   "cell_type": "markdown",
   "id": "fdbd54ea",
   "metadata": {},
   "source": [
    "## lambda\n",
    "- 이름없는 함수\n",
    "\n",
    "### lambda 표현식란?\n",
    "실행 시간 중(runtime)에 생성해서 사용할 수 있는 이름이 없는 함수입니다.<br>\n",
    "임시로, 일시적으로 사용할 때 lambda 표현식을 사용하기도 합니다.<br>\n",
    "간단한 기능을 일반적인 함수와 같이 정의해서 구현하는 것이 아니라 필요한 곳에서 바로 사용하고 버릴 수 있습니다.<br>\n",
    "혹은 lambda 표현식에 이름을 붙여서 반복적으로 사용하기도 합니다.<br>\n",
    "\n",
    "### lambda 표현식 구조\n",
    "lambda 파라미터 (집합): 파라미터에 대한 동작 후 리턴\n",
    "\n",
    "```python\n",
    "lambda x: x + 10\n",
    "```\n",
    "\n",
    "### lambda 표현식을 사용하는 이유\n",
    "1. runtime 중에 함수를 만들어서 사용이 가능합니다. -> 파이썬에서는 크게 신경 x\n",
    "2. lambda 표현식에 익숙해지면 일반 함수를 만들어서 사용하는 것보다 매우 간단하고, 편리하게 함수를 만들 수 있습니다."
   ]
  },
  {
   "cell_type": "code",
   "execution_count": 5,
   "id": "e9cedb3e",
   "metadata": {
    "collapsed": true
   },
   "outputs": [
    {
     "name": "stdout",
     "output_type": "stream",
     "text": [
      "20\n",
      "11\n",
      "20\n",
      "11\n",
      "20\n",
      "11\n"
     ]
    }
   ],
   "source": [
    "# lambda 표현식의 기본 구조\n",
    "print((lambda x: x + 10)(10))\n",
    "print((lambda x: x + 10)(1))\n",
    "\n",
    "# 위의 lambda 표현식과 동일한 기능을 하는 함수 만들기\n",
    "def func1(x):\n",
    "    return x + 10\n",
    "\n",
    "print(func1(10))\n",
    "print(func1(1))\n",
    "\n",
    "# lambda 표현식에 이름 붙여서 재사용하기\n",
    "tempFunc = lambda x: x + 10\n",
    "print(tempFunc(10))\n",
    "print(tempFunc(1))"
   ]
  },
  {
   "cell_type": "code",
   "execution_count": 12,
   "id": "f04a9197",
   "metadata": {},
   "outputs": [
    {
     "name": "stdout",
     "output_type": "stream",
     "text": [
      "12\n",
      "3\n",
      "15\n",
      "15\n"
     ]
    }
   ],
   "source": [
    "# 파라미터를 두 개 전달받는 경우\n",
    "tempFunc2 = lambda x, y: x + y\n",
    "print(tempFunc2(2, 10))\n",
    "print(tempFunc2(2, 1))\n",
    "\n",
    "# 파라미터를 리스트로 전달받는 경우 \n",
    "tempList = [1, 2, 3, 4, 5]\n",
    "tempFunc3 = lambda lst: sum(lst)\n",
    "print(tempFunc3(tempList))\n",
    "\n",
    "# 위의 lambda 함수와 동일한 기능을 하는 함수를 만들기\n",
    "def func3(lst):\n",
    "    return sum(lst)\n",
    "print(func3(tempList))"
   ]
  },
  {
   "cell_type": "markdown",
   "id": "4a5cf91a",
   "metadata": {},
   "source": [
    "### lambda 표현식 사용 시 주의 사항\n",
    "1. (캡쳐한) 파라미터의 데이터 타입을 확인해야합니다.\n",
    "2. lambda 표현식 내부에 변수를 만들어서 사용할 수 없습니다.\n",
    "\n",
    "### lambda 표현식의 활용\n",
    "- map(lambda 표현식, 집합데이터)\n",
    "- sort(key=lambda 표현식)\n",
    "    - sort 함수에서 key는 정렬하는 기준 원소를 정합니다."
   ]
  },
  {
   "cell_type": "code",
   "execution_count": 7,
   "id": "870230f3",
   "metadata": {},
   "outputs": [
    {
     "name": "stdout",
     "output_type": "stream",
     "text": [
      "[2, 3, 4, 5, 6]\n",
      "[3, 6, 9, 12]\n",
      "[[0, 0], [0, 1], [0, 2], [0, 3], [0, 4], [1, 0], [1, 1], [1, 2], [1, 3], [1, 4], [2, 0], [2, 1], [2, 2], [2, 3], [2, 4], [3, 0], [3, 1], [3, 2], [3, 3], [3, 4], [4, 0], [4, 1], [4, 2], [4, 3], [4, 4]]\n",
      "----------------------------------------------------------------------------------------------------\n",
      "[[0, 0], [1, 0], [2, 0], [3, 0], [4, 0], [0, 1], [1, 1], [2, 1], [3, 1], [4, 1], [0, 2], [1, 2], [2, 2], [3, 2], [4, 2], [0, 3], [1, 3], [2, 3], [3, 3], [4, 3], [0, 4], [1, 4], [2, 4], [3, 4], [4, 4]]\n",
      "\n",
      "[[0, 0], [0, 1], [0, 2], [0, 3], [0, 4], [1, 0], [1, 1], [1, 2], [1, 3], [1, 4], [2, 0], [2, 1], [2, 2], [2, 3], [2, 4], [3, 0], [3, 1], [3, 2], [3, 3], [3, 4], [4, 0], [4, 1], [4, 2], [4, 3], [4, 4]]\n",
      "\n",
      "[[4, 4], [4, 3], [4, 2], [4, 1], [4, 0], [3, 4], [3, 3], [3, 2], [3, 1], [3, 0], [2, 4], [2, 3], [2, 2], [2, 1], [2, 0], [1, 4], [1, 3], [1, 2], [1, 1], [1, 0], [0, 4], [0, 3], [0, 2], [0, 1], [0, 0]]\n"
     ]
    }
   ],
   "source": [
    "# lambda 표현식의 활용\n",
    "# map함수의 활용\n",
    "# print(list(map(int, input().split())))\n",
    "print(list(map(lambda x: x + 1, [1, 2, 3, 4, 5])))\n",
    "print(list(map(lambda x: x*3, [1, 2, 3, 4])))\n",
    "\n",
    "# sort함수의 활용\n",
    "temp = [[i, j] for i in range(5) for j in range(5)]\n",
    "print(temp)\n",
    "print('--' * 50)\n",
    "\n",
    "temp.sort(key=lambda x: (x[1], x[0]))\n",
    "print(temp)\n",
    "print()\n",
    "temp.sort(key=lambda x: (x[0], x[1]))\n",
    "print(temp)\n",
    "print()\n",
    "temp.sort(key=lambda x: (-x[0],-x[1]))\n",
    "print(temp)"
   ]
  }
 ],
 "metadata": {
  "kernelspec": {
   "display_name": "Python 3 (ipykernel)",
   "language": "python",
   "name": "python3"
  },
  "language_info": {
   "codemirror_mode": {
    "name": "ipython",
    "version": 3
   },
   "file_extension": ".py",
   "mimetype": "text/x-python",
   "name": "python",
   "nbconvert_exporter": "python",
   "pygments_lexer": "ipython3",
   "version": "3.9.7"
  }
 },
 "nbformat": 4,
 "nbformat_minor": 5
}
