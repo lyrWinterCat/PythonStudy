{
 "cells": [
  {
   "cell_type": "markdown",
   "id": "e3807beb",
   "metadata": {},
   "source": [
    "## set\n",
    "![파이썬 데이터 타입](01_Data_type.jpg)\n",
    "\n",
    "### 파이썬 집합 데이터\n",
    "- list: 순서가 있다. 중복을 허용한다. mutable\n",
    "- tuple: 순서가 있다. 중복을 허용한다. immutable\n",
    "- set: 순서가 없다. 중복을 허용하지 않는다.\n",
    "- dict: key와 value 쌍으로 구성된다. 순서가 없다.\n",
    "\n",
    "### set\n",
    "- set은 {,}로 구분된 집합 데이터입니다.\n",
    "- set은 순서가 없기 때문에 인덱싱이 불가능합니다."
   ]
  },
  {
   "cell_type": "code",
   "execution_count": 3,
   "id": "167ee2a9",
   "metadata": {},
   "outputs": [
    {
     "name": "stdout",
     "output_type": "stream",
     "text": [
      "{'dog', 'cat', 'bird'}\n",
      "<class 'set'>\n",
      "3\n"
     ]
    },
    {
     "ename": "TypeError",
     "evalue": "'set' object is not subscriptable",
     "output_type": "error",
     "traceback": [
      "\u001b[1;31m---------------------------------------------------------------------------\u001b[0m",
      "\u001b[1;31mTypeError\u001b[0m                                 Traceback (most recent call last)",
      "\u001b[1;32mC:\\Users\\ADMINI~1\\AppData\\Local\\Temp/ipykernel_7140/3127022050.py\u001b[0m in \u001b[0;36m<module>\u001b[1;34m\u001b[0m\n\u001b[0;32m      4\u001b[0m \u001b[0mprint\u001b[0m\u001b[1;33m(\u001b[0m\u001b[0mtype\u001b[0m\u001b[1;33m(\u001b[0m\u001b[0manimals\u001b[0m\u001b[1;33m)\u001b[0m\u001b[1;33m)\u001b[0m \u001b[1;31m# set\u001b[0m\u001b[1;33m\u001b[0m\u001b[1;33m\u001b[0m\u001b[0m\n\u001b[0;32m      5\u001b[0m \u001b[0mprint\u001b[0m\u001b[1;33m(\u001b[0m\u001b[0mlen\u001b[0m\u001b[1;33m(\u001b[0m\u001b[0manimals\u001b[0m\u001b[1;33m)\u001b[0m\u001b[1;33m)\u001b[0m \u001b[1;31m# 3\u001b[0m\u001b[1;33m\u001b[0m\u001b[1;33m\u001b[0m\u001b[0m\n\u001b[1;32m----> 6\u001b[1;33m \u001b[0mprint\u001b[0m\u001b[1;33m(\u001b[0m\u001b[0manimals\u001b[0m\u001b[1;33m[\u001b[0m\u001b[1;36m0\u001b[0m\u001b[1;33m]\u001b[0m\u001b[1;33m)\u001b[0m\u001b[1;33m\u001b[0m\u001b[1;33m\u001b[0m\u001b[0m\n\u001b[0m",
      "\u001b[1;31mTypeError\u001b[0m: 'set' object is not subscriptable"
     ]
    }
   ],
   "source": [
    "# set의 기본 구조\n",
    "animals = {\"dog\", \"cat\", \"bird\", \"cat\", 'dog'}\n",
    "print(animals) # set의 주요한 특징 1: 중복을 허용하지 않는다.\n",
    "print(type(animals)) # set\n",
    "print(len(animals)) # 3\n",
    "\n",
    "# print(animals[0]) set의 주요한 특징 2: 인덱싱이 불가능하다."
   ]
  },
  {
   "cell_type": "markdown",
   "id": "b8ec7f2e",
   "metadata": {},
   "source": [
    "### set\n",
    "- add(value): set에 value 추가 -> 중복된 경우에는 추가 x\n",
    "- remove(value): set에 value 삭제\n",
    "- s1.intersection(s2) 혹은 s1 & s2: set 간의 교집합\n",
    "- s1.union(s2) 혹은 s1 | s2: set 간의 합집합\n",
    "- s1.difference(s2) 혹은 s1 - s2: s1과 s2의 차집합"
   ]
  },
  {
   "cell_type": "code",
   "execution_count": 15,
   "id": "bd5f0942",
   "metadata": {},
   "outputs": [
    {
     "name": "stdout",
     "output_type": "stream",
     "text": [
      "{'bird', 'dog', 'cat'}\n",
      "{'bird', 'dog', 'cat', 'whale'}\n",
      "{'bird', 'dog', 'cat', 'whale'}\n",
      "{'bird', 'dog', 'cat'}\n",
      "{1, 2, 3, 4} {3, 4, 5, 6}\n",
      "{3, 4}\n",
      "{3, 4}\n",
      "{1, 2, 3, 4, 5, 6}\n",
      "{1, 2, 3, 4, 5, 6}\n",
      "{1, 2}\n",
      "{1, 2}\n"
     ]
    }
   ],
   "source": [
    "# add\n",
    "print(animals)\n",
    "animals.add('whale') \n",
    "print(animals) # whale 추가 -> 순서가 없기 때문에 print할 때 순서와 관계없이 원소가 출력됩니다.\n",
    "animals.add('whale')\n",
    "print(animals) # 중복된 경우에는 value 추가 x\n",
    "\n",
    "# remove \n",
    "animals.remove('whale')\n",
    "print(animals) # whale 삭제\n",
    "# animals.remove('whale') KeyError\n",
    "\n",
    "# intersection\n",
    "s1 = set([1, 2, 3, 4]) # str, list, int \n",
    "s2 = set([3, 4, 5, 6])\n",
    "print(s1, s2)\n",
    "\n",
    "print(s1.intersection(s2)) # 교집합 {3, 4}\n",
    "print(s1 & s2) # 교집합 표현 방법 2\n",
    "\n",
    "# union\n",
    "print(s1.union(s2)) # 합집합 {1, 2, 3, 4, 5, 6}\n",
    "print(s1 | s2) # 합집합 표현 방법 2\n",
    "\n",
    "# difference\n",
    "print(s1.difference(s2)) # 차집합 {1, 2}\n",
    "print(s1 - s2) # 차집합 표현 방법 2"
   ]
  },
  {
   "cell_type": "markdown",
   "id": "f2e8debe",
   "metadata": {},
   "source": [
    "## 심화 내용\n",
    "### set의 활용 용도\n",
    "1. 중복된 값을 제거하기 위해서 사용합니다.\n",
    "2. 해쉬값을 사용해 더 빠른 탐색을 위해 사용합니다. (데이터가 있는지 없는지 탐색)\n",
    "    - ex) in 연산자"
   ]
  },
  {
   "cell_type": "code",
   "execution_count": 46,
   "id": "e855749f",
   "metadata": {
    "scrolled": false
   },
   "outputs": [
    {
     "name": "stdout",
     "output_type": "stream",
     "text": [
      "{1, 2, 3, 4, 5}\n",
      "3.141592653589793 2.0\n",
      "1641186237.351032\n",
      "True\n",
      "True\n",
      "List에서 in 연산자를 통한 검색 시간: 0.791초\n",
      "Set에서 in 연산자를 통한 검색 시간: 0.0000000초\n"
     ]
    }
   ],
   "source": [
    "# 1. 중복된 값 제거\n",
    "number = [1, 2, 3, 4, 5, 4, 4, 4, 2, 1]\n",
    "print(set(number)) # 중복된 값 제거\n",
    "\n",
    "# 2. 해쉬 값을 이용한 빠른 탐색\n",
    "import math\n",
    "print(math.pi, math.sqrt(4))\n",
    "\n",
    "# time 모듈\n",
    "# timestamp\n",
    "import time # time 라이브러리 -> 시간 체크할 때 사용\n",
    "print(time.time()) # 1970년 1월 1일 0시 0분 0초부터 지금까지의 경과 시간(단위: 초)\n",
    "\n",
    "'''start_time = time.time()\n",
    "for i in range(100000):\n",
    "    pass\n",
    "end_time = time.time()\n",
    "print(end_time - start_time)\n",
    "'''\n",
    "tempList = []\n",
    "tempSet = set([])\n",
    "for i in range(10 ** 8):\n",
    "    tempList.append(i)\n",
    "    tempSet.add(i)\n",
    "    \n",
    "startTimeL = time.time()\n",
    "print(99999999 in tempList)\n",
    "endTimeL = time.time()\n",
    "elapsedTimeL = endTimeL - startTimeL\n",
    "\n",
    "startTimeS = time.time()\n",
    "print(99999999 in tempSet)\n",
    "endTimeS = time.time()\n",
    "elapsedTimeS = endTimeS - startTimeS\n",
    "\n",
    "print('List에서 in 연산자를 통한 검색 시간: {:.3f}초'.format(elapsedTimeL))\n",
    "print('Set에서 in 연산자를 통한 검색 시간: {:.7f}초'.format(elapsedTimeS))"
   ]
  }
 ],
 "metadata": {
  "kernelspec": {
   "display_name": "Python 3 (ipykernel)",
   "language": "python",
   "name": "python3"
  },
  "language_info": {
   "codemirror_mode": {
    "name": "ipython",
    "version": 3
   },
   "file_extension": ".py",
   "mimetype": "text/x-python",
   "name": "python",
   "nbconvert_exporter": "python",
   "pygments_lexer": "ipython3",
   "version": "3.9.7"
  }
 },
 "nbformat": 4,
 "nbformat_minor": 5
}
