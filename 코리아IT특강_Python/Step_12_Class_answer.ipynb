{
 "cells": [
  {
   "cell_type": "markdown",
   "id": "dc883e7a",
   "metadata": {
    "id": "dc883e7a"
   },
   "source": [
    "## Class\n",
    "본 실습을 통해 객체지향언어의 꽃, 클래스에 대해 간단하게 알아보고 코드를 작성하여 실습해보도록 하겠습니다.<br>\n"
   ]
  },
  {
   "cell_type": "markdown",
   "id": "af7cc803",
   "metadata": {
    "id": "af7cc803"
   },
   "source": [
    "### Class\n",
    "클래스란 특정 분야에 유용한 데이터와 함수의 묶음입니다.<br>\n",
    "수업시간에 살펴본 것과 같이 학생이라는 클래스가 있다면 학생의 성적, 주소, 학번, 이름, 학년 등과 같은 데이터와 데이터를 활용해 특정한 기능을 구현하는 함수, 이를테면 낙제를 받은 학생에 대한 장학금 제한 등의 함수를 만들 수 있겠죠.<br>\n",
    "현재 상황에 맞춰서 현실에 있는 문제를 해결하기 위해 일종의 구조체를 만드는 것입니다.<br>\n"
   ]
  },
  {
   "cell_type": "markdown",
   "id": "f084784b",
   "metadata": {
    "id": "f084784b"
   },
   "source": [
    "### 클래스의 데이터\n",
    "클래스의 데이터는 두 가지 유형으로 나눌 수 있습니다.\n",
    "- 멤버 변수: 각 객체마다 다른 값을 가지는 데이터\n",
    "- 클래스 변수: 클래스에 종속된 변수를 의미하며, 클래스 내부의 객체는 모두 클래스 변수를 공유합니다.\n",
    "\n",
    "예시를 확인해보면 아마 조금 더 이해가 잘 될 것이라 생각합니다.\n",
    "#### 예시- 클래스: 서울대학교 경영학과 학생들 \n",
    "해당 클래스의 객체는 각 경영학과 학생 한명 한명이 됨\n",
    "- 클래스 변수: 등록금, 학과\n",
    "- 멤버 변수: 학번, 이름, 과동아리, 학점, 수강과목\n",
    "\n",
    "서울대학교 경영학과 학생들은 등록금과 학과가 모두 동일할 겁니다.<br>\n",
    "그렇기 때문에 클래스 내부의 객체(서울대학교 학생들)는 모두 같은 값을 가지기에 클래스 변수로 정의합니다.<br>\n",
    "반면 각 객체마다 다른 학번, 이름, 과동아리, 학점, 수강과목 등의 값을 가지고 있으니 이는 멤버 변수로 정의합니다.<br>"
   ]
  },
  {
   "cell_type": "markdown",
   "id": "6c3729a3",
   "metadata": {
    "id": "6c3729a3"
   },
   "source": [
    "### Private 변수\n",
    "데이터의 손상을 방지하기 위해 클래스 내부의 데이터는 직접적으로 접근하지 못하게 클래스를 구현한 경우가 많습니다.<br>\n",
    "이를 위해 Private 변수를 사용합니다.<br>\n",
    "Private 변수는 변수의 이름 앞에 ``__``를 붙이면 됩니다<br>\n",
    "\n",
    "```python\n",
    "class C1:\n",
    "    value = 0\n",
    "\n",
    "class C2:\n",
    "    __value = 0\n",
    "\n",
    "c1 = C1\n",
    "c2 = C2\n",
    "print(c1.value)\n",
    "print(c2.__value)\n",
    "```\n",
    "##### 위의 코드를 아래 셀에 작성해보고 에러가 발생하면 그 에러를 점검하시기 바랍니다."
   ]
  },
  {
   "cell_type": "code",
   "execution_count": 3,
   "id": "eecf18a5",
   "metadata": {
    "id": "eecf18a5"
   },
   "outputs": [
    {
     "name": "stdout",
     "output_type": "stream",
     "text": [
      "0\n"
     ]
    }
   ],
   "source": [
    "class C1:\n",
    "    value = 0\n",
    "\n",
    "class C2:\n",
    "    __value = 0\n",
    "\n",
    "c1 = C1\n",
    "c2 = C2\n",
    "print(c1.value)\n",
    "# print(c2.__value) private 변수에 접근 불가"
   ]
  },
  {
   "cell_type": "markdown",
   "id": "bd396624",
   "metadata": {
    "id": "bd396624"
   },
   "source": [
    "### Methods\n",
    "Private 변수를 활용하기 위해 클래스 내부에 메소드를 작성해 변수를 읽고 씁니다.\n",
    "```python\n",
    "class C:\n",
    "    __value = 0\n",
    "    \n",
    "    def getvalue():\n",
    "        return C.__value\n",
    "    \n",
    "    def setvalue(v):\n",
    "        C.__value = v\n",
    "    \n",
    "c = C\n",
    "print(c.getvalue())\n",
    "c.setvalue(10)\n",
    "print(c.getvalue())\n",
    "\n",
    "```\n",
    "##### 위의 코드를 아래 셀에 작성해보고 결과를 확인해보세요."
   ]
  },
  {
   "cell_type": "code",
   "execution_count": 4,
   "id": "b260626a",
   "metadata": {
    "id": "b260626a"
   },
   "outputs": [
    {
     "name": "stdout",
     "output_type": "stream",
     "text": [
      "0\n",
      "10\n"
     ]
    }
   ],
   "source": [
    "class C:\n",
    "    __value = 0\n",
    "\n",
    "    def getvalue():\n",
    "        return C.__value\n",
    "\n",
    "    def setvalue(v):\n",
    "        C.__value = v\n",
    "\n",
    "c = C\n",
    "print(c.getvalue())\n",
    "c.setvalue(10)\n",
    "print(c.getvalue())"
   ]
  },
  {
   "cell_type": "markdown",
   "id": "Hc9MTvONx_lf",
   "metadata": {
    "id": "Hc9MTvONx_lf"
   },
   "source": [
    "### 생성자(Constructor)\n",
    "객체를 생성할 때마다 특정한 속성(attirvute)을 자동으로 초기화하는 역할을 합니다.<br>\n",
    "``__init__``(self, 파라미터)의 형태로 생성자를 정의합니다.<br>\n",
    "\n",
    "### self 변수\n",
    "객체마다 고유의 attribute를 가지고 있는데, 이를 함수에서 활용하기 위해 ``현재 객체``에 대한 정보를 알려주는 변수입니다.<br>\n",
    "특정한 타입과 관련된 메소드는 객체.메소드() 형태로 함수를 사용합니다.<br>\n",
    "이때 self 변수가 ``객체.메소드``의 형태로 함수를 사용할 수 있게끔 도와줍니다.<br>\n",
    "멤버 변수(attribute)를 멤버 methods에서 사용할 때는 ``self.``을 붙이면 됩니다.<br>\n",
    "self를 사용하는 경우는 각 객체의 attribute를 다루기 위이니 멤버 변수와 멤버 함수 모두에서 늘 쓰인다고 생각하시면 됩니다.<br>\n",
    "\n",
    "\n",
    "### 실습 문제 1 은행 계좌 class로 구현하기\n",
    "- 클래스 변수: 예금 이자율, 계좌 수\n",
    "- 멤버 변수: 이름, 계좌 번호, 계좌 잔액\n",
    "- 클래스 함수: 지금까지 만들어진 계좌 수 반환\n",
    "- 멤버 함수: 입금, 출금, 현재 잔액이 지속됐을 때의 N년 후 계좌 잔액\n",
    "\n",
    "주어진 조건 외에는 자유롭게 생각하시어 클래스를 만드시면 됩니다.<br>\n"
   ]
  },
  {
   "cell_type": "code",
   "execution_count": 20,
   "id": "2j4ZOPHY0KKb",
   "metadata": {
    "id": "2j4ZOPHY0KKb"
   },
   "outputs": [],
   "source": [
    "class Account:\n",
    "    __InterestRate = 0.02\n",
    "    __NumberOfAccount = 0\n",
    "   \n",
    "    def __init__(self, Name = '', AccountID = 0, Balance = 0):\n",
    "        self.Name = Name\n",
    "        self.AccountID = AccountID\n",
    "        self.Balance = Balance\n",
    "        Account.__NumberOfAccount += 1\n",
    "   \n",
    "    def deposit(self, deposit):\n",
    "        self.Balance += deposit\n",
    "        print(f'{self.Name}님의 잔액은 {self.Balance}원입니다.')\n",
    "   \n",
    "    def withdraw(self, withdraw):\n",
    "        self.Balance -= withdraw\n",
    "        print(f'{self.Name}님의 잔액은 {self.Balance}원입니다.')\n",
    "   \n",
    "    def N_Balance(self, N):\n",
    "        N_Balance = self.Balance * (1 + Account.__InterestRate) ** N # 코드 수정\n",
    "        print(f'{self.Name}님의 {N}년 후 잔액은 {N_Balance}원입니다.')\n",
    "       \n",
    "    def CountAccount():\n",
    "        return Account.__NumberOfAccount"
   ]
  },
  {
   "cell_type": "markdown",
   "id": "SUvt_izxzMcK",
   "metadata": {
    "id": "SUvt_izxzMcK"
   },
   "source": [
    "## Class\n",
    "### Magic Methods\n",
    "파이썬 빌트인 타입의 메소드나 연산자를 오버로딩(overloading)해서 클래스 간 연산 등을 가능하게 합니다.<br>\n",
    "dir()을 통해서 클래스의 모든 속성과 메소드를 확인할 수 있습니다.<br>\n",
    "한마디로 말해서 연산자나 함수를 오버로딩하여 다른 타입에서도 사용할 수 있게끔도와주는 역할을 하는 것이 magic methods입니다.<br>\n",
    "\n",
    "클래스를 설명드릴 때 데이터 타입도 클래스의 일부라고 했었죠.<br>\n",
    "그렇기 때문에 int 클래스 내에서 __add__ 메소드를 통해 덧셈을 오버로딩했기에 두 int type을 더했을 때, 정수가 나올 수 있는 겁니다.<br>\n",
    "반면 str 타입에서는 __add__를 문자열 간의 합, 리스트는 리스트 간의 합 등으로 오버로딩해서 + 연산자를 통해 타입별로 다양한 기능을 동작시킬 수 있습니다.<br>\n",
    "\n",
    "\n",
    "### Magic Methods의 종류\n",
    "```python\n",
    "\"\"\"\n",
    "연산자     메소드                     설명\n",
    "─────────────────────────\n",
    "         <binary operator>\n",
    "         \n",
    " +      __add__(self, other)         덧셈 \n",
    " *      __mul__(self, other)         곱셈\n",
    " -      __sub__(self, other)         뺄셈 \n",
    " /      __truediv__(self, other)     나눗셈\n",
    " //     __floordiv__(self, other)\n",
    " %       __mod__(self, other)             나머지\n",
    " **      __pow__(self, other[, modulo])\n",
    " >>      __lshift__(self, other)\n",
    " <<      __rshift__(self, other)\n",
    " &       __and__(self, other)\n",
    " ^      __xor__(self, other)\n",
    " |      __or__(self, other)\n",
    "    \n",
    "    \n",
    "             <Extended operator>\n",
    "             \n",
    "+=         __iadd__(self, other)\n",
    "-=         __isub__(self, other)\n",
    "*=         __imul__(self, other)\n",
    "/=         __idiv__(self, other)\n",
    "//=        __ifloordiv__(self, other)\n",
    "%=         __imod__(self, other)\n",
    "**=        __ipow__(self, other)\n",
    "<<=        __ilshift__(self, other)\n",
    ">>=        __irshift__(self, other)\n",
    "&=         __iand__(self, other)\n",
    "^=         __ixor__(self, other)\n",
    "|=         __ior__(self, other)\n",
    "\n",
    "\n",
    "            <unary operators>\n",
    "-\n",
    "+\n",
    "abs()\n",
    "~\n",
    "complex()\n",
    "int()\n",
    "long()\n",
    "float()\n",
    "oct()\n",
    "hex()\n",
    "        \n",
    "\n",
    " <       __lt__(self, other)         작다(미만) \n",
    " <=      __le__(self, other)         작거나 같다(이하) \n",
    " ==      __eq__(self, other)         같다 \n",
    " !=      __ne__(self, other)         같지 않다 \n",
    " >      __gt__(self, other)          크다(초과)\n",
    " >=     __ge__(self, other)          크거나 같다(이상) \n",
    " [index]   __getitem__(self, index)   인덱스 연산자 \n",
    " in       __contains__(self, value)   멤버 확인  \n",
    " len     __len__(self)                요소 길이 \n",
    " str      __str__(self)                문자열 표현 \n",
    " \n",
    " \n",
    "         __init__\n",
    "         __del__\n",
    "         __new__\n",
    " \n",
    "         __repr__(self)              representative form\n",
    "\"\"\"\n",
    "```\n",
    "\n"
   ]
  },
  {
   "cell_type": "markdown",
   "id": "7rLUW1H81VKe",
   "metadata": {
    "id": "7rLUW1H81VKe"
   },
   "source": [
    "### 상속(Inheritance)\n",
    "최근 객체 지향 언어가 많이 핫한 이유는 상속이 가능하다는 점 때문입니다.<br>\n",
    "상속은 기존에 만든 코드를 활용해 빠르게 코드를 작성할 수 있도록 도와줍니다.<br>\n",
    "프로그래머가 만든 클래스에 필요한 경우에 추가적인 attribute와 methods를 집어 넣어 새로운 클래스를 만들 수 있습니다.<br>\n",
    "남이 만들어놓은 좋은 코드를 ``재사용``하고, 빠르고 안전하게 코드를 확보해서 서비스를 개발할 때 용이합니다.<br>\n",
    "확장의 대상이 되는 클래스를 부모 혹은 Base 클래스라고 합니다.<br>\n",
    "상속받는 클래스를 자식 혹은 Derived 클래스하고 합니다.<br>\n",
    "super()를 사용해 기능과 변수를 상속할 수 있고, 부모 클래스에서 사용한 함수와 변수 등을 상속 받은 클래스에서 사용할 수 있습니다.<br>\n",
    "\n",
    "### 실습 문제 2: 대출계좌 만들기\n",
    "실습 문제 1에서 만든 은행계좌를 상속받아 새로운 class를 만드세요!<br>\n",
    "추가 멤버 변수: 대출 잔액<br>\n",
    "추가 멤버 함수\n",
    "1. 계좌 간에 입금계좌와 대출계좌의 잔액을 합쳐서 반환<br><br>\n",
    "ex)\n",
    "account1 = 입금액: 100, 대출액: 10<br>\n",
    "account2 = 입금액: 20, 대출액: 30<br>\n",
    "account1 + account2 # >> 입금액: 120, 대출액 40<br>\n",
    "hint: magic method를 활용해 문제를 풀어보세요.<br>\n",
    "\n",
    "2. 계좌를 확인해보고 신용불량자를 판단하는 함수\n",
    "신용불량자에 대한 기준은 작성자 자유롭게 설정하여 신용불량자인지 아닌지 판별하여 True, False를 반환"
   ]
  },
  {
   "cell_type": "code",
   "execution_count": 28,
   "id": "EEDtJy_9x1Hx",
   "metadata": {
    "id": "EEDtJy_9x1Hx"
   },
   "outputs": [
    {
     "name": "stdout",
     "output_type": "stream",
     "text": [
      "171\n"
     ]
    }
   ],
   "source": [
    "class LoanAccount(Account):\n",
    "   \n",
    "    def __init__(self, Name = '', AccountID = 0, Balance=0, LoanBalance=0):\n",
    "        super().__init__(Name, AccountID, Balance)\n",
    "        self.LoanBalance = LoanBalance\n",
    "   \n",
    "    def getLoanBalance(self, LoanBalance):\n",
    "        self.LoanBalance += LoanBalance\n",
    "        print(f'{self.Name}님의 대출 잔액은 {self.LoanBalance}원입니다.')\n",
    "   \n",
    "    def LoanRepayment(self, LoanRepayment):\n",
    "        self.LoanBalance -= LoanRepayment\n",
    "        print(f'{self.Name}님의 대출 잔액은 {self.LoanBalance}원입니다.')\n",
    "             \n",
    "    def __add__(self, other):\n",
    "        return LoanAccount(Balance = self.Balance + other.Balance, LoanBalance = self.LoanBalance + other.LoanBalance)\n",
    "             \n",
    "    def getBalance(self):\n",
    "        print(f'총 잔액은 {self.Balance}원, 총 대출 잔액은 {self.LoanBalance}원입니다.')\n",
    "   \n",
    "    def Check(self):\n",
    "        if (self.Balance <= self.LoanBalance):\n",
    "            print(f\"{self.Name}님은 신용불량자 등급입니다.\")\n",
    "        else:\n",
    "            print(f\"{self.Name}님은 신용불량자가 아닙니다.\")\n",
    "\n",
    "    def __str__(self):\n",
    "        return str(self.Balance - self.LoanBalance)\n",
    "    \n",
    "A = LoanAccount('한빈', 0, 100, -10)\n",
    "B = LoanAccount('한번', 2, 11, -50)\n",
    "print(A + B)"
   ]
  }
 ],
 "metadata": {
  "colab": {
   "collapsed_sections": [],
   "name": "Step_12_Class.ipynb",
   "provenance": []
  },
  "kernelspec": {
   "display_name": "Python 3 (ipykernel)",
   "language": "python",
   "name": "python3"
  },
  "language_info": {
   "codemirror_mode": {
    "name": "ipython",
    "version": 3
   },
   "file_extension": ".py",
   "mimetype": "text/x-python",
   "name": "python",
   "nbconvert_exporter": "python",
   "pygments_lexer": "ipython3",
   "version": "3.9.7"
  }
 },
 "nbformat": 4,
 "nbformat_minor": 5
}
