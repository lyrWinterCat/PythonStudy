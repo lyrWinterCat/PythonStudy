{
 "cells": [
  {
   "cell_type": "markdown",
   "id": "6cc4c2b2",
   "metadata": {
    "id": "6cc4c2b2"
   },
   "source": [
    "## 실습\n",
    "본 실습을 통해 조건문과 삼항 연산자, 그리고 연산자 우선순위를 알아보도록 하겠습니다."
   ]
  },
  {
   "cell_type": "markdown",
   "id": "0e76d38d",
   "metadata": {
    "id": "0e76d38d"
   },
   "source": [
    "### 조건문\n",
    "프로그래밍 언어는 조건문을 사용해 특정 조건 하에서 동작하게끔 코드를 작성하는 경우가 매우 많습니다.<br>\n",
    "step 4에서 이전에 작성한 코드를 확인해봅시다.<br>\n",
    "이름과 나이를 입력받았는데, 만약 나이가 음수인 경우는 데이터를 잘못 입력받은 것이겠죠.<br>\n",
    "따라서 이러한 경우에 잘못 입력받았다는 내용을 알려주기 위해, 혹은 다른 처리를 하기 위해 조건문을 사용합니다.<br>\n",
    "<br>\n",
    "대부분의 프로그래밍 언어가 비슷한 표현을 통해 조건문을 표현합니다만 파이썬에서의 조건문은 다음과 같이 사용합니다.<br>\n",
    "```python\n",
    "\"\"\"\n",
    "if _condition_:\n",
    "    sentence 1\n",
    "elif _condition_:\n",
    "    sentence 2\n",
    "else:\n",
    "    sentence 3\n",
    "\"\"\"\n",
    "```\n",
    "\n",
    "처음 if 조건에 있는 조건문을 확인한 뒤, 해당 조건이 참(True)인 경우 sentence 1이 동작합니다.<br>\n",
    "처음 if 조건에 있는 조건이 거짓(False)이고, elif 조건이 참인 경우 sentence 2가 동작합니다.<br>\n",
    "if 조건과 elif 조건 모두 거짓인 경우 sentence 3이 동작합니다.<br>\n",
    "\n",
    "다음과 같은 프로그램을 한번 만들어봅시다.\n",
    "```python\n",
    "\"\"\"\n",
    "실습문제 1\n",
    "사용자로부터 나이를 입력받습니다. \n",
    "음수를 입력 받을 경우 \"음수를 입력했습니다.\"를 출력한다.\n",
    "200보다 큰 수를 입력 받을 경우 \"너무 큰 값을 입력했습니다.\"를 출력한다.\n",
    "음수도 아니고 200보다 작거나 같은 숫자라면 \"당신의 나이는 '입력받은 값'이군요.\"를 출력한다.\n",
    "이때 자신보다 나이가 많은 경우 \"저보다 나이가 몇 살 많으십니다.\"를 함께 출력해준다.\n",
    "자신보다 나이가 적은 경우 \"저보다 나이가 몇 살 적으십니다.\"를 함께 출력해준다.\n",
    "\n",
    "입력 예시 1\n",
    "50\n",
    "\n",
    "출력 예시 1\n",
    "당신의 나이는 50이군요.\n",
    "저보다 나이가 10살 많으십니다.\n",
    "\n",
    "\n",
    "입력 예시 2\n",
    "20\n",
    "\n",
    "출력 예시 2\n",
    "당신의 나이는 20이군요.\n",
    "저보다 나이가 20살 적으십니다.\n",
    "\n",
    "입력 예시 3\n",
    "-12\n",
    "\n",
    "출력 예시 3\n",
    "음수를 입력했습니다.\n",
    "\n",
    "입력 예시 4\n",
    "12222\n",
    "\n",
    "출력 예시 4\n",
    "너무 큰 값을 입력했습니다.\n",
    "\n",
    "\"\"\"\n",
    "```"
   ]
  },
  {
   "cell_type": "code",
   "execution_count": 5,
   "id": "69b57283",
   "metadata": {
    "executionInfo": {
     "elapsed": 2,
     "status": "ok",
     "timestamp": 1640759484207,
     "user": {
      "displayName": "‍최한빈[학생](경영대학 경영학과)",
      "photoUrl": "https://lh3.googleusercontent.com/a/default-user=s64",
      "userId": "06554604358941194570"
     },
     "user_tz": -540
    },
    "id": "69b57283"
   },
   "outputs": [
    {
     "name": "stdout",
     "output_type": "stream",
     "text": [
      "12222\n",
      "너무 큰 값을 입력했습니다.\n"
     ]
    }
   ],
   "source": [
    "age = int(input())\n",
    "if age<0:\n",
    "    print('음수를 입력하셨습니다.')\n",
    "elif age >200:\n",
    "    print('너무 큰 값을 입력했습니다.')\n",
    "else:\n",
    "    if age > 27:\n",
    "        print(f'당신의 나이는 {age}이군요.')\n",
    "        print(f'저보다 나이가 {age-27}살 많으십니다.')\n",
    "    \n",
    "    elif age < 27:\n",
    "        print(f'당신의 나이는 {age}이군요.')\n",
    "        print(f'저보다 나이가 {27-age}살 적으십니다.')"
   ]
  },
  {
   "cell_type": "markdown",
   "id": "uNwK6NjE4wKR",
   "metadata": {
    "id": "uNwK6NjE4wKR"
   },
   "source": [
    "다음은 조건문을 연습하기 위한 실습 문제들입니다. <br>\n",
    "문제를 풀어보시면서 조건문에 익숙해지시기 바랍니다!"
   ]
  },
  {
   "cell_type": "code",
   "execution_count": null,
   "id": "YLCFMBnO4s50",
   "metadata": {
    "id": "YLCFMBnO4s50"
   },
   "outputs": [],
   "source": [
    "'''\n",
    "### 실습 문제 2\n",
    "사용자에게 정수를 입력받고 \n",
    "해당 정수의 값이 0 이하면 ``값이 0 이하입니다.``를 출력하고, <br>\n",
    "50보다 작다면 ``값이 너무 작습니다.``를 출력하고, <br>\n",
    "50이상 100이하라면 ``값이 적당합니다.``를 출력하고, <br>\n",
    "100 이상이라면 ``값이 너무 큽니다.``를 출력하는 프로그램을 만드십시오.<br>\n",
    "\n",
    "입력 예시 1\n",
    "-1\n",
    "\n",
    "출력 예시 1\n",
    "값이 너무 작습니다.\n",
    "\n",
    "입력 예시 2\n",
    "20\n",
    "\n",
    "출력 예시 2\n",
    "값이 너무 작습니다.\n",
    "\n",
    "입력 예시 3\n",
    "1234123\n",
    "\n",
    "출력 예시 3\n",
    "값이 너무 큽니다.\n",
    "'''"
   ]
  },
  {
   "cell_type": "code",
   "execution_count": 8,
   "id": "c13214da",
   "metadata": {},
   "outputs": [
    {
     "name": "stdout",
     "output_type": "stream",
     "text": [
      "1234123\n",
      "값이 너무 큽니다.\n"
     ]
    }
   ],
   "source": [
    "num = int(input())\n",
    "if num <=0:\n",
    "    print('값이 0 이하입니다.')\n",
    "elif num <50:\n",
    "    print('값이 너무 작습니다.')\n",
    "elif num <= 100:\n",
    "    print('값이 적당합니다.')\n",
    "else:\n",
    "    print('값이 너무 큽니다.')"
   ]
  },
  {
   "cell_type": "code",
   "execution_count": null,
   "id": "91Eqvm-I491T",
   "metadata": {
    "id": "91Eqvm-I491T"
   },
   "outputs": [],
   "source": [
    "'''\n",
    "### 실습 문제 3\n",
    "사용자로부터 정수를 하나 입력받고, \n",
    "해당 정수가 짝수이면 ``Even number``를 출력하고, \n",
    "해당 정수가 홀수면 ``Odd number``를 출력하는 프로그램을 만들어보세요.\n",
    "\n",
    "입력 예시 1\n",
    "1\n",
    "\n",
    "출력 예시 1\n",
    "Odd number\n",
    "\n",
    "입력 예시 2\n",
    "4\n",
    "\n",
    "출력 예시 2\n",
    "Even number\n",
    "\n",
    "hint: % 연산자를 활용해 홀수, 짝수 판별을 하면됩니다.\n",
    "'''"
   ]
  },
  {
   "cell_type": "code",
   "execution_count": 11,
   "id": "06e99fad",
   "metadata": {},
   "outputs": [
    {
     "name": "stdout",
     "output_type": "stream",
     "text": [
      "4\n",
      "Even number\n"
     ]
    }
   ],
   "source": [
    "num1 = int(input())\n",
    "if num1%2 == 0:\n",
    "    print('Even number')\n",
    "else:\n",
    "    print('Odd number')\n",
    "    \n",
    "'''\n",
    "if num1%2: #0은 False -> 짝수인 경우에 False\n",
    "    print('Odd number')\n",
    "else:\n",
    "    print('Even number')\n",
    "-> 이런 식의 접근도 가능함 \n",
    "'''"
   ]
  },
  {
   "cell_type": "markdown",
   "id": "286384b2",
   "metadata": {
    "id": "286384b2"
   },
   "source": [
    "### 삼항 연산자 실습하기\n",
    "삼항 연산자는 코드를 간단하게 작성하기에 매우 편리한 도구입니다.<br>\n",
    "삼항 연산자는 다음과 같이 표현할 수 있어요.<br>\n",
    "\n",
    "조건문이 참인 경우의 동작 if 조건 else 조건문이 거짓인 경우의 동작 <br>\n",
    "\n",
    "\n",
    "##### 다음과 같은 코드를 동작시켜 값을 확인해봅시다.\n",
    "\n",
    "```python\n",
    "a = 0\n",
    "print(f\"{a}는 1보다 커요.\" if a > 1 else f\"{a}는 1보다 작아요.\")\n",
    "a = 2\n",
    "print(f\"{a}는 1보다 커요.\" if a > 1 else f\"{a}는 1보다 작아요.\")\n",
    "```\n",
    "\n",
    "##### 위의 코드를 실행시켜 값을 확인해보세요."
   ]
  },
  {
   "cell_type": "code",
   "execution_count": 12,
   "id": "eb6fefe7",
   "metadata": {
    "id": "eb6fefe7"
   },
   "outputs": [
    {
     "name": "stdout",
     "output_type": "stream",
     "text": [
      "0는 1보다 작아요.\n",
      "2는 1보다 커요.\n"
     ]
    }
   ],
   "source": [
    "a = 0\n",
    "print(f\"{a}는 1보다 커요.\" if a > 1 else f\"{a}는 1보다 작아요.\")\n",
    "a = 2\n",
    "print(f\"{a}는 1보다 커요.\" if a > 1 else f\"{a}는 1보다 작아요.\")"
   ]
  },
  {
   "cell_type": "markdown",
   "id": "d8b7b8bf",
   "metadata": {
    "id": "d8b7b8bf"
   },
   "source": [
    "### 연산자 우선순위 실습하기\n",
    "연산자 우선순위는 수학에서의 우선순위와 비슷합니다.\n",
    "\n",
    "우선 순위는 다음과 같습니다.\n",
    "![연산자 우선순위](05_Operator_priority.jpg)\n",
    "#### 높이 있을수록 우선순위가 높음\n",
    "\n",
    "현재까지 배운 연산자는 위에 나온 게 전부이며, 앞으로 연산자를 추가로 배우게 되면 알려드리도록 하겠습니다.<br>\n",
    "\n",
    "자세한 연산자 우선순위가 궁금하시다면 아래 사이트를 참고해주세요.\n",
    "https://docs.python.org/3/reference/expressions.html\n",
    "\n",
    "\n",
    "##### 다음 코드를 작성해보고 주석을 먼저 달아 본인이 생각하기에 출력될 것 같은 값을 적은 뒤 출력을 해 본인의 답과 비교해보세요.\n",
    "```python\n",
    "print(1 if 1 else 0)\n",
    "print(1 if 0 else 0)\n",
    "print(1 if -1 else 0)\n",
    "print(1 if '1' else 0)\n",
    "print(1 if '' else 0)\n",
    "print(1 if not '' else 0)\n",
    "print(1 if True else 0)\n",
    "print(1 if False else 0)\n",
    "print(1 if 1.0 else 0)\n",
    "print(1 if True and False else 0)\n",
    "print(1 if True and True else 0)\n",
    "print(1 if True and True and False else 0)\n",
    "print(1 if True or 0 else 0)\n",
    "print(1 if 0 or 0 or 0 or 1 else 0)\n",
    "print(1 if 2**5 > 31 else 0)\n",
    "print(1 if 1+1+1+1+1 < 4 else 0)\n",
    "print(1 if 1>>1 else 0)\n",
    "print(1 if 2>>1 else 0)\n",
    "print(1 if 1>>1 > 0 else 0)\n",
    "print(1 if (1 if True else 0) else 0)\n",
    "```"
   ]
  },
  {
   "cell_type": "code",
   "execution_count": 30,
   "id": "629f76ab",
   "metadata": {
    "id": "629f76ab"
   },
   "outputs": [
    {
     "name": "stdout",
     "output_type": "stream",
     "text": [
      "1\n",
      "0\n",
      "1\n",
      "1\n",
      "0\n",
      "1\n",
      "0\n",
      "1\n",
      "0\n",
      "1\n",
      "0\n",
      "1\n",
      "1\n",
      "0\n",
      "0\n",
      "1\n",
      "0\n",
      "1\n"
     ]
    }
   ],
   "source": [
    "print (1 if 1 else 0) # 1\n",
    "print(1 if 0 else 0) # 0\n",
    "print(1 if -1 else 0) # 0 -> 1\n",
    "print(1 if '1' else 0) # 1\n",
    "print(1 if '' else 0) #1 -> 0\n",
    "print(1 if True else 0) # 0 -> 1\n",
    "print(1 if False else 0) # 0\n",
    "print(1 if 1.0 else 0) # 1\n",
    "print(1 if True and False else 0) # 0\n",
    "print(1 if True and True else 0) # 1\n",
    "print(1 if True and True and False else 0) # 0\n",
    "print(1 if True or 0 else 0) #0 -> 1\n",
    "print(1 if 0 or 0 or 0 or 1 else 0) #1\n",
    "print(1 if 1+1+1+1<4 else 0) #0\n",
    "print(1 if 1>>1 else 0) # 1 -> 0 \n",
    "print(1 if 2>>1 else 0) # 1\n",
    "print(1 if 1>>1 > 0 else 0) #0\n",
    "print(1 if (1 if True else 0) else 0) # 1"
   ]
  },
  {
   "cell_type": "markdown",
   "id": "dIQY11JQ48GX",
   "metadata": {
    "id": "dIQY11JQ48GX"
   },
   "source": [
    "### 비트 연산자 (참고)\n",
    "비트 연산자란 비트 단위의 계산을 원활히 하기 위해 사용하는 연산자입니다.<br>\n",
    "직관적으로 파악하기 어려워서 파이썬이나 다른 프로그래밍 언어에 대해 조금 더 익숙해지신 다음 접근하시는 것을 추천합니다.<br>\n",
    "비트 연산자는 프로그래밍 문제를 해결하거나 개인 프로젝트에서는 자주 사용되지는 않지만 게임을 만들 때 자주 사용되는 연산자이니 관심 있는 분께서는 추가로 찾아보시기 바랍니다.<br>\n",
    "\n",
    "##### 비트 연산자의 종류\n",
    "- \\&: 두 항의 비트를 비교하여 두 항의 비트 자리 수가 모두 1인 경우 1의 값을 가집니다.\n",
    "- \\^: 두 항의 비트를 비교하여 두 항의 비트 자리 수가 다를 경우 1의 값을 가집니다.\n",
    "- \\|: 두 항의 비트를 비교하여 두 항의 비트 자리수 중 1이 있는 경우에는 1의 값을 가집니다.\n",
    "- \\>>: >>의 오른쪽 값만큼 비트를 오른쪽으로 옮깁니다.\n",
    "- \\<<: <<의 오른쪽 값만큼 비트를 오른쪽으로 옮깁니다.\n"
   ]
  },
  {
   "cell_type": "code",
   "execution_count": null,
   "id": "iYxoge-o6yzC",
   "metadata": {
    "colab": {
     "base_uri": "https://localhost:8080/"
    },
    "executionInfo": {
     "elapsed": 293,
     "status": "ok",
     "timestamp": 1640693062787,
     "user": {
      "displayName": "‍최한빈[학생](경영대학 경영학과)",
      "photoUrl": "https://lh3.googleusercontent.com/a/default-user=s64",
      "userId": "06554604358941194570"
     },
     "user_tz": -540
    },
    "id": "iYxoge-o6yzC",
    "outputId": "ae4b417c-2a7d-4c26-e512-788225048999"
   },
   "outputs": [
    {
     "name": "stdout",
     "output_type": "stream",
     "text": [
      "9\n",
      "15\n",
      "6\n",
      "6\n",
      "3\n",
      "1\n",
      "0\n",
      "26\n"
     ]
    }
   ],
   "source": [
    "# 비트 연산자 사용\n",
    "# 13(십진수): 1101(이진수)\n",
    "# 11(십진수): 1011(이진수)\n",
    "print(13 & 11) # 1001 -> 9\n",
    "print(13 | 11) # 1111 -> 15\n",
    "print(13 ^ 11) # 0110 -> 6\n",
    "print(13 >> 1) # 0110 -> 6\n",
    "print(13 >> 2) # 0011 -> 3\n",
    "print(13 >> 3) # 0001 -> 1\n",
    "print(13 >> 4) # 0000 -> 0\n",
    "print(13 << 1) # 11010 -> 26"
   ]
  }
 ],
 "metadata": {
  "colab": {
   "collapsed_sections": [],
   "name": "Step_05_Conditional_statement.ipynb",
   "provenance": []
  },
  "kernelspec": {
   "display_name": "Python 3 (ipykernel)",
   "language": "python",
   "name": "python3"
  },
  "language_info": {
   "codemirror_mode": {
    "name": "ipython",
    "version": 3
   },
   "file_extension": ".py",
   "mimetype": "text/x-python",
   "name": "python",
   "nbconvert_exporter": "python",
   "pygments_lexer": "ipython3",
   "version": "3.9.7"
  }
 },
 "nbformat": 4,
 "nbformat_minor": 5
}
