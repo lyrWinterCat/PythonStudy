{
 "cells": [
  {
   "cell_type": "markdown",
   "id": "5e128210",
   "metadata": {},
   "source": [
    "## Method와 Class\n",
    "class란 데이터 값과 함수가 상호의미적으로 연관되어있는 의미있는 묶음을 의미합니다.\n",
    "\n",
    "### 함수의 유형\n",
    "1. 내장함수(Built-in functions): Python 언어에서 기본적으로 제공하는 함수\n",
    "2. 모듈 내 함수(Functions inside modules): 모듈에 포함되어있어 모듈을 import 한 뒤 사용하는 함수(모듈명.함수명())\n",
    "3. 사용자 정의 함수(Programmer defined functions): 프로그래머가 본인의 프로그램 안에서 직접 만들어서 사용하는 함수\n",
    "4. lambda 표현식을 활용한 함수: 이름없는 함수<br>\n",
    "\n",
    "<b> 5. 메소드(Method in class): 특정 타입에 포함되어, 그 타입에 맞게 사용할 수 있는 함수</b>\n",
    "\n",
    "### Class란?\n",
    "일종의 타입이며, 데이터와 함수(Method)의 묶음입니다.<br>\n",
    "class를 통해 만든 무언가를 ``객체``라고 표현합니다.\n",
    "\n",
    "### Method란?\n",
    "class로부터 만들어지는 객체들의 함수를 Method라고 합니다.<br>\n",
    "이는 특정한 타입에 포함되는 함수입니다.<br>\n",
    "\n",
    "### Method의 활용\n",
    "``특정타입의 객체.method 이름()``"
   ]
  },
  {
   "cell_type": "code",
   "execution_count": 10,
   "id": "edaeef68",
   "metadata": {
    "scrolled": true
   },
   "outputs": [
    {
     "name": "stdout",
     "output_type": "stream",
     "text": [
      "<class 'str'>\n",
      "<class 'int'>\n",
      "<class 'float'>\n",
      "<class 'list'>\n",
      "<class 'set'>\n",
      "<class 'tuple'>\n",
      "<class 'dict'>\n",
      "\n",
      "Hanbin choi\n",
      "HANBIN CHOI\n",
      "hanbin choi\n",
      "2\n",
      "hanbin choi\n"
     ]
    }
   ],
   "source": [
    "tempString = 'Hanbin Choi'\n",
    "tempInt = 10\n",
    "tempFloat = 1.5\n",
    "tempList = [1, 2, 3]\n",
    "tempSet = set([])\n",
    "tempTuple = 1,\n",
    "tempDict = {}\n",
    "\n",
    "# 데이터 타입과 class\n",
    "print(type(tempString)) # <class 'str'>\n",
    "print(type(tempInt)) # <class 'int'>\n",
    "print(type(tempFloat)) # <class 'float'>\n",
    "print(type(tempList)) # <class 'list'>\n",
    "print(type(tempSet)) # <class 'set'>\n",
    "print(type(tempTuple)) # <class 'tuple'>\n",
    "print(type(tempDict)) # <class 'dict'>\n",
    "\n",
    "print()\n",
    "\n",
    "# str 타입에서의 Method 활용\n",
    "print(tempString.capitalize()) # Hanbin choi\n",
    "print(tempString.upper()) # HANBIN CHOI\n",
    "print(tempString.lower()) # hanbin choi\n",
    "print(tempString.count('n')) # 2\n",
    "\n",
    "# 함수처럼 사용하기\n",
    "print(str.lower(tempString)) # hanbin choi"
   ]
  }
 ],
 "metadata": {
  "kernelspec": {
   "display_name": "Python 3 (ipykernel)",
   "language": "python",
   "name": "python3"
  },
  "language_info": {
   "codemirror_mode": {
    "name": "ipython",
    "version": 3
   },
   "file_extension": ".py",
   "mimetype": "text/x-python",
   "name": "python",
   "nbconvert_exporter": "python",
   "pygments_lexer": "ipython3",
   "version": "3.9.7"
  }
 },
 "nbformat": 4,
 "nbformat_minor": 5
}
