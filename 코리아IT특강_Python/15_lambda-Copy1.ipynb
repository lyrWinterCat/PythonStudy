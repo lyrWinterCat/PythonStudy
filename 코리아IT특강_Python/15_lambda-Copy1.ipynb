{
 "cells": [
  {
   "cell_type": "markdown",
   "id": "0627f568",
   "metadata": {},
   "source": [
    "## lambda\n",
    "- 이름 없는 함수\n",
    "\n",
    "### lambda 함수란?\n",
    "실행 시간 중(runtime)에 생성해서 사용할 수 있는 이름이 없는 함수입니다.<br>\n",
    "임시로, 일시적으로 사용할 때 lambda 함수를 사용하기도 합니다.<br>\n",
    "간단한 기능을 일반적인 함수와 같이 정의하고 쓰는 것이 아니라 필요한 곳에서 바로 사용하고 버릴 수 있습니다.<br>\n",
    "혹은 lambda 함수에 이름을 붙여 반복적으로 사용하기도 합니다.<br>\n",
    "\n",
    "### lambda 함수 구조\n",
    "```python\n",
    "lambda 파라미터 집합: 파라미터에 대한 동작 후 리턴\n",
    "\n",
    "# ex) 주어진 값에 10을 더하는 lambda 함수\n",
    "lambda x: x + 10\n",
    "```\n",
    "\n",
    "### lambda 함수를 사용하는 이유\n",
    "1. runtime 중에 함수를 만들어서 사용이 가능합니다.\n",
    "2. lambda 함수에 익숙해지면 일반 함수를 만들어 사용하는 것보다 매우 간단하고, 편리하게 함수를 만들 수 있습니다."
   ]
  },
  {
   "cell_type": "markdown",
   "id": "99cb68f7",
   "metadata": {},
   "source": [
    "### lambda 표현식 사용 시 주의 사항\n",
    "1. (캡쳐한) 파라미터의 데이터 타입을 확인해야합니다.\n",
    "2. lambda 표현식 내부에 변수를 만들어서 사용할 수 없습니다.\n",
    "\n",
    "### lambda 표현식의 활용\n",
    "- map(lambda 표현식, 집합 데이터)\n",
    "- sort(key=lambda 표현식)\n",
    "    * sort함수에서 key는 정렬하는 기준 원소를 정합니다."
   ]
  }
 ],
 "metadata": {
  "kernelspec": {
   "display_name": "Python 3 (ipykernel)",
   "language": "python",
   "name": "python3"
  },
  "language_info": {
   "codemirror_mode": {
    "name": "ipython",
    "version": 3
   },
   "file_extension": ".py",
   "mimetype": "text/x-python",
   "name": "python",
   "nbconvert_exporter": "python",
   "pygments_lexer": "ipython3",
   "version": "3.9.7"
  }
 },
 "nbformat": 4,
 "nbformat_minor": 5
}
